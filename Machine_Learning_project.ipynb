{
 "cells": [
  {
   "cell_type": "markdown",
   "metadata": {},
   "source": [
    "# Machine Learning\n",
    "\n",
    "**Objective**: Predicting property sold price from HouseSigma\n"
   ]
  },
  {
   "cell_type": "code",
   "execution_count": 1,
   "metadata": {},
   "outputs": [],
   "source": [
    "import pandas as pd\n",
    "import numpy as np\n",
    "import datetime"
   ]
  },
  {
   "cell_type": "code",
   "execution_count": 218,
   "metadata": {},
   "outputs": [],
   "source": [
    "df = pd.read_csv('2020_HouseSigma_listing_details_JUST_SOLD_final.csv')"
   ]
  },
  {
   "cell_type": "code",
   "execution_count": 220,
   "metadata": {},
   "outputs": [
    {
     "data": {
      "text/plain": [
       "Index(['Listing_num', 'Address', 'Community', 'House_type', 'Listing_price',\n",
       "       'Sigma_estimate', 'Estimated_on', 'Sold_price', 'Bedroom', 'Washroom',\n",
       "       'Parking', 'Tax', 'Property_type', 'Maintenance', 'Building_age',\n",
       "       'Size', 'Basement', 'Utility_incl', 'Days_on_market', 'Rental_dom',\n",
       "       'Listed_on', 'Updated_on', 'Rental_estimate', 'Rental_yield',\n",
       "       'Major_intersection', 'Amenities', 'Exposure', 'Municipality',\n",
       "       'Description'],\n",
       "      dtype='object')"
      ]
     },
     "execution_count": 220,
     "metadata": {},
     "output_type": "execute_result"
    }
   ],
   "source": [
    "df.columns"
   ]
  },
  {
   "cell_type": "code",
   "execution_count": null,
   "metadata": {},
   "outputs": [],
   "source": [
    "#df.shape[0]"
   ]
  },
  {
   "cell_type": "code",
   "execution_count": null,
   "metadata": {},
   "outputs": [],
   "source": [
    "# # Show all columns\n",
    "# pd.set_option('display.max_columns', None)\n",
    "# df.head(30)"
   ]
  },
  {
   "cell_type": "code",
   "execution_count": 219,
   "metadata": {},
   "outputs": [],
   "source": [
    "# Removing special characters & words\n",
    "df['Days_on_market'] = df['Days_on_market'].replace(' days', '', regex=True)\n",
    "df['Size'] = df['Size'].str.replace(' (SigmaEstimate®)', '', regex=False).replace(' feet²', '', regex=True)\n",
    "df['Maintenance'] = df['Maintenance'].replace('/month', '', regex = True).replace('[\\$,)]', '', regex = True)\n",
    "df['Tax'] = df['Tax'].replace('[\\$,)]', '', regex = True)\n",
    "df['Rental_dom'] = df['Rental_dom'].str.replace(' day(s)', '', regex=False)\n",
    "df['Rental_yield'] =df['Rental_yield'].replace('%', '', regex = True)\n",
    "df[['Listing_price', 'Sigma_estimate', 'Sold_price', 'Rental_estimate']] = \\\n",
    "df[['Listing_price', 'Sigma_estimate', 'Sold_price', 'Rental_estimate']].replace('[\\$,)]', '', regex = True)\n",
    "\n",
    "\n",
    "# Removing some words\n",
    "df['Bedroom'] = df['Bedroom'].str.replace(' Bedrooms', '', regex=False)\n",
    "df['Washroom'] = df['Washroom'].str.replace(' Bathrooms', '', regex=False)\n",
    "df['Parking'] = df['Parking'] = df['Parking'].str.replace(' Garage', '', regex=False)\n",
    "\n",
    "# To capitalize all letters in the series\n",
    "df['Exposure'] = df['Exposure'].str.upper()\n",
    "\n",
    "# set a cell to NaN in a pandas dataframe\n",
    "df[['Estimated_on', 'Building_age']] = df[['Estimated_on', 'Building_age']].replace('-', np.NaN)\n",
    "df['Basement'] = df['Basement'].replace('None', np.NaN)"
   ]
  },
  {
   "cell_type": "code",
   "execution_count": 221,
   "metadata": {},
   "outputs": [],
   "source": [
    "# coercing into numeric objects\n",
    "df['Maintenance'] = pd.to_numeric(df['Maintenance'], errors='coerce')\n",
    "df['Tax'] = pd.to_numeric(df['Tax'], errors='coerce')\n",
    "df['Days_on_market'] = pd.to_numeric(df['Days_on_market'], errors='coerce')\n",
    "df['Rental_dom'] = pd.to_numeric(df['Rental_dom'], errors='coerce')\n",
    "df['Listing_price'] = pd.to_numeric(df['Listing_price'], errors='coerce')\n",
    "df['Sigma_estimate'] = pd.to_numeric(df['Sigma_estimate'], errors='coerce')\n",
    "df['Sold_price'] = pd.to_numeric(df['Sold_price'], errors='coerce')\n",
    "df['Rental_estimate'] = pd.to_numeric(df['Rental_estimate'], errors='coerce')\n",
    "df['Rental_yield'] = pd.to_numeric(df['Rental_yield'], errors='coerce')\n",
    "\n",
    "\n",
    "# Identifying incorrect size categories\n",
    "index_581 = df[df['Size'] == '581'].index\n",
    "index_900 = df[df['Size'] == '900'].index\n",
    "index_1300 = df[df['Size'] == '1300'].index\n",
    "index_br_0 = df[df['Bedroom'] == '0+1'].index\n",
    "\n",
    "# Changing 900 into 900-999\n",
    "df.loc[index_581, 'Size'] = '500-599'\n",
    "df.loc[index_900, 'Size'] = '900-999'\n",
    "df.loc[index_1300, 'Size'] = '1200-1399'\n",
    "df.loc[index_br_0, 'Bedroom'] = '0'\n",
    "\n",
    "# To change string dates into datetime objects\n",
    "# [Listed_on, Estimated_on, Updated_on]\n",
    "\n",
    "df['Estimated_on'] = pd.to_datetime(df['Estimated_on'], format = '%Y-%m-%d')\n",
    "df['Listed_on'] = pd.to_datetime(df['Listed_on'], format = '%Y-%m-%d')\n",
    "df['Updated_on'] = pd.to_datetime(df['Updated_on'], format = '%Y-%m-%d')\n",
    "\n",
    "# Changing intersection symbols\n",
    "df['Major_intersection'] = df['Major_intersection']\\\n",
    ".replace('/', '&', regex = True)\\\n",
    ".replace('And', '&', regex = True)\\\n",
    ".replace(' & ', '&', regex = True)\\\n",
    ".replace('&', ' & ', regex = True)"
   ]
  },
  {
   "cell_type": "code",
   "execution_count": null,
   "metadata": {},
   "outputs": [],
   "source": [
    "df.groupby('Parking')['Major_intersection'].count()"
   ]
  },
  {
   "cell_type": "code",
   "execution_count": null,
   "metadata": {},
   "outputs": [],
   "source": [
    "# # Renaming columns with units\n",
    "# df.rename(columns={'Listing_price': 'Listing_price ($)',\\\n",
    "#                    'Sigma_estimate': 'Sigma_estimate ($)',\\\n",
    "#                    'Sold_price': 'Sold_price ($)',\\\n",
    "#                    'Tax': 'Tax ($)',\\\n",
    "#                    'Maintenance': 'Maintenance ($/month)',\\\n",
    "#                    'Size': 'Size (feet²)',\\\n",
    "#                    'Rental_dom':'Rental_days_on_market',\\\n",
    "#                    'Rental_estimate': 'Rental_estimate ($)',\\\n",
    "#                    'Rental_yield':'Rental_yield (%)'\n",
    "#                   })"
   ]
  },
  {
   "cell_type": "code",
   "execution_count": 222,
   "metadata": {},
   "outputs": [],
   "source": [
    "df.to_csv('HouseSigma_ml_dataset.csv', index = False)"
   ]
  },
  {
   "cell_type": "markdown",
   "metadata": {},
   "source": [
    "# Machine Learning\n",
    "\n",
    "List of variables\n",
    "- Listing_num:\n",
    "- Address: \n",
    "- Community: \n",
    "- House_type: \n",
    "- Listing_price:\n",
    "- Sigma_estimate: \n",
    "- Estimated_on: \n",
    "- Sold_price: \n",
    "- Bedroom: \n",
    "- Washroom:\n",
    "- Parking: \n",
    "- Tax: \n",
    "- Property_type: \n",
    "- Maintenance: \n",
    "- Building_age:\n",
    "- Size: \n",
    "- Basement: \n",
    "- Utility_incl: \n",
    "- Date_on_market: \n",
    "- Rental_dom:\n",
    "- Listed_on: \n",
    "- Updated_on: \n",
    "- Rental_estimate: \n",
    "- Rental_yield:\n",
    "- Major_intersection: \n",
    "- Amenities: \n",
    "- Exposure: \n",
    "- Municipality:\n",
    "- Description- "
   ]
  },
  {
   "cell_type": "code",
   "execution_count": 272,
   "metadata": {},
   "outputs": [],
   "source": [
    "import sklearn\n",
    "import matplotlib.pyplot as plt\n",
    "%matplotlib inline"
   ]
  },
  {
   "cell_type": "code",
   "execution_count": 225,
   "metadata": {},
   "outputs": [],
   "source": [
    "# pd.plotting.scatter_matrix(df, figsize=(20,20)) #diagonal plots show data distribution"
   ]
  },
  {
   "cell_type": "markdown",
   "metadata": {},
   "source": [
    "### Working dataframe for regression modeling"
   ]
  },
  {
   "cell_type": "code",
   "execution_count": 235,
   "metadata": {},
   "outputs": [
    {
     "data": {
      "text/plain": [
       "(305, 29)"
      ]
     },
     "execution_count": 235,
     "metadata": {},
     "output_type": "execute_result"
    }
   ],
   "source": [
    "#import dataframe\n",
    "df = pd.read_csv('HouseSigma_ml_dataset.csv')\n",
    "df.shape"
   ]
  },
  {
   "cell_type": "code",
   "execution_count": 236,
   "metadata": {},
   "outputs": [],
   "source": [
    "# Return columns that have numerical value\n",
    "df = df.select_dtypes(include = ['float64'])\n",
    "\n",
    "# df[['Listing_price', 'Sigma_estimate', 'Sold_price', 'Tax', 'Maintenance', 'Rental_estimate', 'Rental_yield']]"
   ]
  },
  {
   "cell_type": "code",
   "execution_count": 237,
   "metadata": {},
   "outputs": [
    {
     "data": {
      "text/plain": [
       "(255, 8)"
      ]
     },
     "execution_count": 237,
     "metadata": {},
     "output_type": "execute_result"
    }
   ],
   "source": [
    "# Remove rows with NaN values; otherwise machine learning doesn't work?\n",
    "df = df.dropna()\n",
    "df.shape"
   ]
  },
  {
   "cell_type": "code",
   "execution_count": 238,
   "metadata": {},
   "outputs": [],
   "source": [
    "# df.to_csv('HouseSigma_ml_dataset_regression.csv', index = False)"
   ]
  },
  {
   "cell_type": "markdown",
   "metadata": {},
   "source": [
    "## Linear Regression\n",
    "### Train a model\n",
    "Let's now train a model\n",
    "\n",
    "For df[[colname(s)]], the interior brackets are for list, and the outside brackets are indexing operator, i.e. you must use double brackets if you select two or more columns. With one column name, single pair of brackets returns a Series, while double brackets return a dataframe."
   ]
  },
  {
   "cell_type": "code",
   "execution_count": 240,
   "metadata": {},
   "outputs": [],
   "source": [
    "# Import dataframe--only numerical values, no NaN\n",
    "df = pd.read_csv('HouseSigma_ml_dataset_regression.csv')"
   ]
  },
  {
   "cell_type": "code",
   "execution_count": 261,
   "metadata": {},
   "outputs": [],
   "source": [
    "from sklearn.model_selection import train_test_split\n",
    "# provide a dataframe of all numerical variables you want to include for X\n",
    "# provide a series of target variable\n",
    "# 'Listing_price', 'Tax', 'Maintenance', 'Rental_estimate', 'Rental_yield'\n",
    "\n",
    "\n",
    "X = df[['Tax']]\n",
    "y = df['Sold_price']\n",
    "\n",
    "X_train, X_test, y_train, y_test = train_test_split(X, y, test_size=0.3, random_state= 2020)"
   ]
  },
  {
   "cell_type": "code",
   "execution_count": 262,
   "metadata": {},
   "outputs": [
    {
     "name": "stdout",
     "output_type": "stream",
     "text": [
      "(255, 1)\n",
      "(178, 1)\n",
      "(77, 1)\n"
     ]
    }
   ],
   "source": [
    "print(X.shape)\n",
    "print(X_train.shape)\n",
    "print(X_test.shape)"
   ]
  },
  {
   "cell_type": "code",
   "execution_count": 263,
   "metadata": {},
   "outputs": [],
   "source": [
    "# Import linear repression from scikitlearn\n",
    "from sklearn.linear_model import LinearRegression\n",
    "\n",
    "#instantiate it\n",
    "lr = LinearRegression()"
   ]
  },
  {
   "cell_type": "code",
   "execution_count": 264,
   "metadata": {},
   "outputs": [
    {
     "data": {
      "text/plain": [
       "LinearRegression()"
      ]
     },
     "execution_count": 264,
     "metadata": {},
     "output_type": "execute_result"
    }
   ],
   "source": [
    "# now train the model\n",
    "lr.fit(X_train, y_train)"
   ]
  },
  {
   "cell_type": "code",
   "execution_count": 265,
   "metadata": {},
   "outputs": [
    {
     "data": {
      "text/plain": [
       "array([90.41454039])"
      ]
     },
     "execution_count": 265,
     "metadata": {},
     "output_type": "execute_result"
    }
   ],
   "source": [
    "lr.coef_ # theta1, slope"
   ]
  },
  {
   "cell_type": "code",
   "execution_count": 266,
   "metadata": {},
   "outputs": [
    {
     "data": {
      "text/plain": [
       "420692.87340322323"
      ]
     },
     "execution_count": 266,
     "metadata": {},
     "output_type": "execute_result"
    }
   ],
   "source": [
    "lr.intercept_ #theta0, bias"
   ]
  },
  {
   "cell_type": "markdown",
   "metadata": {},
   "source": [
    "### Make predictions\n",
    "Now making predictions and evaluate the performance of the model on the test set"
   ]
  },
  {
   "cell_type": "code",
   "execution_count": 267,
   "metadata": {},
   "outputs": [],
   "source": [
    "y_pred = lr.predict(X_test)"
   ]
  },
  {
   "cell_type": "code",
   "execution_count": 268,
   "metadata": {},
   "outputs": [
    {
     "name": "stdout",
     "output_type": "stream",
     "text": [
      "2258697977.5991015\n",
      "0.4181762003752293\n"
     ]
    }
   ],
   "source": [
    "from sklearn.metrics import mean_squared_error, r2_score\n",
    "\n",
    "mse_test = mean_squared_error(y_test, y_pred)\n",
    "r2_test = r2_score(y_test, y_pred)\n",
    "print(mse_test)\n",
    "print(r2_test)"
   ]
  },
  {
   "cell_type": "code",
   "execution_count": 258,
   "metadata": {},
   "outputs": [
    {
     "data": {
      "text/plain": [
       "array([[2342.],\n",
       "       [2725.],\n",
       "       [2565.],\n",
       "       [1739.],\n",
       "       [2465.],\n",
       "       [2369.],\n",
       "       [1853.],\n",
       "       [2759.],\n",
       "       [2866.],\n",
       "       [2237.],\n",
       "       [1949.],\n",
       "       [3058.],\n",
       "       [2195.],\n",
       "       [1962.],\n",
       "       [2230.],\n",
       "       [2351.],\n",
       "       [1949.],\n",
       "       [2379.],\n",
       "       [2363.],\n",
       "       [2177.],\n",
       "       [2315.],\n",
       "       [2111.],\n",
       "       [1973.],\n",
       "       [2717.],\n",
       "       [2093.],\n",
       "       [2393.],\n",
       "       [2567.],\n",
       "       [2524.],\n",
       "       [2806.],\n",
       "       [2141.],\n",
       "       [2243.],\n",
       "       [2117.],\n",
       "       [2555.],\n",
       "       [2249.],\n",
       "       [2231.],\n",
       "       [2243.],\n",
       "       [2231.],\n",
       "       [1889.],\n",
       "       [2501.],\n",
       "       [2417.],\n",
       "       [2327.],\n",
       "       [2765.],\n",
       "       [3449.],\n",
       "       [2021.],\n",
       "       [2069.],\n",
       "       [3088.],\n",
       "       [2600.],\n",
       "       [2321.],\n",
       "       [2807.],\n",
       "       [2543.],\n",
       "       [2333.],\n",
       "       [2051.],\n",
       "       [2183.],\n",
       "       [2861.],\n",
       "       [2057.],\n",
       "       [1907.],\n",
       "       [2326.],\n",
       "       [2511.],\n",
       "       [2855.],\n",
       "       [2327.],\n",
       "       [2210.],\n",
       "       [2699.],\n",
       "       [3178.],\n",
       "       [2522.],\n",
       "       [2423.],\n",
       "       [1823.],\n",
       "       [2351.],\n",
       "       [1900.],\n",
       "       [2621.],\n",
       "       [2015.],\n",
       "       [2081.],\n",
       "       [2309.],\n",
       "       [2519.],\n",
       "       [2872.],\n",
       "       [1769.],\n",
       "       [2219.],\n",
       "       [2027.]])"
      ]
     },
     "execution_count": 258,
     "metadata": {},
     "output_type": "execute_result"
    }
   ],
   "source": [
    "X_test.values"
   ]
  },
  {
   "cell_type": "code",
   "execution_count": 259,
   "metadata": {},
   "outputs": [
    {
     "data": {
      "text/plain": [
       "array([550000., 695000., 590000., 555000., 645000., 655000., 560000.,\n",
       "       715000., 613500., 547000., 544000., 771555., 590000., 572000.,\n",
       "       650000., 612000., 553000., 601000., 620000., 619000., 662000.,\n",
       "       565000., 547000., 746000., 610000., 630000., 753425., 582000.,\n",
       "       700000., 620000., 643000., 608000., 675000., 605000., 625000.,\n",
       "       575000., 585000., 540000., 580000., 661000., 579900., 741100.,\n",
       "       699900., 585000., 565000., 780000., 550000., 622000., 675000.,\n",
       "       692000., 553000., 585000., 560000., 645000., 580000., 590000.,\n",
       "       580000., 600000., 647500., 635000., 572500., 620000., 760000.,\n",
       "       673000., 710000., 580000., 715500., 650000., 590300., 659000.,\n",
       "       619500., 580000., 608000., 780000., 585000., 641000., 572000.])"
      ]
     },
     "execution_count": 259,
     "metadata": {},
     "output_type": "execute_result"
    }
   ],
   "source": [
    "y_test.values"
   ]
  },
  {
   "cell_type": "code",
   "execution_count": 269,
   "metadata": {},
   "outputs": [
    {
     "data": {
      "text/plain": [
       "(77, 1)"
      ]
     },
     "execution_count": 269,
     "metadata": {},
     "output_type": "execute_result"
    }
   ],
   "source": [
    "X_test.values.shape"
   ]
  },
  {
   "cell_type": "code",
   "execution_count": 274,
   "metadata": {},
   "outputs": [
    {
     "data": {
      "text/plain": [
       "(77,)"
      ]
     },
     "execution_count": 274,
     "metadata": {},
     "output_type": "execute_result"
    }
   ],
   "source": [
    "y_pred.shape"
   ]
  },
  {
   "cell_type": "code",
   "execution_count": 276,
   "metadata": {},
   "outputs": [
    {
     "data": {
      "text/plain": [
       "[<matplotlib.lines.Line2D at 0xacf74b6fa0>]"
      ]
     },
     "execution_count": 276,
     "metadata": {},
     "output_type": "execute_result"
    },
    {
     "data": {
      "image/png": "[encoded data removed]",
      "text/plain": [
       "<Figure size 432x288 with 1 Axes>"
      ]
     },
     "metadata": {
      "needs_background": "light"
     },
     "output_type": "display_data"
    }
   ],
   "source": [
    "plt.scatter(X_test.values, y_test.values, color='black')\n",
    "plt.plot(X_test.values, y_pred, color='blue', linewidth=3)"
   ]
  },
  {
   "cell_type": "markdown",
   "metadata": {},
   "source": [
    "### Create a function that uses Linear Regression"
   ]
  },
  {
   "cell_type": "code",
   "execution_count": 277,
   "metadata": {},
   "outputs": [
    {
     "name": "stdout",
     "output_type": "stream",
     "text": [
      "<class 'pandas.core.frame.DataFrame'>\n",
      "RangeIndex: 255 entries, 0 to 254\n",
      "Data columns (total 8 columns):\n",
      " #   Column           Non-Null Count  Dtype  \n",
      "---  ------           --------------  -----  \n",
      " 0   Listing_price    255 non-null    float64\n",
      " 1   Sigma_estimate   255 non-null    float64\n",
      " 2   Sold_price       255 non-null    float64\n",
      " 3   Tax              255 non-null    float64\n",
      " 4   Maintenance      255 non-null    float64\n",
      " 5   Rental_dom       255 non-null    float64\n",
      " 6   Rental_estimate  255 non-null    float64\n",
      " 7   Rental_yield     255 non-null    float64\n",
      "dtypes: float64(8)\n",
      "memory usage: 16.1 KB\n"
     ]
    }
   ],
   "source": [
    "df.info()"
   ]
  },
  {
   "cell_type": "code",
   "execution_count": 332,
   "metadata": {},
   "outputs": [],
   "source": [
    "def get_lr_mse_r2(df, list_features):\n",
    "    X = df[list_features]\n",
    "    y = df['Sold_price']\n",
    "    X_train, X_test, y_train, y_test = train_test_split(X, y, test_size = 0.3, random_state = 2020)\n",
    "    \n",
    "    #instantiate and fit\n",
    "    from sklearn.linear_model import LinearRegression\n",
    "    lr = LinearRegression()\n",
    "    lr.fit(X_train, y_train)\n",
    "    \n",
    "    # coefficients & bias\n",
    "    coeff = lr.coef_\n",
    "    y_int = lr.intercept_\n",
    "    print(\"Coefficient(s): \", coeff)\n",
    "    print(\"Bias: \", y_int)\n",
    "    \n",
    "    # making predictions\n",
    "    y_pred = lr.predict(X_test)\n",
    "    \n",
    "    # metrics of performance\n",
    "    from sklearn.metrics import mean_squared_error, r2_score\n",
    "    mse = mean_squared_error(y_test, y_pred)\n",
    "    r2 = r2_score(y_test, y_pred)\n",
    "    print(\"MSE: \", mse)\n",
    "    print(\"R2: \", r2)\n",
    "    \n",
    "    # plot\n",
    "    # add the plot for predicted vs actuals as well as reference line...\n",
    "    plt.scatter(y_pred, y_test.values, color='black')\n",
    "    plt.plot(y_test.values, y_test.values, color='red', linewidth=3) # reference line\n",
    "    \n",
    "    # Create an empty dict\n",
    "    dict_lr = dict()\n",
    "    # Populate dicitonary\n",
    "    dict_lr['Features'] = list_features\n",
    "    dict_lr['MSE'] = mse\n",
    "    dict_lr['R2'] = r2\n",
    "    dict_lr['Coefficient(s)'] = coeff\n",
    "    dict_lr['Bias'] = y_int\n",
    "    \n",
    "    return dict_lr"
   ]
  },
  {
   "cell_type": "code",
   "execution_count": 370,
   "metadata": {},
   "outputs": [
    {
     "name": "stdout",
     "output_type": "stream",
     "text": [
      "Coefficient(s):  [ 6.84145536e-01  3.78058291e+01  1.80024189e+01  1.86847697e+01\n",
      " -1.39076055e+03]\n",
      "Bias:  82361.34972782026\n",
      "MSE:  1152755716.7263288\n",
      "R2:  0.703058701164724\n"
     ]
    },
    {
     "data": {
      "image/png": "[encoded data removed]",
      "text/plain": [
       "<Figure size 432x288 with 1 Axes>"
      ]
     },
     "metadata": {
      "needs_background": "light"
     },
     "output_type": "display_data"
    }
   ],
   "source": [
    "dict_lr = get_lr_mse_r2(df, ['Listing_price', 'Tax', 'Maintenance', 'Rental_estimate','Rental_dom'])"
   ]
  },
  {
   "cell_type": "code",
   "execution_count": 344,
   "metadata": {},
   "outputs": [
    {
     "name": "stdout",
     "output_type": "stream",
     "text": [
      "Coefficient(s):  [ 6.84145536e-01  3.78058291e+01  1.80024189e+01  1.86847697e+01\n",
      " -1.39076055e+03]\n",
      "Bias:  82361.34972782026\n",
      "MSE:  1152755716.7263288\n",
      "R2:  0.703058701164724\n"
     ]
    },
    {
     "data": {
      "image/png": "[encoded data removed]",
      "text/plain": [
       "<Figure size 432x288 with 1 Axes>"
      ]
     },
     "metadata": {
      "needs_background": "light"
     },
     "output_type": "display_data"
    }
   ],
   "source": [
    "dict_all = get_lr_mse_r2(df, ['Listing_price', 'Tax', 'Maintenance', 'Rental_estimate', 'Rental_dom'])"
   ]
  },
  {
   "cell_type": "code",
   "execution_count": 345,
   "metadata": {},
   "outputs": [
    {
     "data": {
      "text/plain": [
       "{'Features': ['Listing_price',\n",
       "  'Tax',\n",
       "  'Maintenance',\n",
       "  'Rental_estimate',\n",
       "  'Rental_dom'],\n",
       " 'MSE': 1152755716.7263288,\n",
       " 'R2': 0.703058701164724,\n",
       " 'Coefficient(s)': array([ 6.84145536e-01,  3.78058291e+01,  1.80024189e+01,  1.86847697e+01,\n",
       "        -1.39076055e+03]),\n",
       " 'Bias': 82361.34972782026}"
      ]
     },
     "execution_count": 345,
     "metadata": {},
     "output_type": "execute_result"
    }
   ],
   "source": [
    "dict_all"
   ]
  },
  {
   "cell_type": "code",
   "execution_count": 346,
   "metadata": {},
   "outputs": [
    {
     "data": {
      "text/plain": [
       "<BarContainer object of 5 artists>"
      ]
     },
     "execution_count": 346,
     "metadata": {},
     "output_type": "execute_result"
    },
    {
     "data": {
      "image/png": "[encoded data removed]",
      "text/plain": [
       "<Figure size 432x288 with 1 Axes>"
      ]
     },
     "metadata": {
      "needs_background": "light"
     },
     "output_type": "display_data"
    }
   ],
   "source": [
    "plt.bar(x = 'Features', height= 'Coefficient(s)', data = dict_all)"
   ]
  },
  {
   "cell_type": "code",
   "execution_count": 349,
   "metadata": {},
   "outputs": [],
   "source": [
    "pd.Series(data=dict_all['Coefficient(s)'], index=dict_all['Features']).sort_values().plot('bar')"
   ]
  },
  {
   "cell_type": "markdown",
   "metadata": {},
   "source": [
    "### Data Scaling"
   ]
  },
  {
   "cell_type": "code",
   "execution_count": 351,
   "metadata": {},
   "outputs": [],
   "source": [
    "# Create df with 4 features\n",
    "# 'Listing_price', 'Tax', 'Maintenance', 'Rental_estimate'\n",
    "\n",
    "df_aux = df[['Listing_price', 'Tax', 'Maintenance', 'Rental_estimate', 'Rental_dom', 'Sold_price']]"
   ]
  },
  {
   "cell_type": "code",
   "execution_count": 352,
   "metadata": {},
   "outputs": [],
   "source": [
    "# Split then scale data\n",
    "df_train, df_test = train_test_split(df_aux, test_size = 0.3, random_state=2020)"
   ]
  },
  {
   "cell_type": "code",
   "execution_count": 353,
   "metadata": {},
   "outputs": [],
   "source": [
    "from sklearn.preprocessing import MinMaxScaler\n",
    "# Instantiate scaler\n",
    "scaler = MinMaxScaler()\n",
    "# from sklearn.preprocessing import StandardScaler\n",
    "#scaler = StandardScaler"
   ]
  },
  {
   "cell_type": "code",
   "execution_count": 354,
   "metadata": {},
   "outputs": [],
   "source": [
    "X_train_scaled = scaler.fit_transform(df_train.drop(columns = 'Sold_price'))\n",
    "X_test_scaled = scaler.transform(df_test.drop(columns = 'Sold_price')) # fit should only apply in the training set\n",
    "y_train = df_train['Sold_price']\n",
    "y_test = df_test['Sold_price']"
   ]
  },
  {
   "cell_type": "code",
   "execution_count": 355,
   "metadata": {},
   "outputs": [],
   "source": [
    "# train a Ridge Regression model on unscaled data\n",
    "# Get the MSE\n",
    "# Scale the features using MinMiza Scaler\n",
    "\n",
    "from sklearn.linear_model import Ridge\n",
    "\n",
    "X = df_aux.drop(columns = 'Sold_price')\n",
    "y = df_aux['Sold_price']\n",
    "X_train, X_test, y_train, y_test = train_test_split(X, y, test_size = 0.3, random_state=2020)"
   ]
  },
  {
   "cell_type": "code",
   "execution_count": 356,
   "metadata": {},
   "outputs": [
    {
     "data": {
      "text/plain": [
       "Ridge(alpha=0.5)"
      ]
     },
     "execution_count": 356,
     "metadata": {},
     "output_type": "execute_result"
    }
   ],
   "source": [
    "ridge = Ridge(alpha=0.5)\n",
    "ridge.fit(X_train, y_train)"
   ]
  },
  {
   "cell_type": "code",
   "execution_count": 357,
   "metadata": {},
   "outputs": [
    {
     "name": "stdout",
     "output_type": "stream",
     "text": [
      "MSE training =  1367490427.7421541\n",
      "MSE test =  1152754329.589753\n"
     ]
    }
   ],
   "source": [
    "y_pred_test = ridge.predict(X_test)\n",
    "y_pred_train = ridge.predict(X_train)\n",
    "\n",
    "\n",
    "print(\"MSE training = \", mean_squared_error(y_train, y_pred_train))\n",
    "print(\"MSE test = \", mean_squared_error(y_test, y_pred_test))"
   ]
  },
  {
   "cell_type": "code",
   "execution_count": 359,
   "metadata": {},
   "outputs": [
    {
     "data": {
      "text/plain": [
       "array([ 6.84143869e-01,  3.78054999e+01,  1.80022258e+01,  1.86857144e+01,\n",
       "       -1.39052402e+03])"
      ]
     },
     "execution_count": 359,
     "metadata": {},
     "output_type": "execute_result"
    }
   ],
   "source": [
    "ridge.coef_"
   ]
  },
  {
   "cell_type": "code",
   "execution_count": 360,
   "metadata": {},
   "outputs": [
    {
     "data": {
      "text/plain": [
       "82356.91562469525"
      ]
     },
     "execution_count": 360,
     "metadata": {},
     "output_type": "execute_result"
    }
   ],
   "source": [
    "ridge.intercept_"
   ]
  },
  {
   "cell_type": "code",
   "execution_count": 361,
   "metadata": {},
   "outputs": [
    {
     "data": {
      "text/plain": [
       "0.5"
      ]
     },
     "execution_count": 361,
     "metadata": {},
     "output_type": "execute_result"
    }
   ],
   "source": [
    "ridge.alpha"
   ]
  },
  {
   "cell_type": "code",
   "execution_count": 363,
   "metadata": {},
   "outputs": [
    {
     "name": "stdout",
     "output_type": "stream",
     "text": [
      "MSE training =  1367490426.8182755\n",
      "MSE test =  1152755716.726343\n"
     ]
    }
   ],
   "source": [
    "# Train a new Ridge Regression model on the scaled data\n",
    "# Get the MSE\n",
    "ridge.fit(X_train_scaled, y_train)\n",
    "\n",
    "y_pred_train_scaled = lr.predict(X_train_scaled)\n",
    "y_pred_test_scaled = lr.predict(X_test_scaled)\n",
    "\n",
    "print(\"MSE training = \", mean_squared_error(y_train, y_pred_train_scaled))\n",
    "print(\"MSE test = \", mean_squared_error(y_test, y_pred_test_scaled))"
   ]
  },
  {
   "cell_type": "markdown",
   "metadata": {},
   "source": [
    "Unfortunately, scaling didn't improve(decrease) MSE (e.i. 1317878624.7231271 vs 1325537147.0593164)"
   ]
  },
  {
   "cell_type": "code",
   "execution_count": 364,
   "metadata": {},
   "outputs": [],
   "source": [
    "# Train with unscaled data\n",
    "\n",
    "def get_ridge_mse_r2(df, list_features):\n",
    "    X = df[list_features]\n",
    "    y = df['Sold_price']\n",
    "    X_train, X_test, y_train, y_test = train_test_split(X, y, test_size = 0.3, random_state = 2020)\n",
    "    \n",
    "    #instantiate and fit\n",
    "    from sklearn.linear_model import Ridge\n",
    "    ridge = Ridge()\n",
    "    ridge.fit(X_train, y_train)\n",
    "    \n",
    "    # coefficients & bias\n",
    "    coeff = ridge.coef_\n",
    "    y_int = ridge.intercept_\n",
    "    print(\"Coefficient(s): \", coeff)\n",
    "    print(\"Bias: \", y_int)\n",
    "    \n",
    "    # making predictions\n",
    "    y_pred = ridge.predict(X_test)\n",
    "    \n",
    "    # metrics of performance\n",
    "    from sklearn.metrics import mean_squared_error, r2_score\n",
    "    mse = mean_squared_error(y_test, y_pred)\n",
    "    r2 = r2_score(y_test, y_pred)\n",
    "    print(\"MSE: \", mse)\n",
    "    print(\"R2: \", r2)\n",
    "    \n",
    "    # plot\n",
    "    plt.scatter(y_pred, y_test.values, color='black')\n",
    "    plt.plot(y_test.values, y_test.values, color='red', linewidth=3) # reference line\n",
    "\n",
    "    # Create an empty dict\n",
    "    dict_ridge = dict()\n",
    "    # Populate dicitonary\n",
    "    dict_ridge['Features'] = list_features\n",
    "    dict_ridge['MSE'] = mse\n",
    "    dict_ridge['R2'] = r2\n",
    "    dict_ridge['Coefficient(s)'] = coeff\n",
    "    dict_ridge['Bias'] = y_int\n",
    "    \n",
    "    return dict_ridge"
   ]
  },
  {
   "cell_type": "code",
   "execution_count": 366,
   "metadata": {},
   "outputs": [
    {
     "name": "stdout",
     "output_type": "stream",
     "text": [
      "Coefficient(s):  [ 6.84142202e-01  3.78051708e+01  1.80020327e+01  1.86866588e+01\n",
      " -1.39028757e+03]\n",
      "Bias:  82352.48302966543\n",
      "MSE:  1152752944.9518123\n",
      "R2:  0.7030594151532239\n"
     ]
    },
    {
     "data": {
      "image/png": "[encoded data removed]",
      "text/plain": [
       "<Figure size 432x288 with 1 Axes>"
      ]
     },
     "metadata": {
      "needs_background": "light"
     },
     "output_type": "display_data"
    }
   ],
   "source": [
    "dict_ridge = get_ridge_mse_r2(df,['Listing_price', 'Tax', 'Maintenance', 'Rental_estimate', 'Rental_dom'])"
   ]
  },
  {
   "cell_type": "markdown",
   "metadata": {},
   "source": [
    "### Lasso"
   ]
  },
  {
   "cell_type": "code",
   "execution_count": 59,
   "metadata": {},
   "outputs": [],
   "source": [
    "from sklearn.linear_model import Lasso\n",
    "# Instantiate\n",
    "lasso = Lasso()"
   ]
  },
  {
   "cell_type": "code",
   "execution_count": 367,
   "metadata": {},
   "outputs": [],
   "source": [
    "# Train with unscaled data\n",
    "\n",
    "def get_lasso_mse_r2(df, list_features):\n",
    "    X = df[list_features]\n",
    "    y = df['Sold_price']\n",
    "    X_train, X_test, y_train, y_test = train_test_split(X, y, test_size = 0.3, random_state = 2020)\n",
    "    \n",
    "    #instantiate and fit\n",
    "    from sklearn.linear_model import Lasso\n",
    "    lasso = Lasso()\n",
    "    lasso.fit(X_train, y_train)\n",
    "    \n",
    "    # coefficients & bias\n",
    "    coeff = lasso.coef_\n",
    "    y_int = lasso.intercept_\n",
    "    print(\"Coefficient(s): \", coeff)\n",
    "    print(\"Bias: \", y_int)\n",
    "    \n",
    "    # making predictions\n",
    "    y_pred = lasso.predict(X_test)\n",
    "    \n",
    "    # metrics of performance\n",
    "    from sklearn.metrics import mean_squared_error, r2_score\n",
    "    mse = mean_squared_error(y_test, y_pred)\n",
    "    r2 = r2_score(y_test, y_pred)\n",
    "    print(\"MSE: \", mse)\n",
    "    print(\"R2: \", r2)\n",
    "    \n",
    "    # plot\n",
    "    plt.scatter(y_pred, y_test.values, color='black',)\n",
    "    plt.plot(y_test.values, y_test.values, color='red', linewidth=3)\n",
    "\n",
    "    # Create an empty dict\n",
    "    dict_lasso = dict()\n",
    "    # Populate dicitonary\n",
    "    dict_lasso['Features'] = list_features\n",
    "    dict_lasso['MSE'] = mse\n",
    "    dict_lasso['R2'] = r2\n",
    "    dict_lasso['Coefficient(s)'] = coeff\n",
    "    dict_lasso['Bias'] = y_int\n",
    "    \n",
    "    return dict_lasso"
   ]
  },
  {
   "cell_type": "code",
   "execution_count": 369,
   "metadata": {},
   "outputs": [
    {
     "name": "stdout",
     "output_type": "stream",
     "text": [
      "Coefficient(s):  [ 6.84145166e-01  3.78057383e+01  1.80023221e+01  1.86850093e+01\n",
      " -1.39070010e+03]\n",
      "Bias:  82360.22555235529\n",
      "MSE:  1152755310.4008696\n",
      "R2:  0.7030588058311402\n"
     ]
    },
    {
     "data": {
      "image/png": "[encoded data removed]",
      "text/plain": [
       "<Figure size 432x288 with 1 Axes>"
      ]
     },
     "metadata": {
      "needs_background": "light"
     },
     "output_type": "display_data"
    }
   ],
   "source": [
    "dict_lasso = get_lasso_mse_r2(df,['Listing_price', 'Tax', 'Maintenance', 'Rental_estimate', 'Rental_dom'])"
   ]
  },
  {
   "cell_type": "code",
   "execution_count": 371,
   "metadata": {},
   "outputs": [
    {
     "name": "stdout",
     "output_type": "stream",
     "text": [
      "{'Features': ['Listing_price', 'Tax', 'Maintenance', 'Rental_estimate', 'Rental_dom'], 'MSE': 1152755310.4008696, 'R2': 0.7030588058311402, 'Coefficient(s)': array([ 6.84145166e-01,  3.78057383e+01,  1.80023221e+01,  1.86850093e+01,\n",
      "       -1.39070010e+03]), 'Bias': 82360.22555235529}\n",
      "{'Features': ['Listing_price', 'Tax', 'Maintenance', 'Rental_estimate', 'Rental_dom'], 'MSE': 1152752944.9518123, 'R2': 0.7030594151532239, 'Coefficient(s)': array([ 6.84142202e-01,  3.78051708e+01,  1.80020327e+01,  1.86866588e+01,\n",
      "       -1.39028757e+03]), 'Bias': 82352.48302966543}\n",
      "{'Features': ['Listing_price', 'Tax', 'Maintenance', 'Rental_estimate', 'Rental_dom'], 'MSE': 1152755716.7263288, 'R2': 0.703058701164724, 'Coefficient(s)': array([ 6.84145536e-01,  3.78058291e+01,  1.80024189e+01,  1.86847697e+01,\n",
      "       -1.39076055e+03]), 'Bias': 82361.34972782026}\n"
     ]
    }
   ],
   "source": [
    "print(dict_lasso)\n",
    "print(dict_ridge)\n",
    "print(dict_lr)"
   ]
  },
  {
   "cell_type": "code",
   "execution_count": 376,
   "metadata": {},
   "outputs": [],
   "source": [
    "# Train with scaled data\n",
    "\n",
    "def get_ridge_mse_r2_scaled(df):\n",
    "    # Split data first*\n",
    "    df_train, df_test = train_test_split(df, test_size = 0.3, random_state=2020)\n",
    "    \n",
    "    # Scale data next*\n",
    "    scaler = MinMaxScaler()\n",
    "    X_train_scaled = scaler.fit_transform(df_train.drop(columns = ['Sold_price', 'Sigma_estimate', 'Rental_yield']))\n",
    "    X_test_scaled = scaler.transform(df_test.drop(columns = ['Sold_price', 'Sigma_estimate', 'Rental_yield']))\n",
    "    y_train = df_train['Sold_price']\n",
    "    y_test = df_test['Sold_price']\n",
    "    \n",
    "    \n",
    "    #instantiate and fit\n",
    "    ridge = Ridge()\n",
    "    ridge.fit(X_train_scaled, y_train)\n",
    "    \n",
    "    # coefficients & bias\n",
    "    coeff = ridge.coef_\n",
    "    y_int = ridge.intercept_\n",
    "    print(\"Coefficient(s): \", coeff)\n",
    "    print(\"Bias: \", y_int)\n",
    "    \n",
    "    # making predictions\n",
    "    y_pred = ridge.predict(X_test_scaled)\n",
    "    \n",
    "    # metrics of performance\n",
    "    from sklearn.metrics import mean_squared_error, r2_score\n",
    "    mse = mean_squared_error(y_test, y_pred)\n",
    "    r2 = r2_score(y_test, y_pred)\n",
    "    print(\"MSE: \", mse)\n",
    "    print(\"R2: \", r2)\n",
    "    \n",
    "    # plot\n",
    "    plt.scatter(y_pred, y_test.values, color='black',)\n",
    "    plt.plot(y_test.values, y_test.values, color='red', linewidth=3)\n",
    "\n",
    "    # Create an empty dict\n",
    "    dict_ridge = dict()\n",
    "    # Populate dicitonary\n",
    "    dict_ridge['Features'] = df_train.drop(columns = ['Sold_price', 'Sigma_estimate', 'Rental_yield']).columns\n",
    "    dict_ridge['MSE'] = mse\n",
    "    dict_ridge['R2'] = r2\n",
    "    dict_ridge['Coefficient(s)'] = coeff\n",
    "    dict_ridge['Bias'] = y_int\n",
    "    \n",
    "    return dict_ridge"
   ]
  },
  {
   "cell_type": "code",
   "execution_count": 377,
   "metadata": {},
   "outputs": [
    {
     "data": {
      "text/plain": [
       "{'Features': ['Listing_price',\n",
       "  'Tax',\n",
       "  'Maintenance',\n",
       "  'Rental_estimate',\n",
       "  'Rental_dom'],\n",
       " 'MSE': 1152752944.9518123,\n",
       " 'R2': 0.7030594151532239,\n",
       " 'Coefficient(s)': array([ 6.84142202e-01,  3.78051708e+01,  1.80020327e+01,  1.86866588e+01,\n",
       "        -1.39028757e+03]),\n",
       " 'Bias': 82352.48302966543}"
      ]
     },
     "execution_count": 377,
     "metadata": {},
     "output_type": "execute_result"
    }
   ],
   "source": [
    "dict_ridge"
   ]
  },
  {
   "cell_type": "code",
   "execution_count": 378,
   "metadata": {},
   "outputs": [
    {
     "name": "stdout",
     "output_type": "stream",
     "text": [
      "Coefficient(s):  [157316.8099896   98462.88673368  18497.10256453 -27207.44098813\n",
      "  48323.44962841]\n",
      "Bias:  477199.28794483293\n",
      "MSE:  1249927405.1603482\n",
      "R2:  0.6780279969531181\n"
     ]
    },
    {
     "data": {
      "text/plain": [
       "{'MSE': 1249927405.1603482,\n",
       " 'R2': 0.6780279969531181,\n",
       " 'Coefficient(s)': array([157316.8099896 ,  98462.88673368,  18497.10256453, -27207.44098813,\n",
       "         48323.44962841]),\n",
       " 'Bias': 477199.28794483293}"
      ]
     },
     "execution_count": 378,
     "metadata": {},
     "output_type": "execute_result"
    },
    {
     "data": {
      "image/png": "[encoded data removed]",
      "text/plain": [
       "<Figure size 432x288 with 1 Axes>"
      ]
     },
     "metadata": {
      "needs_background": "light"
     },
     "output_type": "display_data"
    }
   ],
   "source": [
    "dict_ridge_scaled = get_ridge_mse_r2_scaled(df)\n",
    "dict_ridge_scaled"
   ]
  },
  {
   "cell_type": "code",
   "execution_count": 379,
   "metadata": {},
   "outputs": [],
   "source": [
    "# Train with scaled data\n",
    "\n",
    "def get_lasso_mse_r2_scaled(df):\n",
    "    # Split data first*\n",
    "    df_train, df_test = train_test_split(df, test_size = 0.3, random_state=2020)\n",
    "    \n",
    "    # Scale data next*\n",
    "    scaler = MinMaxScaler()\n",
    "    X_train_scaled = scaler.fit_transform(df_train.drop(columns = ['Sold_price', 'Sigma_estimate', 'Rental_yield']))\n",
    "    X_test_scaled = scaler.transform(df_test.drop(columns = ['Sold_price', 'Sigma_estimate', 'Rental_yield']))\n",
    "    y_train = df_train['Sold_price']\n",
    "    y_test = df_test['Sold_price']\n",
    "    \n",
    "    \n",
    "    #instantiate and fit\n",
    "    lasso = Lasso()\n",
    "    lasso.fit(X_train_scaled, y_train)\n",
    "    \n",
    "    # coefficients & bias\n",
    "    coeff = lasso.coef_\n",
    "    y_int = lasso.intercept_\n",
    "    print(\"Coefficient(s): \", coeff)\n",
    "    print(\"Bias: \", y_int)\n",
    "    \n",
    "    # making predictions\n",
    "    y_pred = lasso.predict(X_test_scaled)\n",
    "    \n",
    "    # metrics of performance\n",
    "    from sklearn.metrics import mean_squared_error, r2_score\n",
    "    mse = mean_squared_error(y_test, y_pred)\n",
    "    r2 = r2_score(y_test, y_pred)\n",
    "    print(\"MSE: \", mse)\n",
    "    print(\"R2: \", r2)\n",
    "    \n",
    "    # plot\n",
    "    plt.scatter(y_pred, y_test.values, color='black',)\n",
    "    plt.plot(y_test.values, y_test.values, color='red', linewidth=3)\n",
    "\n",
    "    # Create an empty dict\n",
    "    dict_lasso = dict()\n",
    "    # Populate dicitonary\n",
    "    dict_lasso['Features'] = df_train.drop(columns = ['Sold_price', 'Sigma_estimate', 'Rental_yield']).columns\n",
    "    dict_lasso['MSE'] = mse\n",
    "    dict_lasso['R2'] = r2\n",
    "    dict_lasso['Coefficient(s)'] = coeff\n",
    "    dict_lasso['Bias'] = y_int\n",
    "    \n",
    "    return dict_lasso"
   ]
  },
  {
   "cell_type": "code",
   "execution_count": 381,
   "metadata": {},
   "outputs": [
    {
     "data": {
      "text/plain": [
       "{'Features': ['Listing_price',\n",
       "  'Tax',\n",
       "  'Maintenance',\n",
       "  'Rental_estimate',\n",
       "  'Rental_dom'],\n",
       " 'MSE': 1152755310.4008696,\n",
       " 'R2': 0.7030588058311402,\n",
       " 'Coefficient(s)': array([ 6.84145166e-01,  3.78057383e+01,  1.80023221e+01,  1.86850093e+01,\n",
       "        -1.39070010e+03]),\n",
       " 'Bias': 82360.22555235529}"
      ]
     },
     "execution_count": 381,
     "metadata": {},
     "output_type": "execute_result"
    }
   ],
   "source": [
    "dict_lasso"
   ]
  },
  {
   "cell_type": "code",
   "execution_count": 382,
   "metadata": {},
   "outputs": [
    {
     "name": "stdout",
     "output_type": "stream",
     "text": [
      "Coefficient(s):  [170433.25110687 133300.94066678  15999.87830913 -36124.04563656\n",
      "  45278.36636476]\n",
      "Bias:  451286.6448181631\n",
      "MSE:  1152845061.799474\n",
      "R2:  0.7030356865383991\n"
     ]
    },
    {
     "data": {
      "image/png": "[encoded data removed]",
      "text/plain": [
       "<Figure size 432x288 with 1 Axes>"
      ]
     },
     "metadata": {
      "needs_background": "light"
     },
     "output_type": "display_data"
    }
   ],
   "source": [
    "dict_lasso_scaled = get_lasso_mse_r2_scaled(df)"
   ]
  },
  {
   "cell_type": "code",
   "execution_count": 88,
   "metadata": {},
   "outputs": [
    {
     "data": {
      "text/plain": [
       "{'Features': ['Listing_price', 'Tax', 'Maintenance', 'Rental_estimate'],\n",
       " 'MSE': 1313967402.572227,\n",
       " 'R2': 0.647731684484905,\n",
       " 'Coefficient(s)': array([  0.67038521,  39.4485254 , -13.12266801,  39.40129511]),\n",
       " 'Bias': 30899.797526078182}"
      ]
     },
     "execution_count": 88,
     "metadata": {},
     "output_type": "execute_result"
    }
   ],
   "source": [
    "dict_lr"
   ]
  },
  {
   "cell_type": "code",
   "execution_count": 386,
   "metadata": {},
   "outputs": [],
   "source": [
    "# Train with scaled data\n",
    "\n",
    "def get_lr_mse_r2_scaled(df):\n",
    "    # Split data first*\n",
    "    df_train, df_test = train_test_split(df, test_size = 0.3, random_state=2020)\n",
    "    \n",
    "    # Scale data next*\n",
    "    scaler = MinMaxScaler()\n",
    "    X_train_scaled = scaler.fit_transform(df_train.drop(columns = ['Sold_price', 'Sigma_estimate', 'Rental_yield']))\n",
    "    X_test_scaled = scaler.transform(df_test.drop(columns = ['Sold_price', 'Sigma_estimate', 'Rental_yield']))\n",
    "    y_train = df_train['Sold_price']\n",
    "    y_test = df_test['Sold_price']\n",
    "    \n",
    "    #instantiate and fit\n",
    "    from sklearn.linear_model import LinearRegression\n",
    "    lr = LinearRegression()\n",
    "    lr.fit(X_train_scaled, y_train)\n",
    "    \n",
    "    # coefficients & bias\n",
    "    coeff = lr.coef_\n",
    "    y_int = lr.intercept_\n",
    "    print(\"Coefficient(s): \", coeff)\n",
    "    print(\"Bias: \", y_int)\n",
    "    \n",
    "    # making predictions\n",
    "    y_pred = lr.predict(X_test_scaled)\n",
    "    \n",
    "    # metrics of performance\n",
    "    from sklearn.metrics import mean_squared_error, r2_score\n",
    "    mse = mean_squared_error(y_test, y_pred)\n",
    "    r2 = r2_score(y_test, y_pred)\n",
    "    print(\"MSE: \", mse)\n",
    "    print(\"R2: \", r2)\n",
    "    \n",
    "    # plot\n",
    "    plt.scatter(y_pred, y_test.values, color='black',)\n",
    "    plt.plot(y_test.values, y_test.values, color='red', linewidth=3)\n",
    "\n",
    "    # Create an empty dict\n",
    "    dict_lr = dict()\n",
    "    # Populate dicitonary\n",
    "    dict_lr['Features'] = df_train.drop(columns = ['Sold_price', 'Sigma_estimate', 'Rental_yield']).columns\n",
    "    dict_lr['MSE'] = mse\n",
    "    dict_lr['R2'] = r2\n",
    "    dict_lr['Coefficient(s)'] = coeff\n",
    "    dict_lr['Bias'] = y_int\n",
    "    \n",
    "    return dict_lr"
   ]
  },
  {
   "cell_type": "code",
   "execution_count": 387,
   "metadata": {},
   "outputs": [
    {
     "data": {
      "text/plain": [
       "{'Features': ['Listing_price',\n",
       "  'Tax',\n",
       "  'Maintenance',\n",
       "  'Rental_estimate',\n",
       "  'Rental_dom'],\n",
       " 'MSE': 1152755716.7263288,\n",
       " 'R2': 0.703058701164724,\n",
       " 'Coefficient(s)': array([ 6.84145536e-01,  3.78058291e+01,  1.80024189e+01,  1.86847697e+01,\n",
       "        -1.39076055e+03]),\n",
       " 'Bias': 82361.34972782026}"
      ]
     },
     "execution_count": 387,
     "metadata": {},
     "output_type": "execute_result"
    }
   ],
   "source": [
    "dict_lr"
   ]
  },
  {
   "cell_type": "code",
   "execution_count": 388,
   "metadata": {},
   "outputs": [
    {
     "name": "stdout",
     "output_type": "stream",
     "text": [
      "Coefficient(s):  [170428.86286107 133378.96494359  16022.15282366 -36159.77436135\n",
      "  45291.88175674]\n",
      "Bias:  451240.3834512733\n",
      "MSE:  1152755716.7263432\n",
      "R2:  0.7030587011647202\n"
     ]
    },
    {
     "data": {
      "text/plain": [
       "{'Features': Index(['Listing_price', 'Tax', 'Maintenance', 'Rental_dom', 'Rental_estimate'], dtype='object'),\n",
       " 'MSE': 1152755716.7263432,\n",
       " 'R2': 0.7030587011647202,\n",
       " 'Coefficient(s)': array([170428.86286107, 133378.96494359,  16022.15282366, -36159.77436135,\n",
       "         45291.88175674]),\n",
       " 'Bias': 451240.3834512733}"
      ]
     },
     "execution_count": 388,
     "metadata": {},
     "output_type": "execute_result"
    },
    {
     "data": {
      "image/png": "[encoded data removed]",
      "text/plain": [
       "<Figure size 432x288 with 1 Axes>"
      ]
     },
     "metadata": {
      "needs_background": "light"
     },
     "output_type": "display_data"
    }
   ],
   "source": [
    "dict_lr_scaled = get_lr_mse_r2_scaled(df)\n",
    "dict_lr_scaled"
   ]
  },
  {
   "cell_type": "code",
   "execution_count": 121,
   "metadata": {},
   "outputs": [],
   "source": [
    "from sklearn.ensemble import RandomForestRegressor\n",
    "rf = RandomForestRegressor()"
   ]
  },
  {
   "cell_type": "code",
   "execution_count": 115,
   "metadata": {},
   "outputs": [
    {
     "data": {
      "text/html": [
       "<div>\n",
       "<style scoped>\n",
       "    .dataframe tbody tr th:only-of-type {\n",
       "        vertical-align: middle;\n",
       "    }\n",
       "\n",
       "    .dataframe tbody tr th {\n",
       "        vertical-align: top;\n",
       "    }\n",
       "\n",
       "    .dataframe thead th {\n",
       "        text-align: right;\n",
       "    }\n",
       "</style>\n",
       "<table border=\"1\" class=\"dataframe\">\n",
       "  <thead>\n",
       "    <tr style=\"text-align: right;\">\n",
       "      <th></th>\n",
       "      <th>Listing_price</th>\n",
       "      <th>Sigma_estimate</th>\n",
       "      <th>Sold_price</th>\n",
       "      <th>Tax</th>\n",
       "      <th>Maintenance</th>\n",
       "      <th>Rental_dom</th>\n",
       "      <th>Rental_estimate</th>\n",
       "      <th>Rental_yield</th>\n",
       "    </tr>\n",
       "  </thead>\n",
       "  <tbody>\n",
       "    <tr>\n",
       "      <th>2</th>\n",
       "      <td>555000.0</td>\n",
       "      <td>585599.0</td>\n",
       "      <td>545000.0</td>\n",
       "      <td>2155.0</td>\n",
       "      <td>536.0</td>\n",
       "      <td>17.0</td>\n",
       "      <td>2209.0</td>\n",
       "      <td>2.85</td>\n",
       "    </tr>\n",
       "    <tr>\n",
       "      <th>4</th>\n",
       "      <td>599000.0</td>\n",
       "      <td>658573.0</td>\n",
       "      <td>555000.0</td>\n",
       "      <td>2213.0</td>\n",
       "      <td>464.0</td>\n",
       "      <td>14.0</td>\n",
       "      <td>2242.0</td>\n",
       "      <td>2.74</td>\n",
       "    </tr>\n",
       "    <tr>\n",
       "      <th>6</th>\n",
       "      <td>699000.0</td>\n",
       "      <td>773279.0</td>\n",
       "      <td>780000.0</td>\n",
       "      <td>3088.0</td>\n",
       "      <td>395.0</td>\n",
       "      <td>11.0</td>\n",
       "      <td>2606.0</td>\n",
       "      <td>2.91</td>\n",
       "    </tr>\n",
       "    <tr>\n",
       "      <th>7</th>\n",
       "      <td>599900.0</td>\n",
       "      <td>611736.0</td>\n",
       "      <td>590300.0</td>\n",
       "      <td>2621.0</td>\n",
       "      <td>347.0</td>\n",
       "      <td>22.0</td>\n",
       "      <td>2050.0</td>\n",
       "      <td>2.67</td>\n",
       "    </tr>\n",
       "    <tr>\n",
       "      <th>8</th>\n",
       "      <td>598000.0</td>\n",
       "      <td>653108.0</td>\n",
       "      <td>615000.0</td>\n",
       "      <td>2147.0</td>\n",
       "      <td>550.0</td>\n",
       "      <td>14.0</td>\n",
       "      <td>2450.0</td>\n",
       "      <td>2.99</td>\n",
       "    </tr>\n",
       "    <tr>\n",
       "      <th>...</th>\n",
       "      <td>...</td>\n",
       "      <td>...</td>\n",
       "      <td>...</td>\n",
       "      <td>...</td>\n",
       "      <td>...</td>\n",
       "      <td>...</td>\n",
       "      <td>...</td>\n",
       "      <td>...</td>\n",
       "    </tr>\n",
       "    <tr>\n",
       "      <th>267</th>\n",
       "      <td>699999.0</td>\n",
       "      <td>705789.0</td>\n",
       "      <td>652500.0</td>\n",
       "      <td>2378.0</td>\n",
       "      <td>541.0</td>\n",
       "      <td>20.0</td>\n",
       "      <td>2099.0</td>\n",
       "      <td>2.11</td>\n",
       "    </tr>\n",
       "    <tr>\n",
       "      <th>269</th>\n",
       "      <td>599000.0</td>\n",
       "      <td>686384.0</td>\n",
       "      <td>775000.0</td>\n",
       "      <td>2657.0</td>\n",
       "      <td>460.0</td>\n",
       "      <td>13.0</td>\n",
       "      <td>2306.0</td>\n",
       "      <td>2.69</td>\n",
       "    </tr>\n",
       "    <tr>\n",
       "      <th>270</th>\n",
       "      <td>619900.0</td>\n",
       "      <td>624682.0</td>\n",
       "      <td>608000.0</td>\n",
       "      <td>2117.0</td>\n",
       "      <td>366.0</td>\n",
       "      <td>17.0</td>\n",
       "      <td>2124.0</td>\n",
       "      <td>2.85</td>\n",
       "    </tr>\n",
       "    <tr>\n",
       "      <th>271</th>\n",
       "      <td>599900.0</td>\n",
       "      <td>614461.0</td>\n",
       "      <td>670000.0</td>\n",
       "      <td>2413.0</td>\n",
       "      <td>438.0</td>\n",
       "      <td>20.0</td>\n",
       "      <td>2200.0</td>\n",
       "      <td>2.81</td>\n",
       "    </tr>\n",
       "    <tr>\n",
       "      <th>272</th>\n",
       "      <td>688000.0</td>\n",
       "      <td>711785.0</td>\n",
       "      <td>695000.0</td>\n",
       "      <td>2725.0</td>\n",
       "      <td>671.0</td>\n",
       "      <td>21.0</td>\n",
       "      <td>3409.0</td>\n",
       "      <td>3.90</td>\n",
       "    </tr>\n",
       "  </tbody>\n",
       "</table>\n",
       "<p>228 rows × 8 columns</p>\n",
       "</div>"
      ],
      "text/plain": [
       "     Listing_price  Sigma_estimate  Sold_price     Tax  Maintenance  \\\n",
       "2         555000.0        585599.0    545000.0  2155.0        536.0   \n",
       "4         599000.0        658573.0    555000.0  2213.0        464.0   \n",
       "6         699000.0        773279.0    780000.0  3088.0        395.0   \n",
       "7         599900.0        611736.0    590300.0  2621.0        347.0   \n",
       "8         598000.0        653108.0    615000.0  2147.0        550.0   \n",
       "..             ...             ...         ...     ...          ...   \n",
       "267       699999.0        705789.0    652500.0  2378.0        541.0   \n",
       "269       599000.0        686384.0    775000.0  2657.0        460.0   \n",
       "270       619900.0        624682.0    608000.0  2117.0        366.0   \n",
       "271       599900.0        614461.0    670000.0  2413.0        438.0   \n",
       "272       688000.0        711785.0    695000.0  2725.0        671.0   \n",
       "\n",
       "     Rental_dom  Rental_estimate  Rental_yield  \n",
       "2          17.0           2209.0          2.85  \n",
       "4          14.0           2242.0          2.74  \n",
       "6          11.0           2606.0          2.91  \n",
       "7          22.0           2050.0          2.67  \n",
       "8          14.0           2450.0          2.99  \n",
       "..          ...              ...           ...  \n",
       "267        20.0           2099.0          2.11  \n",
       "269        13.0           2306.0          2.69  \n",
       "270        17.0           2124.0          2.85  \n",
       "271        20.0           2200.0          2.81  \n",
       "272        21.0           3409.0          3.90  \n",
       "\n",
       "[228 rows x 8 columns]"
      ]
     },
     "execution_count": 115,
     "metadata": {},
     "output_type": "execute_result"
    }
   ],
   "source": [
    "df"
   ]
  },
  {
   "cell_type": "code",
   "execution_count": 392,
   "metadata": {},
   "outputs": [],
   "source": [
    "# Train with unscaled data\n",
    "\n",
    "def get_rf_mse_r2(df, list_features, n_estimators, random_state):\n",
    "    X = df[list_features]\n",
    "    y = df['Sold_price']\n",
    "    X_train, X_test, y_train, y_test = train_test_split(X, y, test_size = 0.3, random_state = 2020)\n",
    "    \n",
    "    #instantiate and fit\n",
    "    rf = RandomForestRegressor(n_estimators=n_estimators, random_state=random_state)\n",
    "    rf.fit(X_train, y_train)\n",
    "    \n",
    "#     # coefficients & bias\n",
    "#     coeff = rf.coef_\n",
    "#     y_int = rf.intercept_\n",
    "#     print(\"Coefficient(s): \", coeff)\n",
    "#     print(\"Bias: \", y_int)\n",
    "    \n",
    "    # making predictions\n",
    "    y_pred = rf.predict(X_test)\n",
    "    \n",
    "    # metrics of performance\n",
    "    from sklearn.metrics import mean_squared_error, r2_score\n",
    "    mse = mean_squared_error(y_test, y_pred)\n",
    "    r2 = r2_score(y_test, y_pred)\n",
    "    print(\"MSE: \", mse)\n",
    "    print(\"R2: \", r2)\n",
    "    \n",
    "    # plot\n",
    "    plt.scatter(y_pred, y_test.values, color='black',)\n",
    "    plt.plot(y_test.values, y_test.values, color='red', linewidth=3)\n",
    "\n",
    "    # Create an empty dict\n",
    "    dict_rf = dict()\n",
    "    # Populate dicitonary\n",
    "    dict_rf['Features'] = list_features\n",
    "    dict_rf['MSE'] = mse\n",
    "    dict_rf['R2'] = r2\n",
    "#     dict_rf['Coefficient(s)'] = coeff\n",
    "#     dict_rf['Bias'] = y_int\n",
    "    \n",
    "    return dict_rf"
   ]
  },
  {
   "cell_type": "code",
   "execution_count": 393,
   "metadata": {},
   "outputs": [
    {
     "name": "stdout",
     "output_type": "stream",
     "text": [
      "MSE:  1329153935.7142856\n",
      "R2:  0.6576198319416198\n"
     ]
    },
    {
     "data": {
      "text/plain": [
       "{'Features': ['Listing_price',\n",
       "  'Tax',\n",
       "  'Maintenance',\n",
       "  'Rental_estimate',\n",
       "  'Rental_dom'],\n",
       " 'MSE': 1329153935.7142856,\n",
       " 'R2': 0.6576198319416198}"
      ]
     },
     "execution_count": 393,
     "metadata": {},
     "output_type": "execute_result"
    },
    {
     "data": {
      "image/png": "[encoded data removed]",
      "text/plain": [
       "<Figure size 432x288 with 1 Axes>"
      ]
     },
     "metadata": {
      "needs_background": "light"
     },
     "output_type": "display_data"
    }
   ],
   "source": [
    "get_rf_mse_r2(df, ['Listing_price', 'Tax', 'Maintenance', 'Rental_estimate', 'Rental_dom'], 10, 0) #n_estimators=10, random_state=0"
   ]
  },
  {
   "cell_type": "code",
   "execution_count": 394,
   "metadata": {},
   "outputs": [
    {
     "name": "stdout",
     "output_type": "stream",
     "text": [
      "MSE:  1224172083.9194806\n",
      "R2:  0.6846623761457035\n"
     ]
    },
    {
     "data": {
      "text/plain": [
       "{'Features': ['Listing_price',\n",
       "  'Tax',\n",
       "  'Maintenance',\n",
       "  'Rental_estimate',\n",
       "  'Rental_dom'],\n",
       " 'MSE': 1224172083.9194806,\n",
       " 'R2': 0.6846623761457035}"
      ]
     },
     "execution_count": 394,
     "metadata": {},
     "output_type": "execute_result"
    },
    {
     "data": {
      "image/png": "[encoded data removed]",
      "text/plain": [
       "<Figure size 432x288 with 1 Axes>"
      ]
     },
     "metadata": {
      "needs_background": "light"
     },
     "output_type": "display_data"
    }
   ],
   "source": [
    "get_rf_mse_r2(df, ['Listing_price', 'Tax', 'Maintenance', 'Rental_estimate', 'Rental_dom'], 20, 0) #n_estimators=20, random_state=0"
   ]
  },
  {
   "cell_type": "code",
   "execution_count": 395,
   "metadata": {},
   "outputs": [
    {
     "name": "stdout",
     "output_type": "stream",
     "text": [
      "MSE:  1121685709.2909923\n",
      "R2:  0.7110621039922294\n"
     ]
    },
    {
     "data": {
      "text/plain": [
       "{'Features': ['Listing_price',\n",
       "  'Tax',\n",
       "  'Maintenance',\n",
       "  'Rental_estimate',\n",
       "  'Rental_dom'],\n",
       " 'MSE': 1121685709.2909923,\n",
       " 'R2': 0.7110621039922294}"
      ]
     },
     "execution_count": 395,
     "metadata": {},
     "output_type": "execute_result"
    },
    {
     "data": {
      "image/png": "[encoded data removed]",
      "text/plain": [
       "<Figure size 432x288 with 1 Axes>"
      ]
     },
     "metadata": {
      "needs_background": "light"
     },
     "output_type": "display_data"
    }
   ],
   "source": [
    "get_rf_mse_r2(df, ['Listing_price', 'Tax', 'Maintenance', 'Rental_estimate', 'Rental_dom'], 100, 0) #n_estimators=100, random_state=0"
   ]
  },
  {
   "cell_type": "code",
   "execution_count": 396,
   "metadata": {},
   "outputs": [
    {
     "name": "stdout",
     "output_type": "stream",
     "text": [
      "MSE:  1116918392.920153\n",
      "R2:  0.7122901292317275\n"
     ]
    },
    {
     "data": {
      "text/plain": [
       "{'Features': ['Listing_price',\n",
       "  'Tax',\n",
       "  'Maintenance',\n",
       "  'Rental_estimate',\n",
       "  'Rental_dom'],\n",
       " 'MSE': 1116918392.920153,\n",
       " 'R2': 0.7122901292317275}"
      ]
     },
     "execution_count": 396,
     "metadata": {},
     "output_type": "execute_result"
    },
    {
     "data": {
      "image/png": "[encoded data removed]",
      "text/plain": [
       "<Figure size 432x288 with 1 Axes>"
      ]
     },
     "metadata": {
      "needs_background": "light"
     },
     "output_type": "display_data"
    }
   ],
   "source": [
    "get_rf_mse_r2(df, ['Listing_price', 'Tax', 'Maintenance', 'Rental_estimate', 'Rental_dom'], 1000, 0) #n_estimators=100, random_state=0"
   ]
  },
  {
   "cell_type": "code",
   "execution_count": 174,
   "metadata": {},
   "outputs": [],
   "source": [
    "# Train with unscaled data\n",
    "\n",
    "def get_rf_mse_r2_scaled(df):\n",
    "    scaler = MinMaxScaler()\n",
    "    #Split data\n",
    "    df_train, df_test = train_test_split(df, test_size = 0.3, random_state = 2020)\n",
    "    X_train_scaled = scaler.fit_transform(df_train.drop(columns = ['Sold_price', 'Sigma_estimate', 'Rental_dom', 'Rental_yield']))\n",
    "    X_test_scaled = scaler.transform(df_test.drop(columns = ['Sold_price', 'Sigma_estimate', 'Rental_dom', 'Rental_yield']))\n",
    "    y_train = df_train['Sold_price']\n",
    "    y_test = df_test['Sold_price']\n",
    "\n",
    "    #instantiate and fit\n",
    "    rf = RandomForestRegressor(n_estimators=20, random_state=0)\n",
    "    rf.fit(X_train_scaled, y_train)\n",
    "    \n",
    "#     # coefficients & bias\n",
    "#     coeff = rf.coef_\n",
    "#     y_int = rf.intercept_\n",
    "#     print(\"Coefficient(s): \", coeff)\n",
    "#     print(\"Bias: \", y_int)\n",
    "    \n",
    "    # making predictions\n",
    "    y_pred = rf.predict(X_test_scaled)\n",
    "    \n",
    "    # metrics of performance\n",
    "    from sklearn.metrics import mean_squared_error, r2_score\n",
    "    mse = mean_squared_error(y_test, y_pred)\n",
    "    r2 = r2_score(y_test, y_pred)\n",
    "    print(\"MSE: \", mse)\n",
    "    print(\"R2: \", r2)\n",
    "    \n",
    "    # plot\n",
    "    plt.scatter(y_pred, y_test.values, color='black',)\n",
    "    plt.plot(y_test.values, y_test.values, color='red', linewidth=3)\n",
    "\n",
    "    # Create an empty dict\n",
    "    dict_rf = dict()\n",
    "    # Populate dicitonary\n",
    "    dict_rf['Features'] = df_train.drop(columns = ['Sold_price', 'Sigma_estimate', 'Rental_dom','Rental_yield']).columns\n",
    "    dict_rf['MSE'] = mse\n",
    "    dict_rf['R2'] = r2\n",
    "#     dict_rf['Coefficient(s)'] = coeff\n",
    "#     dict_rf['Bias'] = y_int\n",
    "    \n",
    "    return dict_rf"
   ]
  },
  {
   "cell_type": "code",
   "execution_count": 152,
   "metadata": {},
   "outputs": [
    {
     "name": "stdout",
     "output_type": "stream",
     "text": [
      "MSE:  1803620444.77731\n",
      "R2:  0.5164580683915676\n"
     ]
    },
    {
     "data": {
      "text/plain": [
       "{'Features': Index(['Listing_price', 'Tax', 'Maintenance', 'Rental_estimate'], dtype='object'),\n",
       " 'MSE': 1803620444.77731,\n",
       " 'R2': 0.5164580683915676}"
      ]
     },
     "execution_count": 152,
     "metadata": {},
     "output_type": "execute_result"
    },
    {
     "data": {
      "image/png": "[encoded data removed]",
      "text/plain": [
       "<Figure size 432x288 with 1 Axes>"
      ]
     },
     "metadata": {
      "needs_background": "light"
     },
     "output_type": "display_data"
    }
   ],
   "source": [
    "get_rf_mse_r2_scaled(df)"
   ]
  },
  {
   "cell_type": "code",
   "execution_count": 175,
   "metadata": {},
   "outputs": [
    {
     "name": "stdout",
     "output_type": "stream",
     "text": [
      "MSE:  1544448832.011413\n",
      "R2:  0.5859407262411062\n"
     ]
    },
    {
     "data": {
      "text/plain": [
       "{'Features': Index(['Listing_price', 'Tax', 'Maintenance', 'Rental_estimate'], dtype='object'),\n",
       " 'MSE': 1544448832.011413,\n",
       " 'R2': 0.5859407262411062}"
      ]
     },
     "execution_count": 175,
     "metadata": {},
     "output_type": "execute_result"
    },
    {
     "data": {
      "image/png": "[encoded data removed]",
      "text/plain": [
       "<Figure size 432x288 with 1 Axes>"
      ]
     },
     "metadata": {
      "needs_background": "light"
     },
     "output_type": "display_data"
    }
   ],
   "source": [
    "get_rf_mse_r2_scaled(df)"
   ]
  },
  {
   "cell_type": "markdown",
   "metadata": {},
   "source": [
    "### Cross validation"
   ]
  },
  {
   "cell_type": "code",
   "execution_count": 176,
   "metadata": {},
   "outputs": [],
   "source": [
    "from sklearn.model_selection import cross_val_score, cross_val_predict\n",
    "import matplotlib.pyplot as plt\n",
    "%matplotlib inline\n",
    "\n",
    "scores = cross_val_score(lr, X_train, y_train, cv=10)"
   ]
  },
  {
   "cell_type": "code",
   "execution_count": 154,
   "metadata": {},
   "outputs": [
    {
     "data": {
      "text/plain": [
       "array([0.7755979 , 0.59064193, 0.58056307, 0.67173915, 0.56525545,\n",
       "       0.55546467, 0.65584869, 0.69326957, 0.60944966, 0.62633835])"
      ]
     },
     "execution_count": 154,
     "metadata": {},
     "output_type": "execute_result"
    }
   ],
   "source": [
    "scores"
   ]
  },
  {
   "cell_type": "code",
   "execution_count": 155,
   "metadata": {},
   "outputs": [
    {
     "data": {
      "text/plain": [
       "array([0.7755979 , 0.59064195, 0.58056307, 0.67173913, 0.56525548,\n",
       "       0.55546466, 0.65584884, 0.69326961, 0.60944968, 0.62633837])"
      ]
     },
     "execution_count": 155,
     "metadata": {},
     "output_type": "execute_result"
    }
   ],
   "source": [
    "scores = cross_val_score(lasso, X_train, y_train, cv=10)\n",
    "scores"
   ]
  },
  {
   "cell_type": "code",
   "execution_count": 156,
   "metadata": {},
   "outputs": [
    {
     "data": {
      "text/plain": [
       "array([0.7755979 , 0.59064193, 0.58056307, 0.67173915, 0.56525545,\n",
       "       0.55546467, 0.65584869, 0.69326957, 0.60944966, 0.62633835])"
      ]
     },
     "execution_count": 156,
     "metadata": {},
     "output_type": "execute_result"
    }
   ],
   "source": [
    "scores = cross_val_score(ridge, X_train, y_train, cv=10)\n",
    "scores"
   ]
  },
  {
   "cell_type": "code",
   "execution_count": 217,
   "metadata": {},
   "outputs": [
    {
     "ename": "AttributeError",
     "evalue": "'PlotAccessor' object has no attribute 'show'",
     "output_type": "error",
     "traceback": [
      "\u001b[1;31m---------------------------------------------------------------------------\u001b[0m",
      "\u001b[1;31mAttributeError\u001b[0m                            Traceback (most recent call last)",
      "\u001b[1;32m<ipython-input-217-6e51ccb5ec1b>\u001b[0m in \u001b[0;36m<module>\u001b[1;34m\u001b[0m\n\u001b[0;32m      2\u001b[0m \u001b[0mscores\u001b[0m \u001b[1;33m=\u001b[0m \u001b[0mpd\u001b[0m\u001b[1;33m.\u001b[0m\u001b[0mSeries\u001b[0m\u001b[1;33m(\u001b[0m\u001b[0mscores\u001b[0m\u001b[1;33m)\u001b[0m\u001b[1;33m\u001b[0m\u001b[1;33m\u001b[0m\u001b[0m\n\u001b[0;32m      3\u001b[0m \u001b[0mscores\u001b[0m\u001b[1;33m.\u001b[0m\u001b[0mplot\u001b[0m\u001b[1;33m(\u001b[0m\u001b[1;33m)\u001b[0m\u001b[1;33m\u001b[0m\u001b[1;33m\u001b[0m\u001b[0m\n\u001b[1;32m----> 4\u001b[1;33m \u001b[0mplt\u001b[0m\u001b[1;33m.\u001b[0m\u001b[0mshow\u001b[0m\u001b[1;33m(\u001b[0m\u001b[0mkind\u001b[0m \u001b[1;33m=\u001b[0m \u001b[1;34m'scatter'\u001b[0m\u001b[1;33m)\u001b[0m\u001b[1;33m\u001b[0m\u001b[1;33m\u001b[0m\u001b[0m\n\u001b[0m",
      "\u001b[1;31mAttributeError\u001b[0m: 'PlotAccessor' object has no attribute 'show'"
     ]
    },
    {
     "data": {
      "image/png": "[encoded data removed]",
      "text/plain": [
       "<Figure size 432x288 with 1 Axes>"
      ]
     },
     "metadata": {
      "needs_background": "light"
     },
     "output_type": "display_data"
    }
   ],
   "source": [
    "scores = cross_val_score(rf, X_train, y_train, cv=10)\n",
    "scores = pd.Series(scores)\n",
    "scores.plot()\n",
    "plt.show() "
   ]
  },
  {
   "cell_type": "code",
   "execution_count": 195,
   "metadata": {},
   "outputs": [
    {
     "data": {
      "text/plain": [
       "array([0.68387192, 0.29070537, 0.63448666, 0.75015575, 0.71073162,\n",
       "       0.43550823, 0.81578519, 0.48939421, 0.49956586, 0.62442266])"
      ]
     },
     "execution_count": 195,
     "metadata": {},
     "output_type": "execute_result"
    }
   ],
   "source": [
    "scores.T"
   ]
  },
  {
   "cell_type": "code",
   "execution_count": 184,
   "metadata": {},
   "outputs": [
    {
     "data": {
      "text/plain": [
       "array([0.68955956, 0.25967884, 0.62844496, 0.7430241 , 0.73282292,\n",
       "       0.42734499, 0.80152618, 0.51169283, 0.47339817, 0.67255679])"
      ]
     },
     "execution_count": 184,
     "metadata": {},
     "output_type": "execute_result"
    }
   ],
   "source": [
    "scores"
   ]
  },
  {
   "cell_type": "code",
   "execution_count": null,
   "metadata": {},
   "outputs": [],
   "source": []
  },
  {
   "cell_type": "code",
   "execution_count": null,
   "metadata": {},
   "outputs": [],
   "source": []
  }
 ],
 "metadata": {
  "kernelspec": {
   "display_name": "Python 3",
   "language": "python",
   "name": "python3"
  },
  "language_info": {
   "codemirror_mode": {
    "name": "ipython",
    "version": 3
   },
   "file_extension": ".py",
   "mimetype": "text/x-python",
   "name": "python",
   "nbconvert_exporter": "python",
   "pygments_lexer": "ipython3",
   "version": "3.8.3"
  }
 },
 "nbformat": 4,
 "nbformat_minor": 4
}
