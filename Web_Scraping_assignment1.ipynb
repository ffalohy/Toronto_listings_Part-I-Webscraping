{
 "cells": [
  {
   "cell_type": "markdown",
   "metadata": {},
   "source": [
    "# Web Scraping Assignment\n",
    "## HouseSigma\n",
    "\n",
    "- Scraping condos-of-interest that are on sale in Toronto\n",
    "- Using Selenium and BeautifulSoup\n"
   ]
  },
  {
   "cell_type": "code",
   "execution_count": 4,
   "metadata": {},
   "outputs": [],
   "source": [
    "# !pip install selenium\n",
    "from selenium import webdriver\n",
    "from selenium.webdriver.common.by import By\n",
    "from selenium.webdriver.common.keys import Keys\n",
    "from selenium.webdriver.support.ui import WebDriverWait\n",
    "from selenium.webdriver.support.expected_conditions import presence_of_element_located"
   ]
  },
  {
   "cell_type": "code",
   "execution_count": 21,
   "metadata": {},
   "outputs": [],
   "source": [
    "from selenium.webdriver import Chrome\n",
    "from time import sleep\n",
    "driver = Chrome()\n",
    "url ='https://housesigma.com'\n",
    "driver.get(url)\n",
    "#Clicking sign-in page\n",
    "element = driver.find_element_by_xpath(\"//a[contains(@class, 'global-link user_left_part')]\")\n",
    "element.click()\n",
    "sleep(1)\n",
    "\n",
    "#\n",
    "element_email = driver.find_element_by_xpath(\"//input[contains(@placeholder, 'Email Address')]\")\n",
    "element_email.send_keys('hykimusa@gmail.com')\n",
    "element_pw = driver.find_element_by_xpath('//input[contains(@placeholder, \"Password\")]')\n",
    "element_pw.send_keys('housesigmapw4$')\n",
    "sleep(1)\n",
    "element_sign_in_button = driver.find_element_by_xpath('//*[contains(@class, \"el-button signin el-button--primary\")]')\n",
    "element_sign_in_button.click()\n",
    "sleep(2)\n",
    "\n",
    "element_recommend = driver.find_element_by_xpath('//*[@id=\"index\"]/div[1]/div[2]/div[1]/div[1]/button[2]/span')\n",
    "element_recommend.click()"
   ]
  }
 ],
 "metadata": {
  "kernelspec": {
   "display_name": "Python 3",
   "language": "python",
   "name": "python3"
  },
  "language_info": {
   "codemirror_mode": {
    "name": "ipython",
    "version": 3
   },
   "file_extension": ".py",
   "mimetype": "text/x-python",
   "name": "python",
   "nbconvert_exporter": "python",
   "pygments_lexer": "ipython3",
   "version": "3.8.3"
  }
 },
 "nbformat": 4,
 "nbformat_minor": 4
}
