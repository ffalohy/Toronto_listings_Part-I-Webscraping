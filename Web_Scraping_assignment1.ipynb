{
 "cells": [
  {
   "cell_type": "markdown",
   "metadata": {},
   "source": [
    "# Web Scraping Assignment\n",
    "- Hyeyeon Kim\n",
    "- Due date: 2020-09-16\n",
    "\n",
    "## HouseSigma\n",
    "\n",
    "- Scraping condos-of-interest that are on sale in Toronto\n",
    "- Using Selenium and BeautifulSoup\n"
   ]
  },
  {
   "cell_type": "code",
   "execution_count": 1,
   "metadata": {},
   "outputs": [],
   "source": [
    "# !pip install selenium\n",
    "from selenium import webdriver\n",
    "from selenium.webdriver.common.by import By\n",
    "from selenium.webdriver.common.keys import Keys\n",
    "from selenium.webdriver.support.ui import WebDriverWait\n",
    "from selenium.webdriver.support.expected_conditions import presence_of_element_located"
   ]
  },
  {
   "cell_type": "code",
   "execution_count": 88,
   "metadata": {},
   "outputs": [],
   "source": [
    "from selenium.webdriver import Chrome\n",
    "from time import sleep\n",
    "driver = Chrome()\n",
    "url ='https://housesigma.com'\n",
    "driver.get(url)\n",
    "#Clicking sign-in page\n",
    "element = driver.find_element_by_xpath(\"//a[contains(@class, 'global-link user_left_part')]\")\n",
    "element.click()\n",
    "sleep(1)\n",
    "\n",
    "# Log-in\n",
    "element_email = driver.find_element_by_xpath(\"//input[contains(@placeholder, 'Email Address')]\")\n",
    "element_email.send_keys('hykimusa@gmail.com')\n",
    "element_pw = driver.find_element_by_xpath('//input[contains(@placeholder, \"Password\")]')\n",
    "element_pw.send_keys('housesigmapw4$')\n",
    "sleep(1)\n",
    "element_sign_in_button = driver.find_element_by_xpath('//*[contains(@class, \"el-button signin el-button--primary\")]')\n",
    "element_sign_in_button.click()"
   ]
  },
  {
   "cell_type": "markdown",
   "metadata": {},
   "source": [
    "## Recommend\n",
    "- Setting your criteria"
   ]
  },
  {
   "cell_type": "code",
   "execution_count": 90,
   "metadata": {},
   "outputs": [],
   "source": [
    "# Setting parameters\n",
    "# Clicking Recommend button\n",
    "element_recommend = driver.find_element_by_xpath('//*[text()=\"Recommend\"]')\n",
    "element_recommend.click()"
   ]
  },
  {
   "cell_type": "code",
   "execution_count": 106,
   "metadata": {},
   "outputs": [],
   "source": [
    "# # Price Range\n",
    "# def price_range(low_end, high_end):\n",
    "#     price_range = f'${low_end} - ${high_end}'\n",
    "#     return price_range\n",
    "\n",
    "# # test\n",
    "# price_range(500000, 750000)\n",
    "\n",
    "# What is your budget?\n",
    "# I needed to edit 'attribute'\n",
    "# https://stackoverflow.com/questions/41553189/edit-element-in-browser-with-python-selenium\n",
    "\n",
    "# element_price_range = driver.find_element_by_xpath('//div[contains(@class, \"price_tooltip\")]')\n",
    "# driver.execute_script(f\"arguments[0].innerText = '{price_range(500000, 750000)}'\", element_price_range)\n",
    "\n",
    "# Investment\n",
    "element_investment_school = driver.find_element_by_xpath('//div[text()=\"School\"]')\n",
    "element_investment_growth = driver.find_element_by_xpath('//div[text()=\"Growth\"]')\n",
    "element_investment_rentalyield = driver.find_element_by_xpath('//div[text()=\"Rental Yeild\"]')\n",
    "element_investment_land = driver.find_element_by_xpath('//div[text()=\"Land\"]')\n",
    "element_investment_school.click()\n",
    "element_investment_growth.click()\n",
    "element_investment_rentalyield.click()\n",
    "element_investment_land.click()\n",
    "\n",
    "\n",
    "# Property Type\n",
    "# element_type_detached = driver.find_element_by_xpath('//div[text()=\"Detached\"]')\n",
    "# element_type_semidetached = driver.find_element_by_xpath('//div[text()=\"Semi-Detached\"]')\n",
    "# element_type_townhouse = driver.find_element_by_xpath('//div[text()=\"Townhouse\"]')\n",
    "element_type_condo = driver.find_element_by_xpath('//div[text()=\"Condo Apt\"]')\n",
    "# element_type_detached.click()\n",
    "# element_type_semidetached.click()\n",
    "# element_type_townhouse.click()\n",
    "element_type_condo.click()\n",
    "sleep(3)\n",
    "\n",
    "# City/Location\n",
    "element_city_toronto = driver.find_element_by_xpath('//*[text()=\"Toronto\"]')\n",
    "# element_city_northyork = driver.find_element_by_xpath('//*[text()=\"North York\"]')\n",
    "# element_city_etobicoke = driver.find_element_by_xpath('//*[text()=\"Etobicoke\"]')\n",
    "element_city_toronto.click()\n",
    "# element_city_northyork.click()\n",
    "# element_city_etobicoke.click()\n",
    "sleep(3)\n",
    "\n",
    "\n",
    "# Search\n",
    "element_start_recommendation = driver.find_element_by_xpath('//span[text() = \"Start Recommendation\"]')\n",
    "element_start_recommendation.click()"
   ]
  },
  {
   "cell_type": "code",
   "execution_count": 99,
   "metadata": {},
   "outputs": [],
   "source": [
    "# Scroll to bottom\n",
    "# driver.execute_script(\"window.scrollTo(0, document.body.scrollHeight);\")\n",
    "# Open 10 pages\n",
    "for i in range(10):\n",
    "    driver.execute_script(f\"window.scrollTo({i}, document.body.scrollHeight);\")\n",
    "    sleep(1)"
   ]
  },
  {
   "cell_type": "code",
   "execution_count": 222,
   "metadata": {},
   "outputs": [],
   "source": [
    "# Selecting community\n",
    "element_community = driver.find_element_by_xpath('/html/body/div/div/div[3]/div[7]/div[2]/div[2]/div[1]/div[1]/p')\n",
    "element_community.click()"
   ]
  },
  {
   "cell_type": "code",
   "execution_count": 108,
   "metadata": {},
   "outputs": [],
   "source": [
    "# Selecting a listing from community\n",
    "# this code opens a new tab\n",
    "element_community_post = driver.find_element_by_xpath('//div[@class=\"pic_infor\"]')\n",
    "element_community_post.click()\n",
    "\n",
    "# Switching to the active tab\n",
    "driver.switch_to.window(driver.window_handles[-1]) #last opened tab handle"
   ]
  },
  {
   "cell_type": "code",
   "execution_count": 168,
   "metadata": {},
   "outputs": [],
   "source": [
    "# Scraping listing details\n",
    "ele_address = driver.find_element_by_xpath('//div[@class = \"address\"]').text\n",
    "ele_city_name = driver.find_element_by_xpath('//div[@class = \"city_name\"]').text\n",
    "ele_house_type = driver.find_element_by_xpath('//div[@class = \"house_type\"]').text\n",
    "ele_listing_price = driver.find_element_by_xpath('//div[@class = \"price_listing\"]/span').text\n",
    "ele_estimated_price = driver.find_element_by_xpath('//div[@class = \"price_dollar\"]').text\n",
    "ele_estimate_date = driver.find_element_by_xpath('//div[@class = \"estimate_date\"]').text\n",
    "ele_bedroom = driver.find_element_by_xpath('//*[@id=\"room_count_to_estimate\"]/div[1]/div/div/div[1]/span').text\n",
    "ele_washroom = driver.find_element_by_xpath('//*[@id=\"room_count_to_estimate\"]/div[1]/div/div/div[2]/span').text\n",
    "ele_parking = driver.find_element_by_xpath('//*[@id=\"room_count_to_estimate\"]/div[1]/div/div/div[3]/span').text\n",
    "ele_tax = driver.find_element_by_xpath('//*[@id=\"room_count_to_estimate\"]/div[5]/div[1]/div[1]/span').text\n",
    "ele_maintenance = driver.find_element_by_xpath('//*[@id=\"room_count_to_estimate\"]/div[5]/div[1]/div[3]/span').text\n",
    "ele_building_age = driver.find_element_by_xpath('//*[@id=\"room_count_to_estimate\"]/div[5]/div[1]/div[4]/span').text\n",
    "ele_size = driver.find_element_by_xpath('//*[@id=\"room_count_to_estimate\"]/div[5]/div[1]/div[5]/span').text\n",
    "ele_list_num = driver.find_element_by_xpath('//*[@id=\"room_count_to_estimate\"]/div[5]/div[2]/div[1]/span').text\n",
    "ele_listed_on = driver.find_element_by_xpath('//*[@id=\"room_count_to_estimate\"]/div[5]/div[2]/div[3]/span').text\n",
    "ele_updated_on = driver.find_element_by_xpath('//*[@id=\"room_count_to_estimate\"]/div[5]/div[2]/div[4]/span').text\n",
    "# ele_market_demand = driver.find_element_by_xpath('//*[@id=\"room_count_to_estimate\"]/div[5]/div[2]/div[6]').text\n",
    "ele_rental_estimate = driver.find_element_by_xpath('//*[@id=\"room_count_to_estimate\"]/div[6]/div[1]/div[3]/p').text\n",
    "ele_rental_yield = driver.find_element_by_xpath('//*[@id=\"room_count_to_estimate\"]/div[6]/div[1]/div[4]/p').text\n",
    "ele_intersection = driver.find_element_by_xpath('//*[@id=\"property_details\"]/div[1]/div[1]/div[1]/span').text\n",
    "ele_property_style = driver.find_element_by_xpath('//*[@id=\"property_details\"]/div[1]/div[1]/div[2]/span').text\n",
    "ele_exposure = driver.find_element_by_xpath('//*[@id=\"property_details\"]/div[1]/div[1]/div[3]/span').text\n",
    "ele_description = driver.find_element_by_xpath('//*[@class=\"desc_more\"]/div[1]/div[1]/div[3]/span').text"
   ]
  },
  {
   "cell_type": "code",
   "execution_count": 169,
   "metadata": {},
   "outputs": [
    {
     "name": "stdout",
     "output_type": "stream",
     "text": [
      "Unit 732 - 161 Roehampton Ave\n",
      "Mount Pleasant East - Toronto\n",
      "Condo Apt\n",
      "$ 559,000\n",
      "$539,420\n",
      "As of 2020-08-13\n",
      "1 Bedrooms\n",
      "1 Bathrooms\n",
      "0 Garage\n",
      "$ -\n",
      "$326/month\n",
      "New\n",
      "500-599 feet²\n",
      "C4869459\n",
      "2020-08-13\n",
      "2020-08-13\n",
      "$1,931\n",
      "3.37%\n",
      "Eglinton & Mt. Pleasant\n",
      "Apartment\n",
      "W\n",
      "Freed Built, Brand New 1 Bedroom Unit, Approximately 519 Sq Ft. With 97 Sq Ft Open Balcony, Floor To Ceiling Windows, Quartz Counter, Panel Fridge, Built In Appliances, Custom Bathroom, Open Concept Layout. Steps To Yonge & Eginton Centre, Subway, Loblaws, Lcbo, Shops, Restaurants & Schools.\n",
      "Fridge, Stove, Kitchen Hood. Washer & Dryer, Existing Window Blinds\n"
     ]
    }
   ],
   "source": [
    "print(ele_list_num)\n",
    "print(ele_address)\n",
    "print(ele_city_name)\n",
    "print(ele_house_type)\n",
    "print(ele_listing_price)\n",
    "print(ele_estimated_price)\n",
    "print(ele_estimate_date)\n",
    "print(ele_bedroom)\n",
    "print(ele_washroom)\n",
    "print(ele_parking)\n",
    "print(ele_tax)\n",
    "print(ele_maintenance)\n",
    "print(ele_building_age)\n",
    "print(ele_size)\n",
    "print(ele_listed_on)\n",
    "print(ele_updated_on)\n",
    "# print(ele_market_demand)\n",
    "print(ele_rental_estimate)\n",
    "print(ele_rental_yield)\n",
    "print(ele_intersection)\n",
    "print(ele_property_style)\n",
    "print(ele_exposure)\n",
    "print(ele_description)"
   ]
  },
  {
   "cell_type": "code",
   "execution_count": 221,
   "metadata": {},
   "outputs": [],
   "source": [
    "# driver.close() #closes current, active tab\n",
    "driver.switch_to.window(driver.window_handles[0])"
   ]
  },
  {
   "cell_type": "code",
   "execution_count": 223,
   "metadata": {},
   "outputs": [
    {
     "name": "stdout",
     "output_type": "stream",
     "text": [
      "Unit 732 - 161 Roehampton Ave\n",
      "Mount Pleasant East - Toronto\n",
      "Condo Apt\n",
      "$ 559,000\n",
      "Unit 5503 - 8 Eglinton Ave\n",
      "Mount Pleasant East - Toronto\n",
      "Condo Apt\n",
      "$ 634,800\n"
     ]
    }
   ],
   "source": [
    "# Find total num of listings in selected community\n",
    "post_list = driver.find_elements_by_xpath('//*[@id=\"recommend\"]/div[2]/div/div[2]/div[3]/div[1]/div[1]')\n",
    "len(post_list)\n",
    "\n",
    "\n",
    "# Scraping all the listings from selected community\n",
    "for item in range(1,3):\n",
    "    post = driver.find_element_by_xpath(f'//*[@id=\"recommend\"]/div[2]/div/div[2]/div[3]/div[1]/div[{item}]/div/div[1]/a/div')\n",
    "    post.click()\n",
    "    driver.switch_to.window(driver.window_handles[-1]) #last opened tab handle\n",
    "    #now able to control the newly opened tab\n",
    "    sleep(5)\n",
    "    ele_address = driver.find_element_by_xpath('//div[@class = \"address\"]').text\n",
    "    print(ele_address)\n",
    "    ele_city_name = driver.find_element_by_xpath('//div[@class = \"city_name\"]').text\n",
    "    print(ele_city_name)\n",
    "    ele_house_type = driver.find_element_by_xpath('//div[@class = \"house_type\"]').text\n",
    "    print(ele_house_type)\n",
    "    ele_listing_price = driver.find_element_by_xpath('//div[@class = \"price_listing\"]/span').text\n",
    "    print(ele_listing_price)\n",
    "    sleep(2)\n",
    "    \n",
    "    driver.close()#closes current, active tab\n",
    "    driver.switch_to.window(driver.window_handles[0])\n",
    "    sleep(2)\n",
    "    "
   ]
  }
 ],
 "metadata": {
  "kernelspec": {
   "display_name": "Python 3",
   "language": "python",
   "name": "python3"
  },
  "language_info": {
   "codemirror_mode": {
    "name": "ipython",
    "version": 3
   },
   "file_extension": ".py",
   "mimetype": "text/x-python",
   "name": "python",
   "nbconvert_exporter": "python",
   "pygments_lexer": "ipython3",
   "version": "3.8.3"
  }
 },
 "nbformat": 4,
 "nbformat_minor": 4
}
