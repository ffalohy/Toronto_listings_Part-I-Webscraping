{
 "cells": [
  {
   "cell_type": "markdown",
   "metadata": {},
   "source": [
    "# Web Scraping Assignment\n",
    "- Hyeyeon Kim\n",
    "- Due date: 2020-09-13\n",
    "\n",
    "## HouseSigma\n",
    "\n",
    "- Scraping condo listings in Toronto\n",
    "- Using Selenium and BeautifulSoup\n"
   ]
  },
  {
   "cell_type": "code",
   "execution_count": 586,
   "metadata": {},
   "outputs": [],
   "source": [
    "# !pip install selenium\n",
    "from selenium import webdriver\n",
    "from selenium.webdriver.common.by import By\n",
    "from selenium.webdriver.common.keys import Keys\n",
    "from selenium.webdriver.support.ui import WebDriverWait\n",
    "from selenium.webdriver.support.expected_conditions import presence_of_element_located\n",
    "from selenium.webdriver import Chrome\n",
    "from time import sleep\n",
    "import pandas as pd\n",
    "import numpy as np"
   ]
  },
  {
   "cell_type": "code",
   "execution_count": 587,
   "metadata": {},
   "outputs": [],
   "source": [
    "driver = Chrome() #webdriver downloaded and saved in the same folder\n",
    "url ='https://housesigma.com'\n",
    "driver.get(url)\n",
    "#Clicking sign-in page\n",
    "element = driver.find_element_by_xpath(\"//a[contains(@class, 'global-link user_left_part')]\")\n",
    "element.click()\n",
    "sleep(1)\n",
    "\n",
    "# Log-in\n",
    "element_email = driver.find_element_by_xpath(\"//input[contains(@placeholder, 'Email Address')]\")\n",
    "element_email.send_keys('hykimusa@gmail.com')\n",
    "element_pw = driver.find_element_by_xpath('//input[contains(@placeholder, \"Password\")]')\n",
    "element_pw.send_keys('housesigmapw4$')\n",
    "sleep(1)\n",
    "element_sign_in_button = driver.find_element_by_xpath('//*[contains(@class, \"el-button signin el-button--primary\")]')\n",
    "element_sign_in_button.click()"
   ]
  },
  {
   "cell_type": "markdown",
   "metadata": {},
   "source": [
    "## Recommend\n",
    "- Setting your criteria"
   ]
  },
  {
   "cell_type": "code",
   "execution_count": 588,
   "metadata": {},
   "outputs": [],
   "source": [
    "# Setting parameters\n",
    "# Clicking Recommend button\n",
    "element_recommend = driver.find_element_by_xpath('//*[text()=\"Recommend\"]')\n",
    "element_recommend.click()\n",
    "sleep(2)\n",
    "\n",
    "# # Price Range\n",
    "# def price_range(low_end, high_end):\n",
    "#     price_range = f'${low_end} - ${high_end}'\n",
    "#     return price_range\n",
    "\n",
    "# # test\n",
    "# price_range(500000, 750000)\n",
    "\n",
    "# What is your budget?\n",
    "# I needed to edit 'attribute'\n",
    "# https://stackoverflow.com/questions/41553189/edit-element-in-browser-with-python-selenium\n",
    "\n",
    "# element_price_range = driver.find_element_by_xpath('//div[contains(@class, \"price_tooltip\")]')\n",
    "# driver.execute_script(f\"arguments[0].innerText = '{price_range(500000, 750000)}'\", element_price_range)\n",
    "\n",
    "# Investment\n",
    "element_investment_all = driver.find_element_by_xpath('//*[@id=\"recommend\"]/div[3]/div[2]/div[2]/span[1]')\n",
    "# element_investment_school = driver.find_element_by_xpath('//div[text()=\"School\"]')\n",
    "# element_investment_growth = driver.find_element_by_xpath('//div[text()=\"Growth\"]')\n",
    "# element_investment_rentalyield = driver.find_element_by_xpath('//div[text()=\"Rental Yeild\"]')\n",
    "# element_investment_land = driver.find_element_by_xpath('//div[text()=\"Land\"]')\n",
    "# sleep(1)\n",
    "element_investment_all.click();\n",
    "# element_investment_school.click()\n",
    "# element_investment_growth.click()\n",
    "# element_investment_rentalyield.click()\n",
    "# element_investment_land.click()\n",
    "# sleep(2)\n",
    "\n",
    "# Property Type\n",
    "# element_type_detached = driver.find_element_by_xpath('//div[text()=\"Detached\"]')\n",
    "# element_type_semidetached = driver.find_element_by_xpath('//div[text()=\"Semi-Detached\"]')\n",
    "# element_type_townhouse = driver.find_element_by_xpath('//div[text()=\"Townhouse\"]')\n",
    "element_type_condo = driver.find_element_by_xpath('//div[text()=\"Condo Apt\"]')\n",
    "# element_type_detached.click()\n",
    "# element_type_semidetached.click()\n",
    "# element_type_townhouse.click()\n",
    "element_type_condo.click();\n",
    "sleep(2)"
   ]
  },
  {
   "cell_type": "code",
   "execution_count": 589,
   "metadata": {
    "scrolled": true
   },
   "outputs": [
    {
     "ename": "ElementClickInterceptedException",
     "evalue": "Message: element click intercepted: Element <span>...</span> is not clickable at point (507, 699). Other element would receive the click: <div data-v-06d9ba0f=\"\" class=\"el-col el-col-24 el-col-xs-22 el-col-sm-22 el-col-md-20 el-col-lg-16\">...</div>\n  (Session info: chrome=85.0.4183.102)\n",
     "output_type": "error",
     "traceback": [
      "\u001b[1;31m---------------------------------------------------------------------------\u001b[0m",
      "\u001b[1;31mElementClickInterceptedException\u001b[0m          Traceback (most recent call last)",
      "\u001b[1;32m<ipython-input-589-e58d178a1582>\u001b[0m in \u001b[0;36m<module>\u001b[1;34m\u001b[0m\n\u001b[0;32m     22\u001b[0m \u001b[0melement_start_recommendation\u001b[0m \u001b[1;33m=\u001b[0m \u001b[0mdriver\u001b[0m\u001b[1;33m.\u001b[0m\u001b[0mfind_element_by_xpath\u001b[0m\u001b[1;33m(\u001b[0m\u001b[1;34m'/html/body/div/div/div[3]/div[6]/button/span'\u001b[0m\u001b[1;33m)\u001b[0m\u001b[1;33m\u001b[0m\u001b[1;33m\u001b[0m\u001b[0m\n\u001b[0;32m     23\u001b[0m \u001b[0msleep\u001b[0m\u001b[1;33m(\u001b[0m\u001b[1;36m2\u001b[0m\u001b[1;33m)\u001b[0m\u001b[1;33m\u001b[0m\u001b[1;33m\u001b[0m\u001b[0m\n\u001b[1;32m---> 24\u001b[1;33m \u001b[0melement_start_recommendation\u001b[0m\u001b[1;33m.\u001b[0m\u001b[0mclick\u001b[0m\u001b[1;33m(\u001b[0m\u001b[1;33m)\u001b[0m\u001b[1;33m;\u001b[0m\u001b[1;33m\u001b[0m\u001b[1;33m\u001b[0m\u001b[0m\n\u001b[0m",
      "\u001b[1;32m~\\anaconda3\\lib\\site-packages\\selenium\\webdriver\\remote\\webelement.py\u001b[0m in \u001b[0;36mclick\u001b[1;34m(self)\u001b[0m\n\u001b[0;32m     78\u001b[0m     \u001b[1;32mdef\u001b[0m \u001b[0mclick\u001b[0m\u001b[1;33m(\u001b[0m\u001b[0mself\u001b[0m\u001b[1;33m)\u001b[0m\u001b[1;33m:\u001b[0m\u001b[1;33m\u001b[0m\u001b[1;33m\u001b[0m\u001b[0m\n\u001b[0;32m     79\u001b[0m         \u001b[1;34m\"\"\"Clicks the element.\"\"\"\u001b[0m\u001b[1;33m\u001b[0m\u001b[1;33m\u001b[0m\u001b[0m\n\u001b[1;32m---> 80\u001b[1;33m         \u001b[0mself\u001b[0m\u001b[1;33m.\u001b[0m\u001b[0m_execute\u001b[0m\u001b[1;33m(\u001b[0m\u001b[0mCommand\u001b[0m\u001b[1;33m.\u001b[0m\u001b[0mCLICK_ELEMENT\u001b[0m\u001b[1;33m)\u001b[0m\u001b[1;33m\u001b[0m\u001b[1;33m\u001b[0m\u001b[0m\n\u001b[0m\u001b[0;32m     81\u001b[0m \u001b[1;33m\u001b[0m\u001b[0m\n\u001b[0;32m     82\u001b[0m     \u001b[1;32mdef\u001b[0m \u001b[0msubmit\u001b[0m\u001b[1;33m(\u001b[0m\u001b[0mself\u001b[0m\u001b[1;33m)\u001b[0m\u001b[1;33m:\u001b[0m\u001b[1;33m\u001b[0m\u001b[1;33m\u001b[0m\u001b[0m\n",
      "\u001b[1;32m~\\anaconda3\\lib\\site-packages\\selenium\\webdriver\\remote\\webelement.py\u001b[0m in \u001b[0;36m_execute\u001b[1;34m(self, command, params)\u001b[0m\n\u001b[0;32m    631\u001b[0m             \u001b[0mparams\u001b[0m \u001b[1;33m=\u001b[0m \u001b[1;33m{\u001b[0m\u001b[1;33m}\u001b[0m\u001b[1;33m\u001b[0m\u001b[1;33m\u001b[0m\u001b[0m\n\u001b[0;32m    632\u001b[0m         \u001b[0mparams\u001b[0m\u001b[1;33m[\u001b[0m\u001b[1;34m'id'\u001b[0m\u001b[1;33m]\u001b[0m \u001b[1;33m=\u001b[0m \u001b[0mself\u001b[0m\u001b[1;33m.\u001b[0m\u001b[0m_id\u001b[0m\u001b[1;33m\u001b[0m\u001b[1;33m\u001b[0m\u001b[0m\n\u001b[1;32m--> 633\u001b[1;33m         \u001b[1;32mreturn\u001b[0m \u001b[0mself\u001b[0m\u001b[1;33m.\u001b[0m\u001b[0m_parent\u001b[0m\u001b[1;33m.\u001b[0m\u001b[0mexecute\u001b[0m\u001b[1;33m(\u001b[0m\u001b[0mcommand\u001b[0m\u001b[1;33m,\u001b[0m \u001b[0mparams\u001b[0m\u001b[1;33m)\u001b[0m\u001b[1;33m\u001b[0m\u001b[1;33m\u001b[0m\u001b[0m\n\u001b[0m\u001b[0;32m    634\u001b[0m \u001b[1;33m\u001b[0m\u001b[0m\n\u001b[0;32m    635\u001b[0m     \u001b[1;32mdef\u001b[0m \u001b[0mfind_element\u001b[0m\u001b[1;33m(\u001b[0m\u001b[0mself\u001b[0m\u001b[1;33m,\u001b[0m \u001b[0mby\u001b[0m\u001b[1;33m=\u001b[0m\u001b[0mBy\u001b[0m\u001b[1;33m.\u001b[0m\u001b[0mID\u001b[0m\u001b[1;33m,\u001b[0m \u001b[0mvalue\u001b[0m\u001b[1;33m=\u001b[0m\u001b[1;32mNone\u001b[0m\u001b[1;33m)\u001b[0m\u001b[1;33m:\u001b[0m\u001b[1;33m\u001b[0m\u001b[1;33m\u001b[0m\u001b[0m\n",
      "\u001b[1;32m~\\anaconda3\\lib\\site-packages\\selenium\\webdriver\\remote\\webdriver.py\u001b[0m in \u001b[0;36mexecute\u001b[1;34m(self, driver_command, params)\u001b[0m\n\u001b[0;32m    319\u001b[0m         \u001b[0mresponse\u001b[0m \u001b[1;33m=\u001b[0m \u001b[0mself\u001b[0m\u001b[1;33m.\u001b[0m\u001b[0mcommand_executor\u001b[0m\u001b[1;33m.\u001b[0m\u001b[0mexecute\u001b[0m\u001b[1;33m(\u001b[0m\u001b[0mdriver_command\u001b[0m\u001b[1;33m,\u001b[0m \u001b[0mparams\u001b[0m\u001b[1;33m)\u001b[0m\u001b[1;33m\u001b[0m\u001b[1;33m\u001b[0m\u001b[0m\n\u001b[0;32m    320\u001b[0m         \u001b[1;32mif\u001b[0m \u001b[0mresponse\u001b[0m\u001b[1;33m:\u001b[0m\u001b[1;33m\u001b[0m\u001b[1;33m\u001b[0m\u001b[0m\n\u001b[1;32m--> 321\u001b[1;33m             \u001b[0mself\u001b[0m\u001b[1;33m.\u001b[0m\u001b[0merror_handler\u001b[0m\u001b[1;33m.\u001b[0m\u001b[0mcheck_response\u001b[0m\u001b[1;33m(\u001b[0m\u001b[0mresponse\u001b[0m\u001b[1;33m)\u001b[0m\u001b[1;33m\u001b[0m\u001b[1;33m\u001b[0m\u001b[0m\n\u001b[0m\u001b[0;32m    322\u001b[0m             response['value'] = self._unwrap_value(\n\u001b[0;32m    323\u001b[0m                 response.get('value', None))\n",
      "\u001b[1;32m~\\anaconda3\\lib\\site-packages\\selenium\\webdriver\\remote\\errorhandler.py\u001b[0m in \u001b[0;36mcheck_response\u001b[1;34m(self, response)\u001b[0m\n\u001b[0;32m    240\u001b[0m                 \u001b[0malert_text\u001b[0m \u001b[1;33m=\u001b[0m \u001b[0mvalue\u001b[0m\u001b[1;33m[\u001b[0m\u001b[1;34m'alert'\u001b[0m\u001b[1;33m]\u001b[0m\u001b[1;33m.\u001b[0m\u001b[0mget\u001b[0m\u001b[1;33m(\u001b[0m\u001b[1;34m'text'\u001b[0m\u001b[1;33m)\u001b[0m\u001b[1;33m\u001b[0m\u001b[1;33m\u001b[0m\u001b[0m\n\u001b[0;32m    241\u001b[0m             \u001b[1;32mraise\u001b[0m \u001b[0mexception_class\u001b[0m\u001b[1;33m(\u001b[0m\u001b[0mmessage\u001b[0m\u001b[1;33m,\u001b[0m \u001b[0mscreen\u001b[0m\u001b[1;33m,\u001b[0m \u001b[0mstacktrace\u001b[0m\u001b[1;33m,\u001b[0m \u001b[0malert_text\u001b[0m\u001b[1;33m)\u001b[0m\u001b[1;33m\u001b[0m\u001b[1;33m\u001b[0m\u001b[0m\n\u001b[1;32m--> 242\u001b[1;33m         \u001b[1;32mraise\u001b[0m \u001b[0mexception_class\u001b[0m\u001b[1;33m(\u001b[0m\u001b[0mmessage\u001b[0m\u001b[1;33m,\u001b[0m \u001b[0mscreen\u001b[0m\u001b[1;33m,\u001b[0m \u001b[0mstacktrace\u001b[0m\u001b[1;33m)\u001b[0m\u001b[1;33m\u001b[0m\u001b[1;33m\u001b[0m\u001b[0m\n\u001b[0m\u001b[0;32m    243\u001b[0m \u001b[1;33m\u001b[0m\u001b[0m\n\u001b[0;32m    244\u001b[0m     \u001b[1;32mdef\u001b[0m \u001b[0m_value_or_default\u001b[0m\u001b[1;33m(\u001b[0m\u001b[0mself\u001b[0m\u001b[1;33m,\u001b[0m \u001b[0mobj\u001b[0m\u001b[1;33m,\u001b[0m \u001b[0mkey\u001b[0m\u001b[1;33m,\u001b[0m \u001b[0mdefault\u001b[0m\u001b[1;33m)\u001b[0m\u001b[1;33m:\u001b[0m\u001b[1;33m\u001b[0m\u001b[1;33m\u001b[0m\u001b[0m\n",
      "\u001b[1;31mElementClickInterceptedException\u001b[0m: Message: element click intercepted: Element <span>...</span> is not clickable at point (507, 699). Other element would receive the click: <div data-v-06d9ba0f=\"\" class=\"el-col el-col-24 el-col-xs-22 el-col-sm-22 el-col-md-20 el-col-lg-16\">...</div>\n  (Session info: chrome=85.0.4183.102)\n"
     ]
    }
   ],
   "source": [
    "# City/Location\n",
    "# element_city_all = driver.find_element_by_xpath('//*[@id=\"recommend\"]/div[3]/div[4]/div[2]/span[1]')\n",
    "# element_city_reset = driver.find_element_by_xpath('//*[@id=\"recommend\"]/div[3]/div[4]/div[2]/span[2]')\n",
    "element_city_toronto = driver.find_element_by_xpath('/html/body/div/div/div[3]/div[4]/div[1]/div[1]/div[2]/span[1]')\n",
    "element_city_toronto.click();\n",
    "\n",
    "# element_city_northyork = driver.find_element_by_xpath('//*[text()=\"North York\"]')\n",
    "# element_city_etobicoke = driver.find_element_by_xpath('//*[text()=\"Etobicoke\"]')\n",
    "# element_city_markham = driver.find_element_by_xpath('//*[text()=\"Markham\"]')\n",
    "# element_city_richmondhill = driver.find_element_by_xpath('//*[text()=\"Richmond Hill\"]')\n",
    "# element_city_scarborough = driver.find_element_by_xpath('//*[text()=\"Scarborough\"]')\n",
    "# element_city_all.click()\n",
    "# element_city_reset.click()\n",
    "# element_city_toronto.click()\n",
    "# element_city_northyork.click()\n",
    "# element_city_etobicoke.click()\n",
    "# element_city_scarborough.click()\n",
    "# element_city_markham.click()\n",
    "# element_city_richmondhill.click()\n",
    "\n"
   ]
  },
  {
   "cell_type": "code",
   "execution_count": 591,
   "metadata": {},
   "outputs": [],
   "source": [
    "# Search Recommendations\n",
    "element_start_recommendation = driver.find_element_by_xpath('//*[text() = \"Start Recommendation\"]')\n",
    "element_start_recommendation.click();"
   ]
  },
  {
   "cell_type": "code",
   "execution_count": 592,
   "metadata": {},
   "outputs": [],
   "source": [
    "# Scroll to bottom\n",
    "# driver.execute_script(\"window.scrollTo(0, document.body.scrollHeight);\")\n",
    "# Open 10 pages\n",
    "for i in range(10):\n",
    "    driver.execute_script(f\"window.scrollTo({i}, document.body.scrollHeight);\")\n",
    "    sleep(1)"
   ]
  },
  {
   "cell_type": "code",
   "execution_count": 593,
   "metadata": {},
   "outputs": [],
   "source": [
    "# Create empty lists\n",
    "list_num =[]\n",
    "address =[]\n",
    "city_name =[]\n",
    "house_type =[]\n",
    "listing_price =[]\n",
    "estimated_price =[]\n",
    "estimate_date =[]\n",
    "bedroom =[]\n",
    "washroom =[]\n",
    "parking =[]\n",
    "tax =[]\n",
    "maintenance =[]\n",
    "building_age =[]\n",
    "size =[]\n",
    "listed_on =[]\n",
    "updated_on =[]\n",
    "# market_demand\n",
    "rental_estimate =[]\n",
    "rental_yield =[]\n",
    "intersection =[]\n",
    "property_style =[]\n",
    "exposure =[]\n",
    "description =[]\n"
   ]
  },
  {
   "cell_type": "code",
   "execution_count": null,
   "metadata": {},
   "outputs": [],
   "source": [
    "for i in range(10):\n",
    "    driver.execute_script(f\"window.scrollTo({i}, document.body.scrollHeight);\")\n",
    "    sleep(1)"
   ]
  },
  {
   "cell_type": "code",
   "execution_count": 596,
   "metadata": {
    "scrolled": true
   },
   "outputs": [
    {
     "name": "stdout",
     "output_type": "stream",
     "text": [
      "Community-1\n",
      "9\n",
      "Listing #1 scraping completed\n",
      "Listing #2 scraping completed\n",
      "Listing #3 scraping completed\n",
      "Listing #4 scraping completed\n",
      "Listing #5 scraping completed\n"
     ]
    },
    {
     "ename": "NoSuchWindowException",
     "evalue": "Message: no such window: target window already closed\nfrom unknown error: web view not found\n  (Session info: chrome=85.0.4183.102)\n",
     "output_type": "error",
     "traceback": [
      "\u001b[1;31m---------------------------------------------------------------------------\u001b[0m",
      "\u001b[1;31mNoSuchWindowException\u001b[0m                     Traceback (most recent call last)",
      "\u001b[1;32m<ipython-input-596-f751811bb301>\u001b[0m in \u001b[0;36m<module>\u001b[1;34m\u001b[0m\n\u001b[0;32m     39\u001b[0m         \u001b[1;32mtry\u001b[0m\u001b[1;33m:\u001b[0m\u001b[1;33m\u001b[0m\u001b[1;33m\u001b[0m\u001b[0m\n\u001b[1;32m---> 40\u001b[1;33m             \u001b[0mele_estimate_date\u001b[0m \u001b[1;33m=\u001b[0m \u001b[0mdriver\u001b[0m\u001b[1;33m.\u001b[0m\u001b[0mfind_element_by_xpath\u001b[0m\u001b[1;33m(\u001b[0m\u001b[1;34m'//div[@class = \"estimate_date\"]'\u001b[0m\u001b[1;33m)\u001b[0m\u001b[1;33m.\u001b[0m\u001b[0mtext\u001b[0m\u001b[1;33m\u001b[0m\u001b[1;33m\u001b[0m\u001b[0m\n\u001b[0m\u001b[0;32m     41\u001b[0m         \u001b[1;32mexcept\u001b[0m\u001b[1;33m:\u001b[0m\u001b[1;33m\u001b[0m\u001b[1;33m\u001b[0m\u001b[0m\n",
      "\u001b[1;32m~\\anaconda3\\lib\\site-packages\\selenium\\webdriver\\remote\\webdriver.py\u001b[0m in \u001b[0;36mfind_element_by_xpath\u001b[1;34m(self, xpath)\u001b[0m\n\u001b[0;32m    393\u001b[0m         \"\"\"\n\u001b[1;32m--> 394\u001b[1;33m         \u001b[1;32mreturn\u001b[0m \u001b[0mself\u001b[0m\u001b[1;33m.\u001b[0m\u001b[0mfind_element\u001b[0m\u001b[1;33m(\u001b[0m\u001b[0mby\u001b[0m\u001b[1;33m=\u001b[0m\u001b[0mBy\u001b[0m\u001b[1;33m.\u001b[0m\u001b[0mXPATH\u001b[0m\u001b[1;33m,\u001b[0m \u001b[0mvalue\u001b[0m\u001b[1;33m=\u001b[0m\u001b[0mxpath\u001b[0m\u001b[1;33m)\u001b[0m\u001b[1;33m\u001b[0m\u001b[1;33m\u001b[0m\u001b[0m\n\u001b[0m\u001b[0;32m    395\u001b[0m \u001b[1;33m\u001b[0m\u001b[0m\n",
      "\u001b[1;32m~\\anaconda3\\lib\\site-packages\\selenium\\webdriver\\remote\\webdriver.py\u001b[0m in \u001b[0;36mfind_element\u001b[1;34m(self, by, value)\u001b[0m\n\u001b[0;32m    975\u001b[0m                 \u001b[0mvalue\u001b[0m \u001b[1;33m=\u001b[0m \u001b[1;34m'[name=\"%s\"]'\u001b[0m \u001b[1;33m%\u001b[0m \u001b[0mvalue\u001b[0m\u001b[1;33m\u001b[0m\u001b[1;33m\u001b[0m\u001b[0m\n\u001b[1;32m--> 976\u001b[1;33m         return self.execute(Command.FIND_ELEMENT, {\n\u001b[0m\u001b[0;32m    977\u001b[0m             \u001b[1;34m'using'\u001b[0m\u001b[1;33m:\u001b[0m \u001b[0mby\u001b[0m\u001b[1;33m,\u001b[0m\u001b[1;33m\u001b[0m\u001b[1;33m\u001b[0m\u001b[0m\n",
      "\u001b[1;32m~\\anaconda3\\lib\\site-packages\\selenium\\webdriver\\remote\\webdriver.py\u001b[0m in \u001b[0;36mexecute\u001b[1;34m(self, driver_command, params)\u001b[0m\n\u001b[0;32m    320\u001b[0m         \u001b[1;32mif\u001b[0m \u001b[0mresponse\u001b[0m\u001b[1;33m:\u001b[0m\u001b[1;33m\u001b[0m\u001b[1;33m\u001b[0m\u001b[0m\n\u001b[1;32m--> 321\u001b[1;33m             \u001b[0mself\u001b[0m\u001b[1;33m.\u001b[0m\u001b[0merror_handler\u001b[0m\u001b[1;33m.\u001b[0m\u001b[0mcheck_response\u001b[0m\u001b[1;33m(\u001b[0m\u001b[0mresponse\u001b[0m\u001b[1;33m)\u001b[0m\u001b[1;33m\u001b[0m\u001b[1;33m\u001b[0m\u001b[0m\n\u001b[0m\u001b[0;32m    322\u001b[0m             response['value'] = self._unwrap_value(\n",
      "\u001b[1;32m~\\anaconda3\\lib\\site-packages\\selenium\\webdriver\\remote\\errorhandler.py\u001b[0m in \u001b[0;36mcheck_response\u001b[1;34m(self, response)\u001b[0m\n\u001b[0;32m    241\u001b[0m             \u001b[1;32mraise\u001b[0m \u001b[0mexception_class\u001b[0m\u001b[1;33m(\u001b[0m\u001b[0mmessage\u001b[0m\u001b[1;33m,\u001b[0m \u001b[0mscreen\u001b[0m\u001b[1;33m,\u001b[0m \u001b[0mstacktrace\u001b[0m\u001b[1;33m,\u001b[0m \u001b[0malert_text\u001b[0m\u001b[1;33m)\u001b[0m\u001b[1;33m\u001b[0m\u001b[1;33m\u001b[0m\u001b[0m\n\u001b[1;32m--> 242\u001b[1;33m         \u001b[1;32mraise\u001b[0m \u001b[0mexception_class\u001b[0m\u001b[1;33m(\u001b[0m\u001b[0mmessage\u001b[0m\u001b[1;33m,\u001b[0m \u001b[0mscreen\u001b[0m\u001b[1;33m,\u001b[0m \u001b[0mstacktrace\u001b[0m\u001b[1;33m)\u001b[0m\u001b[1;33m\u001b[0m\u001b[1;33m\u001b[0m\u001b[0m\n\u001b[0m\u001b[0;32m    243\u001b[0m \u001b[1;33m\u001b[0m\u001b[0m\n",
      "\u001b[1;31mNoSuchWindowException\u001b[0m: Message: no such window: target window already closed\nfrom unknown error: web view not found\n  (Session info: chrome=85.0.4183.102)\n",
      "\nDuring handling of the above exception, another exception occurred:\n",
      "\u001b[1;31mNoSuchWindowException\u001b[0m                     Traceback (most recent call last)",
      "\u001b[1;32m<ipython-input-596-f751811bb301>\u001b[0m in \u001b[0;36m<module>\u001b[1;34m\u001b[0m\n\u001b[0;32m     40\u001b[0m             \u001b[0mele_estimate_date\u001b[0m \u001b[1;33m=\u001b[0m \u001b[0mdriver\u001b[0m\u001b[1;33m.\u001b[0m\u001b[0mfind_element_by_xpath\u001b[0m\u001b[1;33m(\u001b[0m\u001b[1;34m'//div[@class = \"estimate_date\"]'\u001b[0m\u001b[1;33m)\u001b[0m\u001b[1;33m.\u001b[0m\u001b[0mtext\u001b[0m\u001b[1;33m\u001b[0m\u001b[1;33m\u001b[0m\u001b[0m\n\u001b[0;32m     41\u001b[0m         \u001b[1;32mexcept\u001b[0m\u001b[1;33m:\u001b[0m\u001b[1;33m\u001b[0m\u001b[1;33m\u001b[0m\u001b[0m\n\u001b[1;32m---> 42\u001b[1;33m             \u001b[0mele_estimate_date\u001b[0m \u001b[1;33m=\u001b[0m \u001b[0mdriver\u001b[0m\u001b[1;33m.\u001b[0m\u001b[0mfind_element_by_xpath\u001b[0m\u001b[1;33m(\u001b[0m\u001b[1;34m'//*[@id=\"room_count_to_estimate\"]/div[6]/div[1]/div[2]/p'\u001b[0m\u001b[1;33m)\u001b[0m\u001b[1;33m\u001b[0m\u001b[1;33m\u001b[0m\u001b[0m\n\u001b[0m\u001b[0;32m     43\u001b[0m         \u001b[0mele_bedroom\u001b[0m \u001b[1;33m=\u001b[0m \u001b[0mdriver\u001b[0m\u001b[1;33m.\u001b[0m\u001b[0mfind_element_by_xpath\u001b[0m\u001b[1;33m(\u001b[0m\u001b[1;34m'//*[@id=\"room_count_to_estimate\"]/div[1]/div/div/div[1]/span'\u001b[0m\u001b[1;33m)\u001b[0m\u001b[1;33m.\u001b[0m\u001b[0mtext\u001b[0m\u001b[1;33m\u001b[0m\u001b[1;33m\u001b[0m\u001b[0m\n\u001b[0;32m     44\u001b[0m         \u001b[0mele_washroom\u001b[0m \u001b[1;33m=\u001b[0m \u001b[0mdriver\u001b[0m\u001b[1;33m.\u001b[0m\u001b[0mfind_element_by_xpath\u001b[0m\u001b[1;33m(\u001b[0m\u001b[1;34m'//*[@id=\"room_count_to_estimate\"]/div[1]/div/div/div[2]/span'\u001b[0m\u001b[1;33m)\u001b[0m\u001b[1;33m.\u001b[0m\u001b[0mtext\u001b[0m\u001b[1;33m\u001b[0m\u001b[1;33m\u001b[0m\u001b[0m\n",
      "\u001b[1;32m~\\anaconda3\\lib\\site-packages\\selenium\\webdriver\\remote\\webdriver.py\u001b[0m in \u001b[0;36mfind_element_by_xpath\u001b[1;34m(self, xpath)\u001b[0m\n\u001b[0;32m    392\u001b[0m             \u001b[0melement\u001b[0m \u001b[1;33m=\u001b[0m \u001b[0mdriver\u001b[0m\u001b[1;33m.\u001b[0m\u001b[0mfind_element_by_xpath\u001b[0m\u001b[1;33m(\u001b[0m\u001b[1;34m'//div/td[1]'\u001b[0m\u001b[1;33m)\u001b[0m\u001b[1;33m\u001b[0m\u001b[1;33m\u001b[0m\u001b[0m\n\u001b[0;32m    393\u001b[0m         \"\"\"\n\u001b[1;32m--> 394\u001b[1;33m         \u001b[1;32mreturn\u001b[0m \u001b[0mself\u001b[0m\u001b[1;33m.\u001b[0m\u001b[0mfind_element\u001b[0m\u001b[1;33m(\u001b[0m\u001b[0mby\u001b[0m\u001b[1;33m=\u001b[0m\u001b[0mBy\u001b[0m\u001b[1;33m.\u001b[0m\u001b[0mXPATH\u001b[0m\u001b[1;33m,\u001b[0m \u001b[0mvalue\u001b[0m\u001b[1;33m=\u001b[0m\u001b[0mxpath\u001b[0m\u001b[1;33m)\u001b[0m\u001b[1;33m\u001b[0m\u001b[1;33m\u001b[0m\u001b[0m\n\u001b[0m\u001b[0;32m    395\u001b[0m \u001b[1;33m\u001b[0m\u001b[0m\n\u001b[0;32m    396\u001b[0m     \u001b[1;32mdef\u001b[0m \u001b[0mfind_elements_by_xpath\u001b[0m\u001b[1;33m(\u001b[0m\u001b[0mself\u001b[0m\u001b[1;33m,\u001b[0m \u001b[0mxpath\u001b[0m\u001b[1;33m)\u001b[0m\u001b[1;33m:\u001b[0m\u001b[1;33m\u001b[0m\u001b[1;33m\u001b[0m\u001b[0m\n",
      "\u001b[1;32m~\\anaconda3\\lib\\site-packages\\selenium\\webdriver\\remote\\webdriver.py\u001b[0m in \u001b[0;36mfind_element\u001b[1;34m(self, by, value)\u001b[0m\n\u001b[0;32m    974\u001b[0m                 \u001b[0mby\u001b[0m \u001b[1;33m=\u001b[0m \u001b[0mBy\u001b[0m\u001b[1;33m.\u001b[0m\u001b[0mCSS_SELECTOR\u001b[0m\u001b[1;33m\u001b[0m\u001b[1;33m\u001b[0m\u001b[0m\n\u001b[0;32m    975\u001b[0m                 \u001b[0mvalue\u001b[0m \u001b[1;33m=\u001b[0m \u001b[1;34m'[name=\"%s\"]'\u001b[0m \u001b[1;33m%\u001b[0m \u001b[0mvalue\u001b[0m\u001b[1;33m\u001b[0m\u001b[1;33m\u001b[0m\u001b[0m\n\u001b[1;32m--> 976\u001b[1;33m         return self.execute(Command.FIND_ELEMENT, {\n\u001b[0m\u001b[0;32m    977\u001b[0m             \u001b[1;34m'using'\u001b[0m\u001b[1;33m:\u001b[0m \u001b[0mby\u001b[0m\u001b[1;33m,\u001b[0m\u001b[1;33m\u001b[0m\u001b[1;33m\u001b[0m\u001b[0m\n\u001b[0;32m    978\u001b[0m             'value': value})['value']\n",
      "\u001b[1;32m~\\anaconda3\\lib\\site-packages\\selenium\\webdriver\\remote\\webdriver.py\u001b[0m in \u001b[0;36mexecute\u001b[1;34m(self, driver_command, params)\u001b[0m\n\u001b[0;32m    319\u001b[0m         \u001b[0mresponse\u001b[0m \u001b[1;33m=\u001b[0m \u001b[0mself\u001b[0m\u001b[1;33m.\u001b[0m\u001b[0mcommand_executor\u001b[0m\u001b[1;33m.\u001b[0m\u001b[0mexecute\u001b[0m\u001b[1;33m(\u001b[0m\u001b[0mdriver_command\u001b[0m\u001b[1;33m,\u001b[0m \u001b[0mparams\u001b[0m\u001b[1;33m)\u001b[0m\u001b[1;33m\u001b[0m\u001b[1;33m\u001b[0m\u001b[0m\n\u001b[0;32m    320\u001b[0m         \u001b[1;32mif\u001b[0m \u001b[0mresponse\u001b[0m\u001b[1;33m:\u001b[0m\u001b[1;33m\u001b[0m\u001b[1;33m\u001b[0m\u001b[0m\n\u001b[1;32m--> 321\u001b[1;33m             \u001b[0mself\u001b[0m\u001b[1;33m.\u001b[0m\u001b[0merror_handler\u001b[0m\u001b[1;33m.\u001b[0m\u001b[0mcheck_response\u001b[0m\u001b[1;33m(\u001b[0m\u001b[0mresponse\u001b[0m\u001b[1;33m)\u001b[0m\u001b[1;33m\u001b[0m\u001b[1;33m\u001b[0m\u001b[0m\n\u001b[0m\u001b[0;32m    322\u001b[0m             response['value'] = self._unwrap_value(\n\u001b[0;32m    323\u001b[0m                 response.get('value', None))\n",
      "\u001b[1;32m~\\anaconda3\\lib\\site-packages\\selenium\\webdriver\\remote\\errorhandler.py\u001b[0m in \u001b[0;36mcheck_response\u001b[1;34m(self, response)\u001b[0m\n\u001b[0;32m    240\u001b[0m                 \u001b[0malert_text\u001b[0m \u001b[1;33m=\u001b[0m \u001b[0mvalue\u001b[0m\u001b[1;33m[\u001b[0m\u001b[1;34m'alert'\u001b[0m\u001b[1;33m]\u001b[0m\u001b[1;33m.\u001b[0m\u001b[0mget\u001b[0m\u001b[1;33m(\u001b[0m\u001b[1;34m'text'\u001b[0m\u001b[1;33m)\u001b[0m\u001b[1;33m\u001b[0m\u001b[1;33m\u001b[0m\u001b[0m\n\u001b[0;32m    241\u001b[0m             \u001b[1;32mraise\u001b[0m \u001b[0mexception_class\u001b[0m\u001b[1;33m(\u001b[0m\u001b[0mmessage\u001b[0m\u001b[1;33m,\u001b[0m \u001b[0mscreen\u001b[0m\u001b[1;33m,\u001b[0m \u001b[0mstacktrace\u001b[0m\u001b[1;33m,\u001b[0m \u001b[0malert_text\u001b[0m\u001b[1;33m)\u001b[0m\u001b[1;33m\u001b[0m\u001b[1;33m\u001b[0m\u001b[0m\n\u001b[1;32m--> 242\u001b[1;33m         \u001b[1;32mraise\u001b[0m \u001b[0mexception_class\u001b[0m\u001b[1;33m(\u001b[0m\u001b[0mmessage\u001b[0m\u001b[1;33m,\u001b[0m \u001b[0mscreen\u001b[0m\u001b[1;33m,\u001b[0m \u001b[0mstacktrace\u001b[0m\u001b[1;33m)\u001b[0m\u001b[1;33m\u001b[0m\u001b[1;33m\u001b[0m\u001b[0m\n\u001b[0m\u001b[0;32m    243\u001b[0m \u001b[1;33m\u001b[0m\u001b[0m\n\u001b[0;32m    244\u001b[0m     \u001b[1;32mdef\u001b[0m \u001b[0m_value_or_default\u001b[0m\u001b[1;33m(\u001b[0m\u001b[0mself\u001b[0m\u001b[1;33m,\u001b[0m \u001b[0mobj\u001b[0m\u001b[1;33m,\u001b[0m \u001b[0mkey\u001b[0m\u001b[1;33m,\u001b[0m \u001b[0mdefault\u001b[0m\u001b[1;33m)\u001b[0m\u001b[1;33m:\u001b[0m\u001b[1;33m\u001b[0m\u001b[1;33m\u001b[0m\u001b[0m\n",
      "\u001b[1;31mNoSuchWindowException\u001b[0m: Message: no such window: target window already closed\nfrom unknown error: web view not found\n  (Session info: chrome=85.0.4183.102)\n"
     ]
    }
   ],
   "source": [
    "# Selecting community\n",
    "community_list = driver.find_elements_by_xpath('//*[@id=\"recommend\"]/div[3]/div[7]/div')# Finding number of lists per webpage\n",
    "\n",
    "for i in range(1, len(community_list)):\n",
    "    element_community = driver.find_element_by_xpath(f'//*[@id=\"recommend\"]/div[3]/div[7]/div[{i}]/div[2]/div[2]/div[4]/span/button/span')\n",
    "    element_community.click()\n",
    "    print(f'Community-{i}')\n",
    "    sleep(3)\n",
    "\n",
    "    post_list = driver.find_elements_by_xpath('//*[@id=\"recommend\"]/div[2]/div/div[2]/div[3]/div[1]/div')\n",
    "    print(len(post_list))\n",
    "\n",
    "    for i in range(1,len(post_list)+1):\n",
    "        post = driver.find_element_by_xpath(f'//*[@id=\"recommend\"]/div[2]/div/div[2]/div[3]/div[1]/div[{i}]/div/div[1]/a')\n",
    "        post.click() #clicks on the posted listing\n",
    "        # new tab opens\n",
    "        driver.switch_to.window(driver.window_handles[-1]) #moves controller to the last opened tab handle\n",
    "        #now able to control the newly opened tab\n",
    "        sleep(2)\n",
    "\n",
    "        # Scraping the listing details\n",
    "        try:\n",
    "            ele_list_num = driver.find_element_by_xpath('//*[@id=\"room_count_to_estimate\"]/div[5]/div[2]/div[1]/span').text\n",
    "        except:\n",
    "            ele_list_num = driver.find_element_by_xpath('//*[@id=\"room_count_to_estimate\"]/div[6]/div[2]/div[1]/span').text\n",
    "        ele_address = driver.find_element_by_xpath('//div[@class = \"address\"]').text\n",
    "        ele_city_name = driver.find_element_by_xpath('//div[@class = \"city_name\"]').text\n",
    "        ele_house_type = driver.find_element_by_xpath('//div[@class = \"house_type\"]').text\n",
    "\n",
    "        try:\n",
    "            ele_listing_price = driver.find_element_by_xpath('//div[@class = \"price_listing\"]/span').text\n",
    "        except:\n",
    "            pass\n",
    "\n",
    "        try:\n",
    "            ele_estimated_price = driver.find_element_by_xpath('//div[@class = \"price_dollar\"]').text\n",
    "        except:\n",
    "            ele_estimated_price = driver.find_element_by_xpath('//*[@id=\"room_count_to_estimate\"]/div[6]/div[1]/div[1]/p').text\n",
    "        try:\n",
    "            ele_estimate_date = driver.find_element_by_xpath('//div[@class = \"estimate_date\"]').text\n",
    "        except:\n",
    "            ele_estimate_date = driver.find_element_by_xpath('//*[@id=\"room_count_to_estimate\"]/div[6]/div[1]/div[2]/p')\n",
    "        ele_bedroom = driver.find_element_by_xpath('//*[@id=\"room_count_to_estimate\"]/div[1]/div/div/div[1]/span').text\n",
    "        ele_washroom = driver.find_element_by_xpath('//*[@id=\"room_count_to_estimate\"]/div[1]/div/div/div[2]/span').text\n",
    "        ele_parking = driver.find_element_by_xpath('//*[@id=\"room_count_to_estimate\"]/div[1]/div/div/div[3]/span').text\n",
    "        try:\n",
    "            ele_tax = driver.find_element_by_xpath('//*[@id=\"room_count_to_estimate\"]/div[5]/div[1]/div[1]/span').text\n",
    "        except:\n",
    "            ele_tax = driver.find_element_by_xpath('//*[@id=\"room_count_to_estimate\"]/div[6]/div[1]/div[1]/span').text\n",
    "        try:\n",
    "            ele_maintenance = driver.find_element_by_xpath('//*[@id=\"room_count_to_estimate\"]/div[5]/div[1]/div[3]/span').text\n",
    "        except:\n",
    "            ele_maintenance = driver.find_element_by_xpath('//*[@id=\"room_count_to_estimate\"]/div[6]/div[1]/div[3]/span').text\n",
    "        try:\n",
    "            ele_building_age = driver.find_element_by_xpath('//*[@id=\"room_count_to_estimate\"]/div[5]/div[1]/div[4]/span').text\n",
    "        except:\n",
    "            ele_building_age = driver.find_element_by_xpath('//*[@id=\"room_count_to_estimate\"]/div[6]/div[1]/div[5]/label').text\n",
    "        try:\n",
    "            ele_size = driver.find_element_by_xpath('//*[@id=\"room_count_to_estimate\"]/div[5]/div[1]/div[5]/span').text\n",
    "        except:\n",
    "            ele_size = driver.find_element_by_xpath('//*[@id=\"room_count_to_estimate\"]/div[6]/div[1]/div[5]/span').text\n",
    "\n",
    "        try:\n",
    "            ele_listed_on = driver.find_element_by_xpath('//*[@id=\"room_count_to_estimate\"]/div[5]/div[2]/div[3]/span').text\n",
    "        except:\n",
    "            ele_listed_on = driver.find_element_by_xpath('//*[@id=\"room_count_to_estimate\"]/div[6]/div[2]/div[3]/span').text\n",
    "\n",
    "        try:\n",
    "            ele_updated_on = driver.find_element_by_xpath('//*[@id=\"room_count_to_estimate\"]/div[5]/div[2]/div[4]/span').text\n",
    "        except:\n",
    "            ele_updated_on = driver.find_element_by_xpath('//*[@id=\"room_count_to_estimate\"]/div[6]/div[2]/div[4]/span').text\n",
    "        # ele_market_demand = driver.find_element_by_xpath('//*[@id=\"room_count_to_estimate\"]/div[5]/div[2]/div[6]').text\n",
    "\n",
    "        try:\n",
    "            ele_rental_estimate = driver.find_element_by_xpath('//*[@id=\"room_count_to_estimate\"]/div[6]/div[1]/div[3]/p').text\n",
    "        except:\n",
    "            ele_rental_estimate = driver.find_element_by_xpath('//*[@id=\"room_count_to_estimate\"]/div[7]/div[1]/div[3]/p').text\n",
    "\n",
    "        try:\n",
    "            ele_rental_yield = driver.find_element_by_xpath('//*[@id=\"room_count_to_estimate\"]/div[6]/div[1]/div[4]/p').text\n",
    "        except:\n",
    "            ele_rental_yield = driver.find_element_by_xpath('//*[@id=\"room_count_to_estimate\"]/div[7]/div[1]/div[4]/p').text\n",
    "\n",
    "        ele_intersection = driver.find_element_by_xpath('//*[@id=\"property_details\"]/div[1]/div[1]/div[1]/span').text\n",
    "        ele_property_style = driver.find_element_by_xpath('//*[@id=\"property_details\"]/div[1]/div[1]/div[2]/span').text\n",
    "        ele_exposure = driver.find_element_by_xpath('//*[@id=\"property_details\"]/div[1]/div[1]/div[3]/span').text\n",
    "        ele_description = driver.find_element_by_xpath('//*[@id=\"property_details\"]/div[2]/p').text\n",
    "\n",
    "        # Append lists\n",
    "        list_num.append(ele_list_num) \n",
    "        address.append(ele_address)\n",
    "        city_name.append(ele_city_name)\n",
    "        house_type.append(ele_house_type) \n",
    "        listing_price.append(ele_listing_price) \n",
    "        estimated_price.append(ele_estimated_price) \n",
    "        estimate_date.append(ele_estimate_date) \n",
    "        bedroom.append(ele_bedroom) \n",
    "        washroom.append(ele_washroom) \n",
    "        parking.append(ele_parking) \n",
    "        tax.append(ele_tax) \n",
    "        maintenance.append(ele_maintenance) \n",
    "        building_age.append(ele_building_age) \n",
    "        size.append(ele_size) \n",
    "        listed_on.append(ele_listed_on) \n",
    "        updated_on.append(ele_updated_on) \n",
    "        # market_deman.append(ele_city_name)d\n",
    "        rental_estimate.append(ele_rental_estimate) \n",
    "        rental_yield.append(ele_rental_yield) \n",
    "        intersection.append(ele_intersection) \n",
    "        property_style.append(ele_property_style)\n",
    "        exposure.append(ele_exposure) \n",
    "        description.append(ele_description)\n",
    "\n",
    "    #         # For checking purpose\n",
    "    #         print(ele_address)\n",
    "    #         sleep(1)\n",
    "    #         print(ele_city_name)\n",
    "    #         sleep(1)\n",
    "        driver.close()#closes current, active tab\n",
    "        driver.switch_to.window(driver.window_handles[0])\n",
    "        sleep(2)\n",
    "        print(f'Listing #{i} scraping completed')\n",
    "    sleep(2)\n",
    "    close_community = driver.find_element_by_xpath('//*[@id=\"recommend\"]/div[2]/div/div[1]/button/i')\n",
    "    close_community.click()\n",
    "    sleep(10)"
   ]
  },
  {
   "cell_type": "code",
   "execution_count": null,
   "metadata": {},
   "outputs": [],
   "source": [
    "driver.close()#closes current, active tab\n",
    "driver.switch_to.window(driver.window_handles[0])\n",
    "sleep(2)"
   ]
  },
  {
   "cell_type": "code",
   "execution_count": null,
   "metadata": {},
   "outputs": [],
   "source": [
    "close_community = driver.find_element_by_xpath('//*[@id=\"recommend\"]/div[2]/div/div[1]/button/i')\n",
    "close_community.click()\n",
    "sleep(10)"
   ]
  },
  {
   "cell_type": "code",
   "execution_count": null,
   "metadata": {},
   "outputs": [],
   "source": [
    "# # Selecting a listing from community (for 1 post)\n",
    "# # this code opens a new tab\n",
    "# element_community_post = driver.find_element_by_xpath('//div[@class=\"pic_infor\"]')\n",
    "# element_community_post.click()\n",
    "\n",
    "# # Switching to the active tab\n",
    "# driver.switch_to.window(driver.window_handles[-1]) #last opened tab handle"
   ]
  },
  {
   "cell_type": "code",
   "execution_count": null,
   "metadata": {},
   "outputs": [],
   "source": [
    "# # Scraping listing details\n",
    "# ele_address = driver.find_element_by_xpath('//div[@class = \"address\"]').text\n",
    "# ele_city_name = driver.find_element_by_xpath('//div[@class = \"city_name\"]').text\n",
    "# ele_house_type = driver.find_element_by_xpath('//div[@class = \"house_type\"]').text\n",
    "# ele_listing_price = driver.find_element_by_xpath('//div[@class = \"price_listing\"]/span').text\n",
    "# ele_estimated_price = driver.find_element_by_xpath('//div[@class = \"price_dollar\"]').text\n",
    "# ele_estimate_date = driver.find_element_by_xpath('//div[@class = \"estimate_date\"]').text\n",
    "# ele_bedroom = driver.find_element_by_xpath('//*[@id=\"room_count_to_estimate\"]/div[1]/div/div/div[1]/span').text\n",
    "# ele_washroom = driver.find_element_by_xpath('//*[@id=\"room_count_to_estimate\"]/div[1]/div/div/div[2]/span').text\n",
    "# ele_parking = driver.find_element_by_xpath('//*[@id=\"room_count_to_estimate\"]/div[1]/div/div/div[3]/span').text\n",
    "# ele_tax = driver.find_element_by_xpath('//*[@id=\"room_count_to_estimate\"]/div[5]/div[1]/div[1]/span').text\n",
    "# ele_maintenance = driver.find_element_by_xpath('//*[@id=\"room_count_to_estimate\"]/div[5]/div[1]/div[3]/span').text\n",
    "# ele_building_age = driver.find_element_by_xpath('//*[@id=\"room_count_to_estimate\"]/div[5]/div[1]/div[4]/span').text\n",
    "# ele_size = driver.find_element_by_xpath('//*[@id=\"room_count_to_estimate\"]/div[5]/div[1]/div[5]/span').text\n",
    "# ele_list_num = driver.find_element_by_xpath('//*[@id=\"room_count_to_estimate\"]/div[5]/div[2]/div[1]/span').text\n",
    "# ele_listed_on = driver.find_element_by_xpath('//*[@id=\"room_count_to_estimate\"]/div[5]/div[2]/div[3]/span').text\n",
    "# ele_updated_on = driver.find_element_by_xpath('//*[@id=\"room_count_to_estimate\"]/div[5]/div[2]/div[4]/span').text\n",
    "# # ele_market_demand = driver.find_element_by_xpath('//*[@id=\"room_count_to_estimate\"]/div[5]/div[2]/div[6]').text\n",
    "# ele_rental_estimate = driver.find_element_by_xpath('//*[@id=\"room_count_to_estimate\"]/div[6]/div[1]/div[3]/p').text\n",
    "# ele_rental_yield = driver.find_element_by_xpath('//*[@id=\"room_count_to_estimate\"]/div[6]/div[1]/div[4]/p').text\n",
    "# ele_intersection = driver.find_element_by_xpath('//*[@id=\"property_details\"]/div[1]/div[1]/div[1]/span').text\n",
    "# ele_property_style = driver.find_element_by_xpath('//*[@id=\"property_details\"]/div[1]/div[1]/div[2]/span').text\n",
    "# ele_exposure = driver.find_element_by_xpath('//*[@id=\"property_details\"]/div[1]/div[1]/div[3]/span').text\n",
    "# ele_description = driver.find_element_by_xpath('//*[@class=\"desc_more\"]/div[1]/div[1]/div[3]/span').text"
   ]
  },
  {
   "cell_type": "code",
   "execution_count": null,
   "metadata": {},
   "outputs": [],
   "source": [
    "# print(ele_list_num)\n",
    "# print(ele_address)\n",
    "# print(ele_city_name)\n",
    "# print(ele_house_type)\n",
    "# print(ele_listing_price)\n",
    "# print(ele_estimated_price)\n",
    "# print(ele_estimate_date)\n",
    "# print(ele_bedroom)\n",
    "# print(ele_washroom)\n",
    "# print(ele_parking)\n",
    "# print(ele_tax)\n",
    "# print(ele_maintenance)\n",
    "# print(ele_building_age)\n",
    "# print(ele_size)\n",
    "# print(ele_listed_on)\n",
    "# print(ele_updated_on)\n",
    "# # print(ele_market_demand)\n",
    "# print(ele_rental_estimate)\n",
    "# print(ele_rental_yield)\n",
    "# print(ele_intersection)\n",
    "# print(ele_property_style)\n",
    "# print(ele_exposure)\n",
    "# print(ele_description)"
   ]
  },
  {
   "cell_type": "code",
   "execution_count": 598,
   "metadata": {},
   "outputs": [
    {
     "name": "stdout",
     "output_type": "stream",
     "text": [
      "['C4844438', 'C4901798', 'C4869792', 'C4877344', 'C4796356']\n",
      "['Unit 507 - 170 Chiltern Hill Rd', 'Unit 315 - 170 Chiltern Hill Rd', 'Unit 706 - 170 Chiltern Hill Rd', 'Unit 807 - 1486 Bathurst St', 'Unit 402 - 170 Chiltern Hill Rd']\n",
      "['Humewood-Cedarvale - Toronto', 'Humewood-Cedarvale - Toronto', 'Humewood-Cedarvale - Toronto', 'Humewood-Cedarvale - Toronto', 'Humewood-Cedarvale - Toronto']\n",
      "['Condo Apt', 'Condo Apt', 'Condo Apt', 'Condo Apt', 'Condo Apt']\n",
      "['$ 579,000', '$ 499,000', '$ 569,000', '$ 649,000', '$ 979,000']\n",
      "['$543,101', '$478,548', '$569,629', '$638,624', '$989,159']\n",
      "['As of 2020-08-04', 'As of 2020-09-11', 'As of 2020-09-12', 'As of 2020-08-19', 'As of 2020-09-10']\n",
      "['1 Bedrooms', '1 Bedrooms', '1 Bedrooms', '1 Bedrooms', '2 Bedrooms']\n",
      "['1 Bathrooms', '1 Bathrooms', '1 Bathrooms', '1 Bathrooms', '2 Bathrooms']\n",
      "['1 Garage', '1 Garage', '1 Garage', '1 Garage', '1 Garage']\n",
      "['$ 2,224', '$ 2,444', '$ 2,441', '$ -', '$ 3,200']\n",
      "['-', '$578/month', '$550/month', '$476/month', '$981/month']\n",
      "['water,heat', 'water,heat', 'water,heat', 'water,heat', 'water,heat']\n",
      "['-', '0-5', '-', 'New', 'New']\n",
      "['2020-07-24', '2020-09-08', '2020-08-13', '2020-08-19', '2020-06-17']\n",
      "['2020-08-04', '2020-09-11', '2020-09-12', '2020-08-19', '2020-09-10']\n",
      "['$2,082', '$2,100', '$2,100', '$2,291', '$2,389']\n",
      "['4.02%', '3.12%', '2.68%', '3.27%', '1.28%']\n",
      "['Bathurst & Eglinton', 'Bathurst+Eglinton', 'Bathurst&Eglinton', 'Bathurst & St. Clair', 'Bathurst & Eglinton']\n",
      "['Apartment', 'Apartment', 'Apartment', 'Apartment', 'Apartment']\n",
      "['N', 'E', 'N', 'Sw', 'S']\n",
      "['Welcome To The Hill. Situated On The Border Of Forest Hill & Cedarvale. This Suite Is In A Perfect Location. No Space Is Wasted In This Well Laid Out Space. Beautiful High End Finishes With A Private Large Balcony. Subway, Parks, Restaurants, Convenient Stores Are At Your Door Step.\\nInclude All Appliances.', 'Welcome To \"The Hill\" In Upper Forest Hill Village! Open Concept Layout Filled With Wall To Wall Windows, Laminate Floors, Modern Kitchen With Sleek Cabinetry And Stainless Steel Appliances. Custom Blinds, Lighting And Frosted Sliding Doors.Great Parking Spot! Exceptional Amenities Include: Concierge, Gym, Guest Suites + More - Steps To Upcoming Lrt.\\nS/S Fridge,Ceramic Cooktop,S/S Oven S/S Micro,S/S Range Hood,Dishwasher,W+D,All Elf\\'s,Custom Blinds+All Existing Furnishings (1 Queen Bed Frame,Entertainment Unit,Closet Organizers.)*Bell Service Bundle Avail $40+Hst/Mo Cable+Internet.', 'Welcome To Upper Forest Hill! Functional Loft Style 1 Bed(W Parking). Boutique Luxury Building \"The Hill\" Is Steps From The Lrt, Eglinton W Subway, &Allen Rd/Hwy 401. Open Concept Unit,Bright&Airy. Wall-To-Wall/Floor-To-Ceiling Windows. 9\\' Ceilings. Eat-In Kitchen W S/S Appliances&Quartz Countertop&Backsplash. Stunning Master W Glass Doors. 3 Pc Bath W Glass Shower. Balcony W City Views. Foyer W Lrg Closet&Separate Laundry Closet. Not An Inch Of Wasted Space!\\nS/S Whirlpool Fridge, Stove, Hood, Dishwasher,&Microwave. Whirlpool Stacked Washer&Dryer. All Full Sized! All Elfs&Window Coverings. One Parking. Amenities:Gym, Guest Suites, Rooftop Deck/Garden, Party Room, Concierge,& More. Green P Under!', 'Live Like A Baron/Baroness At The Barrington In This Rarely Available 1Br Featuring 2 Balconies Overlooking Clear S/W Views Of Stunning St. Clair W. Enjoy An Excellent & Super-Functional Layout With Top-Of-The-Line Brand New Appliances In This Never-Been-Lived-In Spacious 588Sf Unit, Or Treat As An Aaa Investment And Source Discerning Residents Who Wish To Be Close To Ttc, Wychwood Barns And All Amazing Amenities That This Vibrant Neighbourhood Has To Offer.\\nCorner Unit With 115Sf Of Exclusive Outdoor Space, Includes Parking, Storage Locker And Bike Storage, Friendly & Attentive Concierge, Steps To St. Clair W. Ttc Station, Loblaws, Starbucks, Trendy Restaurants, Winston Churchill Park & More.', 'Nestled In One Of The Most Prestigious Locations In The City You New Home Awaits In This Luxury Condo At \"The Hill\" In Upper Forest Hill Village. This Split Open Concept, 2 Bdr, 2 Bathroom Includes Master En-Suite, W/I Closet, In-Suite Laundry, Floor To Ceiling Windows, ,. Huge 392 Sq/Ft Terrace Overlooking All The Best The City Has To Offer. Steps To Some Of The Trendiest Shops, Restaurants, Subway, Future Lrt And Lots More!\\nFull Size Ss Fridge, Stove Top, Oven, Range Hood, Dishwasher, Under Mount Sink, Washer, Dryer. Building Amenities Include Concierge, Gym, Party Room, Guest Suite, Terrace & Parking']\n"
     ]
    }
   ],
   "source": [
    "print(list_num)\n",
    "print(address)\n",
    "print(city_name)\n",
    "print(house_type)\n",
    "print(listing_price)\n",
    "print(estimated_price)\n",
    "print(estimate_date)\n",
    "print(bedroom)\n",
    "print(washroom)\n",
    "print(parking)\n",
    "print(tax)\n",
    "print(maintenance)\n",
    "print(building_age)\n",
    "print(size)\n",
    "print(listed_on)\n",
    "print(updated_on)\n",
    "# print(market_demand)\n",
    "print(rental_estimate)\n",
    "print(rental_yield)\n",
    "print(intersection)\n",
    "print(property_style)\n",
    "print(exposure)\n",
    "print(description)"
   ]
  },
  {
   "cell_type": "markdown",
   "metadata": {},
   "source": [
    "## Creating a dataframe"
   ]
  },
  {
   "cell_type": "code",
   "execution_count": null,
   "metadata": {},
   "outputs": [],
   "source": [
    "# Into a dataframe\n",
    "df = pd.DataFrame({\n",
    "    'Listing_num':list_num,\n",
    "    'Address':address,\n",
    "    'City':city_name,\n",
    "    'House_type':house_type,\n",
    "    'Price':listing_price,\n",
    "    'Estimated_price':estimated_price,\n",
    "    'Estimated_on':estimate_date,\n",
    "    'Bedroom_num':bedroom,\n",
    "    'Washroom_num':washroom,\n",
    "    'Parking_num':parking,\n",
    "    'Tax':tax,\n",
    "    'Maintenance':maintenance,\n",
    "    'Building_age':building_age,\n",
    "    'Size':size,\n",
    "    'Listed_on':listed_on,\n",
    "    'Updated_on':updated_on,\n",
    "    'Rental_estimate':rental_estimate,\n",
    "    'Rental_yield':rental_yield,\n",
    "    'Major_intersection':intersection,\n",
    "    'Property_style':property_style,\n",
    "    'Exposure':exposure,\n",
    "    'Description':description\n",
    "})"
   ]
  },
  {
   "cell_type": "code",
   "execution_count": null,
   "metadata": {},
   "outputs": [],
   "source": [
    "df"
   ]
  },
  {
   "cell_type": "code",
   "execution_count": null,
   "metadata": {},
   "outputs": [],
   "source": [
    "df.shape"
   ]
  },
  {
   "cell_type": "code",
   "execution_count": null,
   "metadata": {},
   "outputs": [],
   "source": [
    "df.to_csv('2020_HouseSigma_listing_details_4.csv', index = False)"
   ]
  },
  {
   "cell_type": "code",
   "execution_count": 176,
   "metadata": {},
   "outputs": [],
   "source": [
    "# df = pd.read_csv('2020_HouseSigma_listing_details.csv')\n",
    "# df2 = pd.read_csv('2020_HouseSigma_listing_details_2.csv')\n",
    "# df3 = pd.read_csv('2020_HouseSigma_listing_details_3.csv')\n",
    "# df4 = pd.read_csv('2020_HouseSigma_listing_details_4.csv')\n",
    "# df_all = pd.concat([df, df2, df3, df4])\n",
    "df_all.to_csv('2020_HouseSigma_listing_details_all.csv', index = False)"
   ]
  },
  {
   "cell_type": "markdown",
   "metadata": {},
   "source": [
    "## Cleaning dataset"
   ]
  },
  {
   "cell_type": "code",
   "execution_count": 246,
   "metadata": {},
   "outputs": [],
   "source": [
    "df_all = pd.read_csv('2020_HouseSigma_listing_details_all.csv')"
   ]
  },
  {
   "cell_type": "code",
   "execution_count": 203,
   "metadata": {},
   "outputs": [
    {
     "data": {
      "text/plain": [
       "(931, 22)"
      ]
     },
     "execution_count": 203,
     "metadata": {},
     "output_type": "execute_result"
    }
   ],
   "source": [
    "df_all.shape"
   ]
  },
  {
   "cell_type": "code",
   "execution_count": 204,
   "metadata": {},
   "outputs": [
    {
     "data": {
      "text/html": [
       "<div>\n",
       "<style scoped>\n",
       "    .dataframe tbody tr th:only-of-type {\n",
       "        vertical-align: middle;\n",
       "    }\n",
       "\n",
       "    .dataframe tbody tr th {\n",
       "        vertical-align: top;\n",
       "    }\n",
       "\n",
       "    .dataframe thead th {\n",
       "        text-align: right;\n",
       "    }\n",
       "</style>\n",
       "<table border=\"1\" class=\"dataframe\">\n",
       "  <thead>\n",
       "    <tr style=\"text-align: right;\">\n",
       "      <th></th>\n",
       "      <th>Listing_num</th>\n",
       "      <th>Address</th>\n",
       "      <th>City</th>\n",
       "      <th>House_type</th>\n",
       "      <th>Price</th>\n",
       "      <th>Estimated_price</th>\n",
       "      <th>Estimated_on</th>\n",
       "      <th>Bedroom_num</th>\n",
       "      <th>Washroom_num</th>\n",
       "      <th>Parking_num</th>\n",
       "      <th>...</th>\n",
       "      <th>Building_age</th>\n",
       "      <th>Size</th>\n",
       "      <th>Listed_on</th>\n",
       "      <th>Updated_on</th>\n",
       "      <th>Rental_estimate</th>\n",
       "      <th>Rental_yield</th>\n",
       "      <th>Major_intersection</th>\n",
       "      <th>Property_style</th>\n",
       "      <th>Exposure</th>\n",
       "      <th>Description</th>\n",
       "    </tr>\n",
       "  </thead>\n",
       "  <tbody>\n",
       "    <tr>\n",
       "      <th>0</th>\n",
       "      <td>C4844438</td>\n",
       "      <td>Unit 507 - 170 Chiltern Hill Rd</td>\n",
       "      <td>Humewood-Cedarvale - Toronto</td>\n",
       "      <td>Condo Apt</td>\n",
       "      <td>$ 579,000</td>\n",
       "      <td>$543,101</td>\n",
       "      <td>As of 2020-08-04</td>\n",
       "      <td>1 Bedrooms</td>\n",
       "      <td>1 Bathrooms</td>\n",
       "      <td>1 Garage</td>\n",
       "      <td>...</td>\n",
       "      <td>water,heat</td>\n",
       "      <td>-</td>\n",
       "      <td>2020-07-24</td>\n",
       "      <td>2020-08-04</td>\n",
       "      <td>$2,082</td>\n",
       "      <td>4.02%</td>\n",
       "      <td>Bathurst &amp; Eglinton</td>\n",
       "      <td>Apartment</td>\n",
       "      <td>N</td>\n",
       "      <td>Welcome To The Hill. Situated On The Border Of...</td>\n",
       "    </tr>\n",
       "    <tr>\n",
       "      <th>1</th>\n",
       "      <td>C4901798</td>\n",
       "      <td>Unit 315 - 170 Chiltern Hill Rd</td>\n",
       "      <td>Humewood-Cedarvale - Toronto</td>\n",
       "      <td>Condo Apt</td>\n",
       "      <td>$ 499,000</td>\n",
       "      <td>$478,548</td>\n",
       "      <td>As of 2020-09-11</td>\n",
       "      <td>1 Bedrooms</td>\n",
       "      <td>1 Bathrooms</td>\n",
       "      <td>1 Garage</td>\n",
       "      <td>...</td>\n",
       "      <td>water,heat</td>\n",
       "      <td>0-5</td>\n",
       "      <td>2020-09-08</td>\n",
       "      <td>2020-09-11</td>\n",
       "      <td>$2,100</td>\n",
       "      <td>3.12%</td>\n",
       "      <td>Bathurst+Eglinton</td>\n",
       "      <td>Apartment</td>\n",
       "      <td>E</td>\n",
       "      <td>Welcome To \"The Hill\" In Upper Forest Hill Vil...</td>\n",
       "    </tr>\n",
       "    <tr>\n",
       "      <th>2</th>\n",
       "      <td>C4869792</td>\n",
       "      <td>Unit 706 - 170 Chiltern Hill Rd</td>\n",
       "      <td>Humewood-Cedarvale - Toronto</td>\n",
       "      <td>Condo Apt</td>\n",
       "      <td>$ 569,000</td>\n",
       "      <td>$569,629</td>\n",
       "      <td>As of 2020-09-11</td>\n",
       "      <td>1 Bedrooms</td>\n",
       "      <td>1 Bathrooms</td>\n",
       "      <td>1 Garage</td>\n",
       "      <td>...</td>\n",
       "      <td>water,heat</td>\n",
       "      <td>-</td>\n",
       "      <td>2020-08-13</td>\n",
       "      <td>2020-09-11</td>\n",
       "      <td>$2,100</td>\n",
       "      <td>2.68%</td>\n",
       "      <td>Bathurst&amp;Eglinton</td>\n",
       "      <td>Apartment</td>\n",
       "      <td>N</td>\n",
       "      <td>Welcome To Upper Forest Hill! Functional Loft ...</td>\n",
       "    </tr>\n",
       "  </tbody>\n",
       "</table>\n",
       "<p>3 rows × 22 columns</p>\n",
       "</div>"
      ],
      "text/plain": [
       "  Listing_num                          Address                          City  \\\n",
       "0    C4844438  Unit 507 - 170 Chiltern Hill Rd  Humewood-Cedarvale - Toronto   \n",
       "1    C4901798  Unit 315 - 170 Chiltern Hill Rd  Humewood-Cedarvale - Toronto   \n",
       "2    C4869792  Unit 706 - 170 Chiltern Hill Rd  Humewood-Cedarvale - Toronto   \n",
       "\n",
       "  House_type      Price Estimated_price      Estimated_on Bedroom_num  \\\n",
       "0  Condo Apt  $ 579,000        $543,101  As of 2020-08-04  1 Bedrooms   \n",
       "1  Condo Apt  $ 499,000        $478,548  As of 2020-09-11  1 Bedrooms   \n",
       "2  Condo Apt  $ 569,000        $569,629  As of 2020-09-11  1 Bedrooms   \n",
       "\n",
       "  Washroom_num Parking_num  ... Building_age Size   Listed_on  Updated_on  \\\n",
       "0  1 Bathrooms    1 Garage  ...   water,heat    -  2020-07-24  2020-08-04   \n",
       "1  1 Bathrooms    1 Garage  ...   water,heat  0-5  2020-09-08  2020-09-11   \n",
       "2  1 Bathrooms    1 Garage  ...   water,heat    -  2020-08-13  2020-09-11   \n",
       "\n",
       "  Rental_estimate Rental_yield   Major_intersection Property_style Exposure  \\\n",
       "0          $2,082        4.02%  Bathurst & Eglinton      Apartment        N   \n",
       "1          $2,100        3.12%    Bathurst+Eglinton      Apartment        E   \n",
       "2          $2,100        2.68%    Bathurst&Eglinton      Apartment        N   \n",
       "\n",
       "                                         Description  \n",
       "0  Welcome To The Hill. Situated On The Border Of...  \n",
       "1  Welcome To \"The Hill\" In Upper Forest Hill Vil...  \n",
       "2  Welcome To Upper Forest Hill! Functional Loft ...  \n",
       "\n",
       "[3 rows x 22 columns]"
      ]
     },
     "execution_count": 204,
     "metadata": {},
     "output_type": "execute_result"
    }
   ],
   "source": [
    "df_all.head(3)"
   ]
  },
  {
   "cell_type": "code",
   "execution_count": 247,
   "metadata": {},
   "outputs": [],
   "source": [
    "# Changing currency to float\n",
    "df_all[['Price', 'Estimated_price', 'Rental_estimate']] = df_all[['Price', 'Estimated_price', 'Rental_estimate']].replace( '[\\$,)]', '', regex = True).astype(float)\n",
    "\n",
    "\n",
    "# Removing some words\n",
    "df_all['Bedroom_num'] = df_all['Bedroom_num'].str.replace(' Bedrooms', '', regex=False)\n",
    "df_all['Washroom_num'] = df_all['Washroom_num'].str.replace(' Bathrooms', '', regex=False)\n",
    "df_all['Parking_num'] = df_all['Parking_num'] = df_all['Parking_num'].str.replace(' Garage', '', regex=False)\n",
    "df_all['Parking_num'] = df_all['Parking_num'] = df_all['Parking_num'].str.replace(' Garage', '', regex=False)\n",
    "df_all['Estimated_on'] = df_all['Estimated_on'].str.replace('As of ', '', regex=False)\n",
    "df_all['Tax'] = df_all['Tax'].replace('[\\$,)]', '', regex = True).str.replace(' -', '', regex=False)\n",
    "\n",
    "# To capitalize all letters in the series\n",
    "df_all['Exposure'] = df_all['Exposure'].str.upper()\n"
   ]
  },
  {
   "cell_type": "code",
   "execution_count": 248,
   "metadata": {},
   "outputs": [],
   "source": [
    "#Replacing blank values/ with NaN\n",
    "import numpy as np\n",
    "df_all['Tax'].replace(r'^\\s*$', np.nan, regex=True)"
   ]
  },
  {
   "cell_type": "code",
   "execution_count": 254,
   "metadata": {},
   "outputs": [],
   "source": [
    "# Removing words & assigning NaN to blank cells\n",
    "\n",
    "df_all['Maintenance'] = df_all['Maintenance'].str.replace('/month', '', regex=False).str.replace('$', '', regex=False)\n",
    "\n",
    "for i in range(len(df_all)):\n",
    "    try:\n",
    "        df_all['Maintenance'].iloc[i] = float(df_all['Maintenance'].iloc[i])\n",
    "    except:\n",
    "        df_all['Maintenance'].iloc[i] = np.nan\n",
    "#         print(i) # which row    "
   ]
  },
  {
   "cell_type": "code",
   "execution_count": 255,
   "metadata": {},
   "outputs": [
    {
     "data": {
      "text/plain": [
       "0     2020-08-04\n",
       "1     2020-09-11\n",
       "2     2020-09-11\n",
       "3     2020-08-19\n",
       "4     2020-09-10\n",
       "         ...    \n",
       "926   2020-09-10\n",
       "927   2020-09-01\n",
       "928          NaT\n",
       "929   2020-09-03\n",
       "930   2020-09-10\n",
       "Name: Estimated_on, Length: 931, dtype: datetime64[ns]"
      ]
     },
     "execution_count": 255,
     "metadata": {},
     "output_type": "execute_result"
    }
   ],
   "source": [
    "# Change to datetime object\n",
    "for i in range(len(df_all)):\n",
    "    string = df_all['Estimated_on'].iloc[i]\n",
    "    if len(string) == 10:\n",
    "        pass\n",
    "    else:\n",
    "        df_all['Estimated_on'].iloc[i] = np.nan\n",
    "#         print(i)        "
   ]
  },
  {
   "cell_type": "code",
   "execution_count": 257,
   "metadata": {},
   "outputs": [],
   "source": [
    "df_all.to_csv('2020_HouseSigma_listing_details_all_final.csv', index = False)"
   ]
  },
  {
   "cell_type": "markdown",
   "metadata": {},
   "source": [
    "## Visualizing data"
   ]
  },
  {
   "cell_type": "code",
   "execution_count": 518,
   "metadata": {},
   "outputs": [],
   "source": [
    "df = pd.read_csv('2020_HouseSigma_listing_details_all_final.csv')"
   ]
  },
  {
   "cell_type": "code",
   "execution_count": 348,
   "metadata": {},
   "outputs": [
    {
     "data": {
      "text/plain": [
       "Index(['Listing_num', 'Address', 'City', 'House_type', 'Price',\n",
       "       'Estimated_price', 'Estimated_on', 'Bedroom_num', 'Washroom_num',\n",
       "       'Parking_num', 'Tax', 'Maintenance', 'Building_age', 'Size',\n",
       "       'Listed_on', 'Updated_on', 'Rental_estimate', 'Rental_yield',\n",
       "       'Major_intersection', 'Property_style', 'Exposure', 'Description'],\n",
       "      dtype='object')"
      ]
     },
     "execution_count": 348,
     "metadata": {},
     "output_type": "execute_result"
    }
   ],
   "source": [
    "df.columns"
   ]
  },
  {
   "cell_type": "code",
   "execution_count": 349,
   "metadata": {},
   "outputs": [],
   "source": [
    "import seaborn as sns\n",
    "import matplotlib.pyplot as plt\n",
    "%matplotlib inline"
   ]
  },
  {
   "cell_type": "code",
   "execution_count": 350,
   "metadata": {},
   "outputs": [
    {
     "data": {
      "text/plain": [
       "463    97800000.0\n",
       "925     6295000.0\n",
       "204     4999000.0\n",
       "392     4290000.0\n",
       "97      3999999.0\n",
       "387     3225000.0\n",
       "402     3195000.0\n",
       "403     2999000.0\n",
       "160     2998000.0\n",
       "203     2995000.0\n",
       "241     2895000.0\n",
       "912     2895000.0\n",
       "841     2750000.0\n",
       "382     2700000.0\n",
       "198     2598000.0\n",
       "399     2589100.0\n",
       "394     2450000.0\n",
       "930     2450000.0\n",
       "610     2450000.0\n",
       "185     2404990.0\n",
       "Name: Price, dtype: float64"
      ]
     },
     "execution_count": 350,
     "metadata": {},
     "output_type": "execute_result"
    }
   ],
   "source": [
    "df['Price'].sort_values(ascending = False)[0:20]"
   ]
  },
  {
   "cell_type": "code",
   "execution_count": 547,
   "metadata": {},
   "outputs": [
    {
     "data": {
      "text/plain": [
       "<matplotlib.axes._subplots.AxesSubplot at 0xc42e7891c0>"
      ]
     },
     "execution_count": 547,
     "metadata": {},
     "output_type": "execute_result"
    },
    {
     "data": {
      "image/png": "[encoded data removed]",
      "text/plain": [
       "<Figure size 432x288 with 1 Axes>"
      ]
     },
     "metadata": {
      "needs_background": "light"
     },
     "output_type": "display_data"
    }
   ],
   "source": [
    "df['Price'].plot(kind = 'hist', bins = 100)"
   ]
  },
  {
   "cell_type": "code",
   "execution_count": 601,
   "metadata": {},
   "outputs": [
    {
     "data": {
      "text/plain": [
       "count    9.310000e+02\n",
       "mean     9.543577e+05\n",
       "std      3.215611e+06\n",
       "min      1.999000e+03\n",
       "25%      5.990000e+05\n",
       "50%      6.999000e+05\n",
       "75%      8.990000e+05\n",
       "max      9.780000e+07\n",
       "Name: Price, dtype: float64"
      ]
     },
     "execution_count": 601,
     "metadata": {},
     "output_type": "execute_result"
    }
   ],
   "source": [
    "df['Price'].describe()"
   ]
  },
  {
   "cell_type": "code",
   "execution_count": 564,
   "metadata": {},
   "outputs": [],
   "source": [
    "# To find\n",
    "my_df = df[df['Price']<3000000]\n",
    "# my_df['Price'].plot(kind = 'hist', bins = 100)"
   ]
  },
  {
   "cell_type": "code",
   "execution_count": 398,
   "metadata": {},
   "outputs": [
    {
     "data": {
      "text/plain": [
       "Bedroom_num\n",
       "1      236\n",
       "1+1    227\n",
       "1+2      2\n",
       "1+4      1\n",
       "2      300\n",
       "2+1    104\n",
       "3       44\n",
       "3+1      7\n",
       "3+2      2\n",
       "4        1\n",
       "Name: Address, dtype: int64"
      ]
     },
     "execution_count": 398,
     "metadata": {},
     "output_type": "execute_result"
    }
   ],
   "source": [
    "my_df.groupby('Bedroom_num')['Address'].count()"
   ]
  },
  {
   "cell_type": "code",
   "execution_count": 565,
   "metadata": {},
   "outputs": [],
   "source": [
    "# z = ['1', 'ad', np.nan, 'dfd', 'df']\n",
    "\n",
    "# for i in range(0,len(z)+1):\n",
    "#     print(z[i])"
   ]
  },
  {
   "cell_type": "code",
   "execution_count": 566,
   "metadata": {},
   "outputs": [
    {
     "data": {
      "text/plain": [
       "(924, 22)"
      ]
     },
     "execution_count": 566,
     "metadata": {},
     "output_type": "execute_result"
    }
   ],
   "source": [
    "my_df.shape"
   ]
  },
  {
   "cell_type": "code",
   "execution_count": 567,
   "metadata": {},
   "outputs": [
    {
     "name": "stderr",
     "output_type": "stream",
     "text": [
      "C:\\Users\\User\\anaconda3\\lib\\site-packages\\pandas\\core\\indexing.py:966: SettingWithCopyWarning: \n",
      "A value is trying to be set on a copy of a slice from a DataFrame.\n",
      "Try using .loc[row_indexer,col_indexer] = value instead\n",
      "\n",
      "See the caveats in the documentation: https://pandas.pydata.org/pandas-docs/stable/user_guide/indexing.html#returning-a-view-versus-a-copy\n",
      "  self.obj[item] = s\n"
     ]
    }
   ],
   "source": [
    "for i in range(len(my_df)):\n",
    "#     print(i)\n",
    "    try:\n",
    "        my_df.loc[i, 'Listed_on'] = pd.to_datetime(my_df.loc[i, 'Listed_on'], format = '%Y-%m-%d').date()\n",
    "    except:\n",
    "        pass"
   ]
  },
  {
   "cell_type": "code",
   "execution_count": 569,
   "metadata": {},
   "outputs": [
    {
     "data": {
      "text/plain": [
       "(924, 22)"
      ]
     },
     "execution_count": 569,
     "metadata": {},
     "output_type": "execute_result"
    }
   ],
   "source": [
    "my_df.shape"
   ]
  },
  {
   "cell_type": "code",
   "execution_count": 568,
   "metadata": {},
   "outputs": [
    {
     "data": {
      "text/plain": [
       "'0      2020-07-24\\n1      2020-09-08\\n2      2020-08-13\\n3      2020-08-19\\n4      2020-06-17\\n          ...    \\n926    2020-08-31\\n927    2020-09-01\\n928    2020-08-27\\n929    2020-09-01\\n930    2020-09-04\\nName: Listed_on, Length: 924, dtype: object'"
      ]
     },
     "execution_count": 568,
     "metadata": {},
     "output_type": "execute_result"
    }
   ],
   "source": [
    "str(my_df['Listed_on'])"
   ]
  },
  {
   "cell_type": "code",
   "execution_count": 458,
   "metadata": {},
   "outputs": [],
   "source": [
    "# # To make string dates into date objects\n",
    "# for i in range(my_df.shape[0]):\n",
    "#     my_df.loc[i,'Listed_on'] = pd.to_datetime(my_df.loc[i, 'Listed_on'], format = '%Y-%m-%d', errors='coerce').date() # NaN -> NaT\n",
    "#     my_df.loc[i, 'Estimated_on'] = pd.to_datetime(my_df.loc[i, 'Estimated_on'], format = '%Y-%m-%d', errors='coerce').date()\n",
    "#     my_df.loc[i, 'Updated_on'] = pd.to_datetime(my_df.loc[i, 'Updated_on'], format = '%Y-%m-%d', errors='coerce').date()"
   ]
  },
  {
   "cell_type": "code",
   "execution_count": 572,
   "metadata": {},
   "outputs": [],
   "source": [
    "# # Determine days on market\n",
    "today = datetime.date.today()\n",
    "days_on_market = []\n",
    "\n",
    "for i in range(len(my_df)):\n",
    "#     print(i)\n",
    "    try:\n",
    "        num_days= today-my_df[\"Listed_on\"][i]\n",
    "        days_on_market.append(num_days)\n",
    "    except:\n",
    "        days_on_market.append(np.nan) #parse NaN if blank"
   ]
  },
  {
   "cell_type": "code",
   "execution_count": 573,
   "metadata": {},
   "outputs": [
    {
     "data": {
      "text/plain": [
       "924"
      ]
     },
     "execution_count": 573,
     "metadata": {},
     "output_type": "execute_result"
    }
   ],
   "source": [
    "len(days_on_market)"
   ]
  },
  {
   "cell_type": "code",
   "execution_count": 578,
   "metadata": {},
   "outputs": [
    {
     "name": "stderr",
     "output_type": "stream",
     "text": [
      "<ipython-input-578-9e4e7d6da802>:1: SettingWithCopyWarning: \n",
      "A value is trying to be set on a copy of a slice from a DataFrame.\n",
      "Try using .loc[row_indexer,col_indexer] = value instead\n",
      "\n",
      "See the caveats in the documentation: https://pandas.pydata.org/pandas-docs/stable/user_guide/indexing.html#returning-a-view-versus-a-copy\n",
      "  my_df['Days_on_market'] = pd.Series(days_on_market)\n"
     ]
    }
   ],
   "source": [
    "my_df['Days_on_market'] = pd.Series(days_on_market, index = my_df.index)"
   ]
  },
  {
   "cell_type": "code",
   "execution_count": 579,
   "metadata": {},
   "outputs": [
    {
     "data": {
      "text/plain": [
       "(924, 23)"
      ]
     },
     "execution_count": 579,
     "metadata": {},
     "output_type": "execute_result"
    }
   ],
   "source": [
    "my_df.shape"
   ]
  },
  {
   "cell_type": "code",
   "execution_count": 577,
   "metadata": {},
   "outputs": [
    {
     "data": {
      "text/plain": [
       "Index(['Listing_num', 'Address', 'City', 'House_type', 'Price',\n",
       "       'Estimated_price', 'Estimated_on', 'Bedroom_num', 'Washroom_num',\n",
       "       'Parking_num', 'Tax', 'Maintenance', 'Building_age', 'Size',\n",
       "       'Listed_on', 'Updated_on', 'Rental_estimate', 'Rental_yield',\n",
       "       'Major_intersection', 'Property_style', 'Exposure', 'Description',\n",
       "       'Days_on_market'],\n",
       "      dtype='object')"
      ]
     },
     "execution_count": 577,
     "metadata": {},
     "output_type": "execute_result"
    }
   ],
   "source": [
    "my_df.columns"
   ]
  },
  {
   "cell_type": "code",
   "execution_count": 584,
   "metadata": {},
   "outputs": [
    {
     "name": "stderr",
     "output_type": "stream",
     "text": [
      "<ipython-input-584-9e7766f9b491>:2: SettingWithCopyWarning: \n",
      "A value is trying to be set on a copy of a slice from a DataFrame.\n",
      "Try using .loc[row_indexer,col_indexer] = value instead\n",
      "\n",
      "See the caveats in the documentation: https://pandas.pydata.org/pandas-docs/stable/user_guide/indexing.html#returning-a-view-versus-a-copy\n",
      "  my_df['Estimated_capital_gain'] = pd.Series(my_df[\"Price\"]-my_df[\"Estimated_price\"])\n"
     ]
    }
   ],
   "source": [
    "# Determine capital gain\n",
    "my_df['Estimated_capital_gain'] = pd.Series(my_df[\"Price\"]-my_df[\"Estimated_price\"])"
   ]
  },
  {
   "cell_type": "code",
   "execution_count": 585,
   "metadata": {},
   "outputs": [
    {
     "data": {
      "text/html": [
       "<div>\n",
       "<style scoped>\n",
       "    .dataframe tbody tr th:only-of-type {\n",
       "        vertical-align: middle;\n",
       "    }\n",
       "\n",
       "    .dataframe tbody tr th {\n",
       "        vertical-align: top;\n",
       "    }\n",
       "\n",
       "    .dataframe thead th {\n",
       "        text-align: right;\n",
       "    }\n",
       "</style>\n",
       "<table border=\"1\" class=\"dataframe\">\n",
       "  <thead>\n",
       "    <tr style=\"text-align: right;\">\n",
       "      <th></th>\n",
       "      <th>Listing_num</th>\n",
       "      <th>Address</th>\n",
       "      <th>City</th>\n",
       "      <th>House_type</th>\n",
       "      <th>Price</th>\n",
       "      <th>Estimated_price</th>\n",
       "      <th>Estimated_on</th>\n",
       "      <th>Bedroom_num</th>\n",
       "      <th>Washroom_num</th>\n",
       "      <th>Parking_num</th>\n",
       "      <th>Tax</th>\n",
       "      <th>Maintenance</th>\n",
       "      <th>Building_age</th>\n",
       "      <th>Size</th>\n",
       "      <th>Listed_on</th>\n",
       "      <th>Updated_on</th>\n",
       "      <th>Rental_estimate</th>\n",
       "      <th>Rental_yield</th>\n",
       "      <th>Major_intersection</th>\n",
       "      <th>Property_style</th>\n",
       "      <th>Exposure</th>\n",
       "      <th>Description</th>\n",
       "      <th>Days_on_market</th>\n",
       "      <th>Capital_gain</th>\n",
       "      <th>Estimated_capital_gain</th>\n",
       "    </tr>\n",
       "  </thead>\n",
       "  <tbody>\n",
       "    <tr>\n",
       "      <th>0</th>\n",
       "      <td>C4844438</td>\n",
       "      <td>Unit 507 - 170 Chiltern Hill Rd</td>\n",
       "      <td>Humewood-Cedarvale - Toronto</td>\n",
       "      <td>Condo Apt</td>\n",
       "      <td>579000.0</td>\n",
       "      <td>543101.0</td>\n",
       "      <td>2020-08-04</td>\n",
       "      <td>1</td>\n",
       "      <td>1</td>\n",
       "      <td>1</td>\n",
       "      <td>2224.0</td>\n",
       "      <td>NaN</td>\n",
       "      <td>water,heat</td>\n",
       "      <td>-</td>\n",
       "      <td>2020-07-24</td>\n",
       "      <td>2020-08-04</td>\n",
       "      <td>2082.0</td>\n",
       "      <td>4.02%</td>\n",
       "      <td>Bathurst &amp; Eglinton</td>\n",
       "      <td>Apartment</td>\n",
       "      <td>N</td>\n",
       "      <td>Welcome To The Hill. Situated On The Border Of...</td>\n",
       "      <td>50 days</td>\n",
       "      <td>35899.0</td>\n",
       "      <td>35899.0</td>\n",
       "    </tr>\n",
       "    <tr>\n",
       "      <th>1</th>\n",
       "      <td>C4901798</td>\n",
       "      <td>Unit 315 - 170 Chiltern Hill Rd</td>\n",
       "      <td>Humewood-Cedarvale - Toronto</td>\n",
       "      <td>Condo Apt</td>\n",
       "      <td>499000.0</td>\n",
       "      <td>478548.0</td>\n",
       "      <td>2020-09-11</td>\n",
       "      <td>1</td>\n",
       "      <td>1</td>\n",
       "      <td>1</td>\n",
       "      <td>2444.0</td>\n",
       "      <td>578.0</td>\n",
       "      <td>water,heat</td>\n",
       "      <td>0-5</td>\n",
       "      <td>2020-09-08</td>\n",
       "      <td>2020-09-11</td>\n",
       "      <td>2100.0</td>\n",
       "      <td>3.12%</td>\n",
       "      <td>Bathurst+Eglinton</td>\n",
       "      <td>Apartment</td>\n",
       "      <td>E</td>\n",
       "      <td>Welcome To \"The Hill\" In Upper Forest Hill Vil...</td>\n",
       "      <td>4 days</td>\n",
       "      <td>20452.0</td>\n",
       "      <td>20452.0</td>\n",
       "    </tr>\n",
       "    <tr>\n",
       "      <th>2</th>\n",
       "      <td>C4869792</td>\n",
       "      <td>Unit 706 - 170 Chiltern Hill Rd</td>\n",
       "      <td>Humewood-Cedarvale - Toronto</td>\n",
       "      <td>Condo Apt</td>\n",
       "      <td>569000.0</td>\n",
       "      <td>569629.0</td>\n",
       "      <td>2020-09-11</td>\n",
       "      <td>1</td>\n",
       "      <td>1</td>\n",
       "      <td>1</td>\n",
       "      <td>2441.0</td>\n",
       "      <td>550.0</td>\n",
       "      <td>water,heat</td>\n",
       "      <td>-</td>\n",
       "      <td>2020-08-13</td>\n",
       "      <td>2020-09-11</td>\n",
       "      <td>2100.0</td>\n",
       "      <td>2.68%</td>\n",
       "      <td>Bathurst&amp;Eglinton</td>\n",
       "      <td>Apartment</td>\n",
       "      <td>N</td>\n",
       "      <td>Welcome To Upper Forest Hill! Functional Loft ...</td>\n",
       "      <td>30 days</td>\n",
       "      <td>-629.0</td>\n",
       "      <td>-629.0</td>\n",
       "    </tr>\n",
       "    <tr>\n",
       "      <th>3</th>\n",
       "      <td>C4877344</td>\n",
       "      <td>Unit 807 - 1486 Bathurst St</td>\n",
       "      <td>Humewood-Cedarvale - Toronto</td>\n",
       "      <td>Condo Apt</td>\n",
       "      <td>649000.0</td>\n",
       "      <td>638624.0</td>\n",
       "      <td>2020-08-19</td>\n",
       "      <td>1</td>\n",
       "      <td>1</td>\n",
       "      <td>1</td>\n",
       "      <td>NaN</td>\n",
       "      <td>476.0</td>\n",
       "      <td>water,heat</td>\n",
       "      <td>New</td>\n",
       "      <td>2020-08-19</td>\n",
       "      <td>2020-08-19</td>\n",
       "      <td>2291.0</td>\n",
       "      <td>3.27%</td>\n",
       "      <td>Bathurst &amp; St. Clair</td>\n",
       "      <td>Apartment</td>\n",
       "      <td>SW</td>\n",
       "      <td>Live Like A Baron/Baroness At The Barrington I...</td>\n",
       "      <td>24 days</td>\n",
       "      <td>10376.0</td>\n",
       "      <td>10376.0</td>\n",
       "    </tr>\n",
       "    <tr>\n",
       "      <th>4</th>\n",
       "      <td>C4796356</td>\n",
       "      <td>Unit 402 - 170 Chiltern Hill Rd</td>\n",
       "      <td>Humewood-Cedarvale - Toronto</td>\n",
       "      <td>Condo Apt</td>\n",
       "      <td>979000.0</td>\n",
       "      <td>989159.0</td>\n",
       "      <td>2020-09-10</td>\n",
       "      <td>2</td>\n",
       "      <td>2</td>\n",
       "      <td>1</td>\n",
       "      <td>3200.0</td>\n",
       "      <td>981.0</td>\n",
       "      <td>water,heat</td>\n",
       "      <td>New</td>\n",
       "      <td>2020-06-17</td>\n",
       "      <td>2020-09-10</td>\n",
       "      <td>2389.0</td>\n",
       "      <td>1.28%</td>\n",
       "      <td>Bathurst &amp; Eglinton</td>\n",
       "      <td>Apartment</td>\n",
       "      <td>S</td>\n",
       "      <td>Nestled In One Of The Most Prestigious Locatio...</td>\n",
       "      <td>87 days</td>\n",
       "      <td>-10159.0</td>\n",
       "      <td>-10159.0</td>\n",
       "    </tr>\n",
       "  </tbody>\n",
       "</table>\n",
       "</div>"
      ],
      "text/plain": [
       "  Listing_num                          Address                          City  \\\n",
       "0    C4844438  Unit 507 - 170 Chiltern Hill Rd  Humewood-Cedarvale - Toronto   \n",
       "1    C4901798  Unit 315 - 170 Chiltern Hill Rd  Humewood-Cedarvale - Toronto   \n",
       "2    C4869792  Unit 706 - 170 Chiltern Hill Rd  Humewood-Cedarvale - Toronto   \n",
       "3    C4877344      Unit 807 - 1486 Bathurst St  Humewood-Cedarvale - Toronto   \n",
       "4    C4796356  Unit 402 - 170 Chiltern Hill Rd  Humewood-Cedarvale - Toronto   \n",
       "\n",
       "  House_type     Price  Estimated_price Estimated_on Bedroom_num  \\\n",
       "0  Condo Apt  579000.0         543101.0   2020-08-04           1   \n",
       "1  Condo Apt  499000.0         478548.0   2020-09-11           1   \n",
       "2  Condo Apt  569000.0         569629.0   2020-09-11           1   \n",
       "3  Condo Apt  649000.0         638624.0   2020-08-19           1   \n",
       "4  Condo Apt  979000.0         989159.0   2020-09-10           2   \n",
       "\n",
       "   Washroom_num  Parking_num     Tax  Maintenance Building_age Size  \\\n",
       "0             1            1  2224.0          NaN   water,heat    -   \n",
       "1             1            1  2444.0        578.0   water,heat  0-5   \n",
       "2             1            1  2441.0        550.0   water,heat    -   \n",
       "3             1            1     NaN        476.0   water,heat  New   \n",
       "4             2            1  3200.0        981.0   water,heat  New   \n",
       "\n",
       "    Listed_on  Updated_on  Rental_estimate Rental_yield    Major_intersection  \\\n",
       "0  2020-07-24  2020-08-04           2082.0        4.02%   Bathurst & Eglinton   \n",
       "1  2020-09-08  2020-09-11           2100.0        3.12%     Bathurst+Eglinton   \n",
       "2  2020-08-13  2020-09-11           2100.0        2.68%     Bathurst&Eglinton   \n",
       "3  2020-08-19  2020-08-19           2291.0        3.27%  Bathurst & St. Clair   \n",
       "4  2020-06-17  2020-09-10           2389.0        1.28%   Bathurst & Eglinton   \n",
       "\n",
       "  Property_style Exposure                                        Description  \\\n",
       "0      Apartment        N  Welcome To The Hill. Situated On The Border Of...   \n",
       "1      Apartment        E  Welcome To \"The Hill\" In Upper Forest Hill Vil...   \n",
       "2      Apartment        N  Welcome To Upper Forest Hill! Functional Loft ...   \n",
       "3      Apartment       SW  Live Like A Baron/Baroness At The Barrington I...   \n",
       "4      Apartment        S  Nestled In One Of The Most Prestigious Locatio...   \n",
       "\n",
       "  Days_on_market  Capital_gain  Estimated_capital_gain  \n",
       "0        50 days       35899.0                 35899.0  \n",
       "1         4 days       20452.0                 20452.0  \n",
       "2        30 days        -629.0                  -629.0  \n",
       "3        24 days       10376.0                 10376.0  \n",
       "4        87 days      -10159.0                -10159.0  "
      ]
     },
     "execution_count": 585,
     "metadata": {},
     "output_type": "execute_result"
    }
   ],
   "source": [
    "pd.set_option('display.max_columns', None)\n",
    "my_df.head()"
   ]
  }
 ],
 "metadata": {
  "kernelspec": {
   "display_name": "Python 3",
   "language": "python",
   "name": "python3"
  },
  "language_info": {
   "codemirror_mode": {
    "name": "ipython",
    "version": 3
   },
   "file_extension": ".py",
   "mimetype": "text/x-python",
   "name": "python",
   "nbconvert_exporter": "python",
   "pygments_lexer": "ipython3",
   "version": "3.8.3"
  }
 },
 "nbformat": 4,
 "nbformat_minor": 4
}
