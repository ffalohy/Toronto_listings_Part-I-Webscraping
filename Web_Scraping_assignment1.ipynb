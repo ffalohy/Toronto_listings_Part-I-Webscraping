{
 "cells": [
  {
   "cell_type": "markdown",
   "metadata": {},
   "source": [
    "# Web Scraping Assignment\n",
    "- Hyeyeon Kim\n",
    "- Due date: 2020-09-16\n",
    "\n",
    "## HouseSigma\n",
    "\n",
    "- Scraping condos-of-interest that are on sale in Toronto\n",
    "- Using Selenium and BeautifulSoup\n"
   ]
  },
  {
   "cell_type": "code",
   "execution_count": 11,
   "metadata": {},
   "outputs": [],
   "source": [
    "# !pip install selenium\n",
    "from selenium import webdriver\n",
    "from selenium.webdriver.common.by import By\n",
    "from selenium.webdriver.common.keys import Keys\n",
    "from selenium.webdriver.support.ui import WebDriverWait\n",
    "from selenium.webdriver.support.expected_conditions import presence_of_element_located"
   ]
  },
  {
   "cell_type": "code",
   "execution_count": 30,
   "metadata": {},
   "outputs": [],
   "source": [
    "from selenium.webdriver import Chrome\n",
    "from time import sleep\n",
    "driver = Chrome()\n",
    "url ='https://housesigma.com'\n",
    "driver.get(url)\n",
    "#Clicking sign-in page\n",
    "element = driver.find_element_by_xpath(\"//a[contains(@class, 'global-link user_left_part')]\")\n",
    "element.click()\n",
    "sleep(1)\n",
    "\n",
    "# Log-in\n",
    "element_email = driver.find_element_by_xpath(\"//input[contains(@placeholder, 'Email Address')]\")\n",
    "element_email.send_keys('hykimusa@gmail.com')\n",
    "element_pw = driver.find_element_by_xpath('//input[contains(@placeholder, \"Password\")]')\n",
    "element_pw.send_keys('housesigmapw4$')\n",
    "sleep(1)\n",
    "element_sign_in_button = driver.find_element_by_xpath('//*[contains(@class, \"el-button signin el-button--primary\")]')\n",
    "element_sign_in_button.click()"
   ]
  },
  {
   "cell_type": "markdown",
   "metadata": {},
   "source": [
    "## Recommend\n",
    "- Setting your criteria"
   ]
  },
  {
   "cell_type": "code",
   "execution_count": 31,
   "metadata": {},
   "outputs": [],
   "source": [
    "# Setting parameters\n",
    "# Clicking Recommend button\n",
    "element_recommend = (driver\n",
    "                     .find_element_by_xpath('//*[@id=\"index\"]/div[1]/div[2]/div[1]/div[1]/button[2]/span')\n",
    "                    )\n",
    "element_recommend.click()"
   ]
  },
  {
   "cell_type": "code",
   "execution_count": 16,
   "metadata": {},
   "outputs": [
    {
     "data": {
      "text/plain": [
       "'$500000 - $750000'"
      ]
     },
     "execution_count": 16,
     "metadata": {},
     "output_type": "execute_result"
    }
   ],
   "source": [
    "# Price Range\n",
    "def price_range(low_end, high_end):\n",
    "    price_range = f'${low_end} - ${high_end}'\n",
    "    return price_range\n",
    "\n",
    "# test\n",
    "price_range(500000, 750000)"
   ]
  },
  {
   "cell_type": "code",
   "execution_count": 41,
   "metadata": {},
   "outputs": [],
   "source": [
    "# What is your budget?\n",
    "# I needed to edit 'attribute'\n",
    "# https://stackoverflow.com/questions/41553189/edit-element-in-browser-with-python-selenium\n",
    "\n",
    "element_price_range = driver.find_element_by_xpath('//div[contains(@class, \"price_tooltip\")]')\n",
    "driver.execute_script(f\"arguments[0].innerText = '{price_range(500000, 750000)}'\", element_price_range)\n"
   ]
  },
  {
   "cell_type": "code",
   "execution_count": 32,
   "metadata": {},
   "outputs": [],
   "source": [
    "# Investment\n",
    "element_investment_school = driver.find_element_by_xpath('//div[text()=\"School\"]')\n",
    "element_investment_growth = driver.find_element_by_xpath('//div[text()=\"Growth\"]')\n",
    "element_investment_rentalyield = driver.find_element_by_xpath('//div[text()=\"Rental Yeild\"]')\n",
    "element_investment_land = driver.find_element_by_xpath('//div[text()=\"Land\"]')\n",
    "\n",
    "element_investment_school.click()\n",
    "element_investment_growth.click()\n",
    "element_investment_rentalyield.click()\n",
    "element_investment_land.click()\n"
   ]
  },
  {
   "cell_type": "code",
   "execution_count": 37,
   "metadata": {},
   "outputs": [],
   "source": [
    "# Property Type\n",
    "element_type_detached = driver.find_element_by_xpath('//div[text()=\"Detached\"]')\n",
    "element_type_semidetached = driver.find_element_by_xpath('//div[text()=\"Semi-Detached\"]')\n",
    "element_type_townhouse = driver.find_element_by_xpath('//div[text()=\"Townhouse\"]')\n",
    "element_type_condo = driver.find_element_by_xpath('//div[text()=\"Condo Apt\"]')\n",
    "\n",
    "element_type_detached.click()\n",
    "element_type_semidetached.click()\n",
    "element_type_townhouse.click()\n",
    "element_type_condo.click()\n"
   ]
  },
  {
   "cell_type": "code",
   "execution_count": 39,
   "metadata": {},
   "outputs": [],
   "source": [
    "# City/Location\n",
    "# GTA-Central\n",
    "element_city_toronto = driver.find_element_by_xpath('//span[text()=\"Toronto\"]')\n",
    "element_city_northyork = driver.find_element_by_xpath('//span[text()=\"North York\"]')\n",
    "element_city_etobicoke = driver.find_element_by_xpath('//span[text()=\"Etobicoke\"]')\n",
    "\n",
    "element_city_toronto.click()\n",
    "# element_city_northyork.click()\n",
    "# element_city_etobicoke.click()"
   ]
  },
  {
   "cell_type": "code",
   "execution_count": 45,
   "metadata": {},
   "outputs": [],
   "source": [
    "# City/Location\n",
    "# GTA-Central\n",
    "element_start_recommendation = driver.find_element_by_xpath('//span[text() = \"Start Recommendation\"]')\n",
    "element_start_recommendation.click()"
   ]
  }
 ],
 "metadata": {
  "kernelspec": {
   "display_name": "Python 3",
   "language": "python",
   "name": "python3"
  },
  "language_info": {
   "codemirror_mode": {
    "name": "ipython",
    "version": 3
   },
   "file_extension": ".py",
   "mimetype": "text/x-python",
   "name": "python",
   "nbconvert_exporter": "python",
   "pygments_lexer": "ipython3",
   "version": "3.8.3"
  }
 },
 "nbformat": 4,
 "nbformat_minor": 4
}
