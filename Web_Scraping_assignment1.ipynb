{
 "cells": [
  {
   "cell_type": "markdown",
   "metadata": {},
   "source": [
    "# Web Scraping Assignment\n",
    "- Hyeyeon Kim\n",
    "- Due date: 2020-09-13\n",
    "\n",
    "## HouseSigma\n",
    "\n",
    "- Scraping condo listings in Toronto\n",
    "- Using Selenium and BeautifulSoup\n"
   ]
  },
  {
   "cell_type": "code",
   "execution_count": 1,
   "metadata": {},
   "outputs": [],
   "source": [
    "from selenium import webdriver\n",
    "from selenium.webdriver.common.by import By\n",
    "from selenium.webdriver.common.keys import Keys\n",
    "from selenium.webdriver.support.ui import WebDriverWait\n",
    "from selenium.webdriver.support import expected_conditions as EC\n",
    "# from selenium.webdriver.support.expected_conditions import presence_of_element_located\n",
    "from selenium.webdriver import Chrome\n",
    "from time import sleep\n",
    "import pandas as pd\n",
    "import numpy as np"
   ]
  },
  {
   "cell_type": "code",
   "execution_count": null,
   "metadata": {},
   "outputs": [],
   "source": [
    "## To check current version\n",
    "# import selenium\n",
    "# print(selenium.__version__)\n",
    "\n",
    "##Install the latest version of selenium in terminal\n",
    "#pip install selenium==4.0.0a6"
   ]
  },
  {
   "cell_type": "code",
   "execution_count": 2,
   "metadata": {},
   "outputs": [
    {
     "name": "stderr",
     "output_type": "stream",
     "text": [
      "C:\\Users\\User\\anaconda3\\lib\\site-packages\\selenium\\webdriver\\remote\\webdriver.py:430: UserWarning: find_element_by_* commands are deprecated. Please use find_element() instead\n",
      "  warnings.warn(\"find_element_by_* commands are deprecated. Please use find_element() instead\")\n"
     ]
    }
   ],
   "source": [
    "driver = Chrome() #webdriver downloaded and saved in the same folder\n",
    "url ='https://housesigma.com'\n",
    "driver.get(url)\n",
    "#Clicking sign-in page\n",
    "element = driver.find_element_by_xpath(\"//a[contains(@class, 'global-link user_left_part')]\")\n",
    "element.click()\n",
    "sleep(1)\n",
    "\n",
    "# Log-in\n",
    "element_email = driver.find_element_by_xpath(\"//input[contains(@placeholder, 'Email Address')]\")\n",
    "element_email.send_keys('hykimusa@gmail.com')\n",
    "element_pw = driver.find_element_by_xpath('//input[contains(@placeholder, \"Password\")]')\n",
    "element_pw.send_keys('housesigmapw4$')\n",
    "sleep(1)\n",
    "element_sign_in_button = driver.find_element_by_xpath('//*[contains(@class, \"el-button signin el-button--primary\")]')\n",
    "element_sign_in_button.click()"
   ]
  },
  {
   "cell_type": "markdown",
   "metadata": {},
   "source": [
    "## Recommend\n",
    "- Setting your criteria"
   ]
  },
  {
   "cell_type": "code",
   "execution_count": 3,
   "metadata": {},
   "outputs": [],
   "source": [
    "# Setting parameters\n",
    "# Clicking Recommend button\n",
    "element_recommend = driver.find_element_by_xpath('//*[text()=\"Recommend\"]')\n",
    "element_recommend.click()\n",
    "sleep(2)\n",
    "\n",
    "# # Price Range\n",
    "# def price_range(low_end, high_end):\n",
    "#     price_range = f'${low_end} - ${high_end}'\n",
    "#     return price_range\n",
    "\n",
    "# # test\n",
    "# price_range(500000, 750000)\n",
    "\n",
    "# What is your budget?\n",
    "# I needed to edit 'attribute'\n",
    "# https://stackoverflow.com/questions/41553189/edit-element-in-browser-with-python-selenium\n",
    "\n",
    "# element_price_range = driver.find_element_by_xpath('//div[contains(@class, \"price_tooltip\")]')\n",
    "# driver.execute_script(f\"arguments[0].innerText = '{price_range(500000, 750000)}'\", element_price_range)\n",
    "\n",
    "# Investment\n",
    "element_investment_all = driver.find_element_by_xpath('//*[@id=\"recommend\"]/div[3]/div[2]/div[2]/span[1]')\n",
    "# element_investment_school = driver.find_element_by_xpath('//div[text()=\"School\"]')\n",
    "# element_investment_growth = driver.find_element_by_xpath('//div[text()=\"Growth\"]')\n",
    "# element_investment_rentalyield = driver.find_element_by_xpath('//div[text()=\"Rental Yeild\"]')\n",
    "# element_investment_land = driver.find_element_by_xpath('//div[text()=\"Land\"]')\n",
    "# sleep(1)\n",
    "element_investment_all.click();\n",
    "# element_investment_school.click()\n",
    "# element_investment_growth.click()\n",
    "# element_investment_rentalyield.click()\n",
    "# element_investment_land.click()\n",
    "# sleep(2)\n",
    "\n",
    "# Property Type\n",
    "# element_type_detached = driver.find_element_by_xpath('//div[text()=\"Detached\"]')\n",
    "# element_type_semidetached = driver.find_element_by_xpath('//div[text()=\"Semi-Detached\"]')\n",
    "# element_type_townhouse = driver.find_element_by_xpath('//div[text()=\"Townhouse\"]')\n",
    "element_type_condo = driver.find_element_by_xpath('//div[text()=\"Condo Apt\"]')\n",
    "# element_type_detached.click()\n",
    "# element_type_semidetached.click()\n",
    "# element_type_townhouse.click()\n",
    "element_type_condo.click();\n",
    "sleep(1)\n",
    "\n",
    "# City/Location\n",
    "# element_city_all = driver.find_element_by_xpath('//*[@id=\"recommend\"]/div[3]/div[4]/div[2]/span[1]')\n",
    "# element_city_reset = driver.find_element_by_xpath('//*[@id=\"recommend\"]/div[3]/div[4]/div[2]/span[2]')\n",
    "element_city_toronto = driver.find_element_by_xpath('/html/body/div/div/div[3]/div[4]/div[1]/div[1]/div[2]/span[1]')\n",
    "element_city_toronto.click();\n",
    "\n",
    "# element_city_northyork = driver.find_element_by_xpath('//*[text()=\"North York\"]')\n",
    "# element_city_etobicoke = driver.find_element_by_xpath('//*[text()=\"Etobicoke\"]')\n",
    "# element_city_markham = driver.find_element_by_xpath('//*[text()=\"Markham\"]')\n",
    "# element_city_richmondhill = driver.find_element_by_xpath('//*[text()=\"Richmond Hill\"]')\n",
    "# element_city_scarborough = driver.find_element_by_xpath('//*[text()=\"Scarborough\"]')\n",
    "# element_city_all.click()\n",
    "# element_city_reset.click()\n",
    "# element_city_toronto.click()\n",
    "# element_city_northyork.click()\n",
    "# element_city_etobicoke.click()\n",
    "# element_city_scarborough.click()\n",
    "# element_city_markham.click()\n",
    "# element_city_richmondhill.click()\n",
    "sleep(1)\n",
    "\n",
    "# Search Recommendations\n",
    "element_start_recommendation = driver.find_element_by_xpath('//span[text()= \"Start Recommendation\"]')\n",
    "driver.execute_script(\"arguments[0].click();\", element_start_recommendation)\n",
    "# element_start_recommendation.click(); # gives error: ElementClickInterceptedException\n",
    "# https://stackoverflow.com/questions/48665001/can-not-click-on-a-element-elementclickinterceptedexception-in-splinter-selen"
   ]
  },
  {
   "cell_type": "code",
   "execution_count": 4,
   "metadata": {},
   "outputs": [],
   "source": [
    "# Scroll to bottom\n",
    "# driver.execute_script(\"window.scrollTo(0, document.body.scrollHeight);\")\n",
    "# Open 10 pages\n",
    "for i in range(10):\n",
    "    driver.execute_script(f\"window.scrollTo({i}, document.body.scrollHeight);\")\n",
    "    sleep(1)"
   ]
  },
  {
   "cell_type": "code",
   "execution_count": 5,
   "metadata": {},
   "outputs": [],
   "source": [
    "# Create empty lists\n",
    "list_num =[]\n",
    "address =[]\n",
    "city_name =[]\n",
    "house_type =[]\n",
    "listing_price =[]\n",
    "estimated_price =[]\n",
    "estimate_date =[]\n",
    "bedroom =[]\n",
    "washroom =[]\n",
    "parking =[]\n",
    "tax =[]\n",
    "maintenance =[]\n",
    "building_age =[]\n",
    "size =[]\n",
    "listed_on =[]\n",
    "updated_on =[]\n",
    "# market_demand\n",
    "rental_estimate =[]\n",
    "rental_yield =[]\n",
    "intersection =[]\n",
    "property_style =[]\n",
    "exposure =[]\n",
    "description =[]\n"
   ]
  },
  {
   "cell_type": "code",
   "execution_count": 8,
   "metadata": {},
   "outputs": [],
   "source": [
    "driver.switch_to.window(driver.window_handles[-1])\n",
    "ele_estimate_date = driver.find_element_by_xpath('//div[@class = \"estimate_date\"]').text\n",
    "ele_bedroom = driver.find_element_by_xpath('//*[@id=\"room_count_to_estimate\"]/div[1]/div/div/div[1]/span').text"
   ]
  },
  {
   "cell_type": "code",
   "execution_count": 56,
   "metadata": {},
   "outputs": [
    {
     "data": {
      "text/plain": [
       "'Size:\\n700-799 feet²'"
      ]
     },
     "execution_count": 56,
     "metadata": {},
     "output_type": "execute_result"
    }
   ],
   "source": [
    "driver.find_element_by_xpath('//*[@class=\"two_column_data el-row\"]/div[1]/div[5]').text"
   ]
  },
  {
   "cell_type": "code",
   "execution_count": 55,
   "metadata": {},
   "outputs": [
    {
     "ename": "NoSuchElementException",
     "evalue": "Message: no such element: Unable to locate element: {\"method\":\"xpath\",\"selector\":\"//div[contains(@label, \"Tax:\")]\"}\n  (Session info: chrome=85.0.4183.121)\nStacktrace:\nBacktrace:\n\tOrdinal0 [0x00DAD383+3134339]\n\tOrdinal0 [0x00C9A171+2007409]\n\tOrdinal0 [0x00B3AEE8+569064]\n\tOrdinal0 [0x00ACA72F+108335]\n\tOrdinal0 [0x00AE9DB0+236976]\n\tOrdinal0 [0x00ADEC90+191632]\n\tOrdinal0 [0x00AE8773+231283]\n\tOrdinal0 [0x00ADEB0B+191243]\n\tOrdinal0 [0x00AC2E77+77431]\n\tOrdinal0 [0x00AC3E3E+81470]\n\tOrdinal0 [0x00AC3DC9+81353]\n\tOrdinal0 [0x00CB0CD9+2100441]\n\tGetHandleVerifier [0x00F1B75A+1396954]\n\tGetHandleVerifier [0x00F1B3D9+1396057]\n\tGetHandleVerifier [0x00F27126+1444518]\n\tGetHandleVerifier [0x00F1BCE8+1398376]\n\tOrdinal0 [0x00CA7F51+2064209]\n\tOrdinal0 [0x00CB22EB+2106091]\n\tOrdinal0 [0x00CB2411+2106385]\n\tOrdinal0 [0x00CC49C4+2181572]\n\tBaseThreadInitThunk [0x74F76A14+36]\n\tRtlInitializeExceptionChain [0x7718AB4F+143]\n\tRtlInitializeExceptionChain [0x7718AB1A+90]\n",
     "output_type": "error",
     "traceback": [
      "\u001b[1;31m---------------------------------------------------------------------------\u001b[0m",
      "\u001b[1;31mNoSuchElementException\u001b[0m                    Traceback (most recent call last)",
      "\u001b[1;32m<ipython-input-55-4ba3790f3d70>\u001b[0m in \u001b[0;36m<module>\u001b[1;34m\u001b[0m\n\u001b[1;32m----> 1\u001b[1;33m \u001b[0mdriver\u001b[0m\u001b[1;33m.\u001b[0m\u001b[0mfind_element_by_xpath\u001b[0m\u001b[1;33m(\u001b[0m\u001b[1;34m'//div[contains(@label, \"Tax:\")]'\u001b[0m\u001b[1;33m)\u001b[0m\u001b[1;33m.\u001b[0m\u001b[0mtext\u001b[0m\u001b[1;33m\u001b[0m\u001b[1;33m\u001b[0m\u001b[0m\n\u001b[0m",
      "\u001b[1;32m~\\anaconda3\\lib\\site-packages\\selenium\\webdriver\\remote\\webdriver.py\u001b[0m in \u001b[0;36mfind_element_by_xpath\u001b[1;34m(self, xpath)\u001b[0m\n\u001b[0;32m    429\u001b[0m         \"\"\"\n\u001b[0;32m    430\u001b[0m         \u001b[0mwarnings\u001b[0m\u001b[1;33m.\u001b[0m\u001b[0mwarn\u001b[0m\u001b[1;33m(\u001b[0m\u001b[1;34m\"find_element_by_* commands are deprecated. Please use find_element() instead\"\u001b[0m\u001b[1;33m)\u001b[0m\u001b[1;33m\u001b[0m\u001b[1;33m\u001b[0m\u001b[0m\n\u001b[1;32m--> 431\u001b[1;33m         \u001b[1;32mreturn\u001b[0m \u001b[0mself\u001b[0m\u001b[1;33m.\u001b[0m\u001b[0mfind_element\u001b[0m\u001b[1;33m(\u001b[0m\u001b[0mby\u001b[0m\u001b[1;33m=\u001b[0m\u001b[0mBy\u001b[0m\u001b[1;33m.\u001b[0m\u001b[0mXPATH\u001b[0m\u001b[1;33m,\u001b[0m \u001b[0mvalue\u001b[0m\u001b[1;33m=\u001b[0m\u001b[0mxpath\u001b[0m\u001b[1;33m)\u001b[0m\u001b[1;33m\u001b[0m\u001b[1;33m\u001b[0m\u001b[0m\n\u001b[0m\u001b[0;32m    432\u001b[0m \u001b[1;33m\u001b[0m\u001b[0m\n\u001b[0;32m    433\u001b[0m     \u001b[1;32mdef\u001b[0m \u001b[0mfind_elements_by_xpath\u001b[0m\u001b[1;33m(\u001b[0m\u001b[0mself\u001b[0m\u001b[1;33m,\u001b[0m \u001b[0mxpath\u001b[0m\u001b[1;33m)\u001b[0m\u001b[1;33m:\u001b[0m\u001b[1;33m\u001b[0m\u001b[1;33m\u001b[0m\u001b[0m\n",
      "\u001b[1;32m~\\anaconda3\\lib\\site-packages\\selenium\\webdriver\\remote\\webdriver.py\u001b[0m in \u001b[0;36mfind_element\u001b[1;34m(self, by, value)\u001b[0m\n\u001b[0;32m   1090\u001b[0m                 \u001b[0mby\u001b[0m \u001b[1;33m=\u001b[0m \u001b[0mBy\u001b[0m\u001b[1;33m.\u001b[0m\u001b[0mCSS_SELECTOR\u001b[0m\u001b[1;33m\u001b[0m\u001b[1;33m\u001b[0m\u001b[0m\n\u001b[0;32m   1091\u001b[0m                 \u001b[0mvalue\u001b[0m \u001b[1;33m=\u001b[0m \u001b[1;34m'[name=\"%s\"]'\u001b[0m \u001b[1;33m%\u001b[0m \u001b[0mvalue\u001b[0m\u001b[1;33m\u001b[0m\u001b[1;33m\u001b[0m\u001b[0m\n\u001b[1;32m-> 1092\u001b[1;33m         return self.execute(Command.FIND_ELEMENT, {\n\u001b[0m\u001b[0;32m   1093\u001b[0m             \u001b[1;34m'using'\u001b[0m\u001b[1;33m:\u001b[0m \u001b[0mby\u001b[0m\u001b[1;33m,\u001b[0m\u001b[1;33m\u001b[0m\u001b[1;33m\u001b[0m\u001b[0m\n\u001b[0;32m   1094\u001b[0m             'value': value})['value']\n",
      "\u001b[1;32m~\\anaconda3\\lib\\site-packages\\selenium\\webdriver\\remote\\webdriver.py\u001b[0m in \u001b[0;36mexecute\u001b[1;34m(self, driver_command, params)\u001b[0m\n\u001b[0;32m    345\u001b[0m         \u001b[0mresponse\u001b[0m \u001b[1;33m=\u001b[0m \u001b[0mself\u001b[0m\u001b[1;33m.\u001b[0m\u001b[0mcommand_executor\u001b[0m\u001b[1;33m.\u001b[0m\u001b[0mexecute\u001b[0m\u001b[1;33m(\u001b[0m\u001b[0mdriver_command\u001b[0m\u001b[1;33m,\u001b[0m \u001b[0mparams\u001b[0m\u001b[1;33m)\u001b[0m\u001b[1;33m\u001b[0m\u001b[1;33m\u001b[0m\u001b[0m\n\u001b[0;32m    346\u001b[0m         \u001b[1;32mif\u001b[0m \u001b[0mresponse\u001b[0m\u001b[1;33m:\u001b[0m\u001b[1;33m\u001b[0m\u001b[1;33m\u001b[0m\u001b[0m\n\u001b[1;32m--> 347\u001b[1;33m             \u001b[0mself\u001b[0m\u001b[1;33m.\u001b[0m\u001b[0merror_handler\u001b[0m\u001b[1;33m.\u001b[0m\u001b[0mcheck_response\u001b[0m\u001b[1;33m(\u001b[0m\u001b[0mresponse\u001b[0m\u001b[1;33m)\u001b[0m\u001b[1;33m\u001b[0m\u001b[1;33m\u001b[0m\u001b[0m\n\u001b[0m\u001b[0;32m    348\u001b[0m             response['value'] = self._unwrap_value(\n\u001b[0;32m    349\u001b[0m                 response.get('value', None))\n",
      "\u001b[1;32m~\\anaconda3\\lib\\site-packages\\selenium\\webdriver\\remote\\errorhandler.py\u001b[0m in \u001b[0;36mcheck_response\u001b[1;34m(self, response)\u001b[0m\n\u001b[0;32m    238\u001b[0m                 \u001b[0malert_text\u001b[0m \u001b[1;33m=\u001b[0m \u001b[0mvalue\u001b[0m\u001b[1;33m[\u001b[0m\u001b[1;34m'alert'\u001b[0m\u001b[1;33m]\u001b[0m\u001b[1;33m.\u001b[0m\u001b[0mget\u001b[0m\u001b[1;33m(\u001b[0m\u001b[1;34m'text'\u001b[0m\u001b[1;33m)\u001b[0m\u001b[1;33m\u001b[0m\u001b[1;33m\u001b[0m\u001b[0m\n\u001b[0;32m    239\u001b[0m             \u001b[1;32mraise\u001b[0m \u001b[0mexception_class\u001b[0m\u001b[1;33m(\u001b[0m\u001b[0mmessage\u001b[0m\u001b[1;33m,\u001b[0m \u001b[0mscreen\u001b[0m\u001b[1;33m,\u001b[0m \u001b[0mstacktrace\u001b[0m\u001b[1;33m,\u001b[0m \u001b[0malert_text\u001b[0m\u001b[1;33m)\u001b[0m\u001b[1;33m\u001b[0m\u001b[1;33m\u001b[0m\u001b[0m\n\u001b[1;32m--> 240\u001b[1;33m         \u001b[1;32mraise\u001b[0m \u001b[0mexception_class\u001b[0m\u001b[1;33m(\u001b[0m\u001b[0mmessage\u001b[0m\u001b[1;33m,\u001b[0m \u001b[0mscreen\u001b[0m\u001b[1;33m,\u001b[0m \u001b[0mstacktrace\u001b[0m\u001b[1;33m)\u001b[0m\u001b[1;33m\u001b[0m\u001b[1;33m\u001b[0m\u001b[0m\n\u001b[0m\u001b[0;32m    241\u001b[0m \u001b[1;33m\u001b[0m\u001b[0m\n\u001b[0;32m    242\u001b[0m     \u001b[1;32mdef\u001b[0m \u001b[0m_value_or_default\u001b[0m\u001b[1;33m(\u001b[0m\u001b[0mself\u001b[0m\u001b[1;33m,\u001b[0m \u001b[0mobj\u001b[0m\u001b[1;33m,\u001b[0m \u001b[0mkey\u001b[0m\u001b[1;33m,\u001b[0m \u001b[0mdefault\u001b[0m\u001b[1;33m)\u001b[0m\u001b[1;33m:\u001b[0m\u001b[1;33m\u001b[0m\u001b[1;33m\u001b[0m\u001b[0m\n",
      "\u001b[1;31mNoSuchElementException\u001b[0m: Message: no such element: Unable to locate element: {\"method\":\"xpath\",\"selector\":\"//div[contains(@label, \"Tax:\")]\"}\n  (Session info: chrome=85.0.4183.121)\nStacktrace:\nBacktrace:\n\tOrdinal0 [0x00DAD383+3134339]\n\tOrdinal0 [0x00C9A171+2007409]\n\tOrdinal0 [0x00B3AEE8+569064]\n\tOrdinal0 [0x00ACA72F+108335]\n\tOrdinal0 [0x00AE9DB0+236976]\n\tOrdinal0 [0x00ADEC90+191632]\n\tOrdinal0 [0x00AE8773+231283]\n\tOrdinal0 [0x00ADEB0B+191243]\n\tOrdinal0 [0x00AC2E77+77431]\n\tOrdinal0 [0x00AC3E3E+81470]\n\tOrdinal0 [0x00AC3DC9+81353]\n\tOrdinal0 [0x00CB0CD9+2100441]\n\tGetHandleVerifier [0x00F1B75A+1396954]\n\tGetHandleVerifier [0x00F1B3D9+1396057]\n\tGetHandleVerifier [0x00F27126+1444518]\n\tGetHandleVerifier [0x00F1BCE8+1398376]\n\tOrdinal0 [0x00CA7F51+2064209]\n\tOrdinal0 [0x00CB22EB+2106091]\n\tOrdinal0 [0x00CB2411+2106385]\n\tOrdinal0 [0x00CC49C4+2181572]\n\tBaseThreadInitThunk [0x74F76A14+36]\n\tRtlInitializeExceptionChain [0x7718AB4F+143]\n\tRtlInitializeExceptionChain [0x7718AB1A+90]\n"
     ]
    }
   ],
   "source": [
    "driver.find_element_by_xpath('//div[contains(@label, \"Tax:\")]').text"
   ]
  },
  {
   "cell_type": "code",
   "execution_count": 17,
   "metadata": {},
   "outputs": [
    {
     "ename": "NoSuchElementException",
     "evalue": "Message: no such element: Unable to locate element: {\"method\":\"xpath\",\"selector\":\"//label[text()=\"Size\"]\"}\n  (Session info: chrome=85.0.4183.121)\nStacktrace:\nBacktrace:\n\tOrdinal0 [0x00DAD383+3134339]\n\tOrdinal0 [0x00C9A171+2007409]\n\tOrdinal0 [0x00B3AEE8+569064]\n\tOrdinal0 [0x00ACA72F+108335]\n\tOrdinal0 [0x00AE9DB0+236976]\n\tOrdinal0 [0x00ADEC90+191632]\n\tOrdinal0 [0x00AE8773+231283]\n\tOrdinal0 [0x00ADEB0B+191243]\n\tOrdinal0 [0x00AC2E77+77431]\n\tOrdinal0 [0x00AC3E3E+81470]\n\tOrdinal0 [0x00AC3DC9+81353]\n\tOrdinal0 [0x00CB0CD9+2100441]\n\tGetHandleVerifier [0x00F1B75A+1396954]\n\tGetHandleVerifier [0x00F1B3D9+1396057]\n\tGetHandleVerifier [0x00F27126+1444518]\n\tGetHandleVerifier [0x00F1BCE8+1398376]\n\tOrdinal0 [0x00CA7F51+2064209]\n\tOrdinal0 [0x00CB22EB+2106091]\n\tOrdinal0 [0x00CB2411+2106385]\n\tOrdinal0 [0x00CC49C4+2181572]\n\tBaseThreadInitThunk [0x74F76A14+36]\n\tRtlInitializeExceptionChain [0x7718AB4F+143]\n\tRtlInitializeExceptionChain [0x7718AB1A+90]\n",
     "output_type": "error",
     "traceback": [
      "\u001b[1;31m---------------------------------------------------------------------------\u001b[0m",
      "\u001b[1;31mNoSuchElementException\u001b[0m                    Traceback (most recent call last)",
      "\u001b[1;32m<ipython-input-17-4e88506e4f35>\u001b[0m in \u001b[0;36m<module>\u001b[1;34m\u001b[0m\n\u001b[1;32m----> 1\u001b[1;33m \u001b[0mele_size\u001b[0m \u001b[1;33m=\u001b[0m \u001b[0mdriver\u001b[0m\u001b[1;33m.\u001b[0m\u001b[0mfind_element_by_xpath\u001b[0m\u001b[1;33m(\u001b[0m\u001b[1;34m'//label[text()=\"Size\"]'\u001b[0m\u001b[1;33m)\u001b[0m\u001b[1;33m\u001b[0m\u001b[1;33m\u001b[0m\u001b[0m\n\u001b[0m\u001b[0;32m      2\u001b[0m \u001b[0mele_size\u001b[0m\u001b[1;33m\u001b[0m\u001b[1;33m\u001b[0m\u001b[0m\n",
      "\u001b[1;32m~\\anaconda3\\lib\\site-packages\\selenium\\webdriver\\remote\\webdriver.py\u001b[0m in \u001b[0;36mfind_element_by_xpath\u001b[1;34m(self, xpath)\u001b[0m\n\u001b[0;32m    429\u001b[0m         \"\"\"\n\u001b[0;32m    430\u001b[0m         \u001b[0mwarnings\u001b[0m\u001b[1;33m.\u001b[0m\u001b[0mwarn\u001b[0m\u001b[1;33m(\u001b[0m\u001b[1;34m\"find_element_by_* commands are deprecated. Please use find_element() instead\"\u001b[0m\u001b[1;33m)\u001b[0m\u001b[1;33m\u001b[0m\u001b[1;33m\u001b[0m\u001b[0m\n\u001b[1;32m--> 431\u001b[1;33m         \u001b[1;32mreturn\u001b[0m \u001b[0mself\u001b[0m\u001b[1;33m.\u001b[0m\u001b[0mfind_element\u001b[0m\u001b[1;33m(\u001b[0m\u001b[0mby\u001b[0m\u001b[1;33m=\u001b[0m\u001b[0mBy\u001b[0m\u001b[1;33m.\u001b[0m\u001b[0mXPATH\u001b[0m\u001b[1;33m,\u001b[0m \u001b[0mvalue\u001b[0m\u001b[1;33m=\u001b[0m\u001b[0mxpath\u001b[0m\u001b[1;33m)\u001b[0m\u001b[1;33m\u001b[0m\u001b[1;33m\u001b[0m\u001b[0m\n\u001b[0m\u001b[0;32m    432\u001b[0m \u001b[1;33m\u001b[0m\u001b[0m\n\u001b[0;32m    433\u001b[0m     \u001b[1;32mdef\u001b[0m \u001b[0mfind_elements_by_xpath\u001b[0m\u001b[1;33m(\u001b[0m\u001b[0mself\u001b[0m\u001b[1;33m,\u001b[0m \u001b[0mxpath\u001b[0m\u001b[1;33m)\u001b[0m\u001b[1;33m:\u001b[0m\u001b[1;33m\u001b[0m\u001b[1;33m\u001b[0m\u001b[0m\n",
      "\u001b[1;32m~\\anaconda3\\lib\\site-packages\\selenium\\webdriver\\remote\\webdriver.py\u001b[0m in \u001b[0;36mfind_element\u001b[1;34m(self, by, value)\u001b[0m\n\u001b[0;32m   1090\u001b[0m                 \u001b[0mby\u001b[0m \u001b[1;33m=\u001b[0m \u001b[0mBy\u001b[0m\u001b[1;33m.\u001b[0m\u001b[0mCSS_SELECTOR\u001b[0m\u001b[1;33m\u001b[0m\u001b[1;33m\u001b[0m\u001b[0m\n\u001b[0;32m   1091\u001b[0m                 \u001b[0mvalue\u001b[0m \u001b[1;33m=\u001b[0m \u001b[1;34m'[name=\"%s\"]'\u001b[0m \u001b[1;33m%\u001b[0m \u001b[0mvalue\u001b[0m\u001b[1;33m\u001b[0m\u001b[1;33m\u001b[0m\u001b[0m\n\u001b[1;32m-> 1092\u001b[1;33m         return self.execute(Command.FIND_ELEMENT, {\n\u001b[0m\u001b[0;32m   1093\u001b[0m             \u001b[1;34m'using'\u001b[0m\u001b[1;33m:\u001b[0m \u001b[0mby\u001b[0m\u001b[1;33m,\u001b[0m\u001b[1;33m\u001b[0m\u001b[1;33m\u001b[0m\u001b[0m\n\u001b[0;32m   1094\u001b[0m             'value': value})['value']\n",
      "\u001b[1;32m~\\anaconda3\\lib\\site-packages\\selenium\\webdriver\\remote\\webdriver.py\u001b[0m in \u001b[0;36mexecute\u001b[1;34m(self, driver_command, params)\u001b[0m\n\u001b[0;32m    345\u001b[0m         \u001b[0mresponse\u001b[0m \u001b[1;33m=\u001b[0m \u001b[0mself\u001b[0m\u001b[1;33m.\u001b[0m\u001b[0mcommand_executor\u001b[0m\u001b[1;33m.\u001b[0m\u001b[0mexecute\u001b[0m\u001b[1;33m(\u001b[0m\u001b[0mdriver_command\u001b[0m\u001b[1;33m,\u001b[0m \u001b[0mparams\u001b[0m\u001b[1;33m)\u001b[0m\u001b[1;33m\u001b[0m\u001b[1;33m\u001b[0m\u001b[0m\n\u001b[0;32m    346\u001b[0m         \u001b[1;32mif\u001b[0m \u001b[0mresponse\u001b[0m\u001b[1;33m:\u001b[0m\u001b[1;33m\u001b[0m\u001b[1;33m\u001b[0m\u001b[0m\n\u001b[1;32m--> 347\u001b[1;33m             \u001b[0mself\u001b[0m\u001b[1;33m.\u001b[0m\u001b[0merror_handler\u001b[0m\u001b[1;33m.\u001b[0m\u001b[0mcheck_response\u001b[0m\u001b[1;33m(\u001b[0m\u001b[0mresponse\u001b[0m\u001b[1;33m)\u001b[0m\u001b[1;33m\u001b[0m\u001b[1;33m\u001b[0m\u001b[0m\n\u001b[0m\u001b[0;32m    348\u001b[0m             response['value'] = self._unwrap_value(\n\u001b[0;32m    349\u001b[0m                 response.get('value', None))\n",
      "\u001b[1;32m~\\anaconda3\\lib\\site-packages\\selenium\\webdriver\\remote\\errorhandler.py\u001b[0m in \u001b[0;36mcheck_response\u001b[1;34m(self, response)\u001b[0m\n\u001b[0;32m    238\u001b[0m                 \u001b[0malert_text\u001b[0m \u001b[1;33m=\u001b[0m \u001b[0mvalue\u001b[0m\u001b[1;33m[\u001b[0m\u001b[1;34m'alert'\u001b[0m\u001b[1;33m]\u001b[0m\u001b[1;33m.\u001b[0m\u001b[0mget\u001b[0m\u001b[1;33m(\u001b[0m\u001b[1;34m'text'\u001b[0m\u001b[1;33m)\u001b[0m\u001b[1;33m\u001b[0m\u001b[1;33m\u001b[0m\u001b[0m\n\u001b[0;32m    239\u001b[0m             \u001b[1;32mraise\u001b[0m \u001b[0mexception_class\u001b[0m\u001b[1;33m(\u001b[0m\u001b[0mmessage\u001b[0m\u001b[1;33m,\u001b[0m \u001b[0mscreen\u001b[0m\u001b[1;33m,\u001b[0m \u001b[0mstacktrace\u001b[0m\u001b[1;33m,\u001b[0m \u001b[0malert_text\u001b[0m\u001b[1;33m)\u001b[0m\u001b[1;33m\u001b[0m\u001b[1;33m\u001b[0m\u001b[0m\n\u001b[1;32m--> 240\u001b[1;33m         \u001b[1;32mraise\u001b[0m \u001b[0mexception_class\u001b[0m\u001b[1;33m(\u001b[0m\u001b[0mmessage\u001b[0m\u001b[1;33m,\u001b[0m \u001b[0mscreen\u001b[0m\u001b[1;33m,\u001b[0m \u001b[0mstacktrace\u001b[0m\u001b[1;33m)\u001b[0m\u001b[1;33m\u001b[0m\u001b[1;33m\u001b[0m\u001b[0m\n\u001b[0m\u001b[0;32m    241\u001b[0m \u001b[1;33m\u001b[0m\u001b[0m\n\u001b[0;32m    242\u001b[0m     \u001b[1;32mdef\u001b[0m \u001b[0m_value_or_default\u001b[0m\u001b[1;33m(\u001b[0m\u001b[0mself\u001b[0m\u001b[1;33m,\u001b[0m \u001b[0mobj\u001b[0m\u001b[1;33m,\u001b[0m \u001b[0mkey\u001b[0m\u001b[1;33m,\u001b[0m \u001b[0mdefault\u001b[0m\u001b[1;33m)\u001b[0m\u001b[1;33m:\u001b[0m\u001b[1;33m\u001b[0m\u001b[1;33m\u001b[0m\u001b[0m\n",
      "\u001b[1;31mNoSuchElementException\u001b[0m: Message: no such element: Unable to locate element: {\"method\":\"xpath\",\"selector\":\"//label[text()=\"Size\"]\"}\n  (Session info: chrome=85.0.4183.121)\nStacktrace:\nBacktrace:\n\tOrdinal0 [0x00DAD383+3134339]\n\tOrdinal0 [0x00C9A171+2007409]\n\tOrdinal0 [0x00B3AEE8+569064]\n\tOrdinal0 [0x00ACA72F+108335]\n\tOrdinal0 [0x00AE9DB0+236976]\n\tOrdinal0 [0x00ADEC90+191632]\n\tOrdinal0 [0x00AE8773+231283]\n\tOrdinal0 [0x00ADEB0B+191243]\n\tOrdinal0 [0x00AC2E77+77431]\n\tOrdinal0 [0x00AC3E3E+81470]\n\tOrdinal0 [0x00AC3DC9+81353]\n\tOrdinal0 [0x00CB0CD9+2100441]\n\tGetHandleVerifier [0x00F1B75A+1396954]\n\tGetHandleVerifier [0x00F1B3D9+1396057]\n\tGetHandleVerifier [0x00F27126+1444518]\n\tGetHandleVerifier [0x00F1BCE8+1398376]\n\tOrdinal0 [0x00CA7F51+2064209]\n\tOrdinal0 [0x00CB22EB+2106091]\n\tOrdinal0 [0x00CB2411+2106385]\n\tOrdinal0 [0x00CC49C4+2181572]\n\tBaseThreadInitThunk [0x74F76A14+36]\n\tRtlInitializeExceptionChain [0x7718AB4F+143]\n\tRtlInitializeExceptionChain [0x7718AB1A+90]\n"
     ]
    }
   ],
   "source": [
    "ele_size = driver.find_element_by_xpath('//label[text()=\"Size\"]')\n",
    "ele_size"
   ]
  },
  {
   "cell_type": "code",
   "execution_count": null,
   "metadata": {
    "scrolled": true
   },
   "outputs": [],
   "source": [
    "# Selecting community\n",
    "community_list = driver.find_elements_by_xpath('//*[@id=\"recommend\"]/div[3]/div[7]/div')# Finding number of lists per webpage\n",
    "\n",
    "for i in range(1, len(community_list)):\n",
    "    element_community = driver.find_element_by_xpath(f'//*[@id=\"recommend\"]/div[3]/div[7]/div[{i}]/div[2]/div[2]/div[4]/span/button/span')\n",
    "    element_community.click()\n",
    "    print(f'Community-{i}')\n",
    "    sleep(3)\n",
    "\n",
    "    post_list = driver.find_elements_by_xpath('//*[@id=\"recommend\"]/div[2]/div/div[2]/div[3]/div[1]/div')\n",
    "    print(len(post_list))\n",
    "\n",
    "    for i in range(1,len(post_list)+1):\n",
    "        post = driver.find_element_by_xpath(f'//*[@id=\"recommend\"]/div[2]/div/div[2]/div[3]/div[1]/div[{i}]/div/div[1]/a')\n",
    "        post.click() #clicks on the posted listing\n",
    "        # new tab opens\n",
    "        driver.switch_to.window(driver.window_handles[-1]) #moves controller to the last opened tab handle\n",
    "        #now able to control the newly opened tab\n",
    "        sleep(2)\n",
    "\n",
    "        # Scraping the listing details\n",
    "        try:\n",
    "            ele_list_num = driver.find_element_by_xpath('//*[@id=\"room_count_to_estimate\"]/div[5]/div[2]/div[1]/span').text\n",
    "        except:\n",
    "            ele_list_num = driver.find_element_by_xpath('//*[@id=\"room_count_to_estimate\"]/div[6]/div[2]/div[1]/span').text\n",
    "        ele_address = driver.find_element_by_xpath('//div[@class = \"address\"]').text\n",
    "        ele_city_name = driver.find_element_by_xpath('//div[@class = \"city_name\"]').text\n",
    "        ele_house_type = driver.find_element_by_xpath('//div[@class = \"house_type\"]').text\n",
    "\n",
    "        try:\n",
    "            ele_listing_price = driver.find_element_by_xpath('//div[@class = \"price_listing\"]/span').text\n",
    "        except:\n",
    "            pass\n",
    "\n",
    "        try:\n",
    "            ele_estimated_price = driver.find_element_by_xpath('//div[@class = \"price_dollar\"]').text\n",
    "        except:\n",
    "            ele_estimated_price = driver.find_element_by_xpath('//*[@id=\"room_count_to_estimate\"]/div[6]/div[1]/div[1]/p').text\n",
    "        try:\n",
    "            ele_estimate_date = driver.find_element_by_xpath('//div[@class = \"estimate_date\"]').text\n",
    "        except:\n",
    "            ele_estimate_date = driver.find_element_by_xpath('//*[@id=\"room_count_to_estimate\"]/div[6]/div[1]/div[2]/p')\n",
    "        ele_bedroom = driver.find_element_by_xpath('//*[@id=\"room_count_to_estimate\"]/div[1]/div/div/div[1]/span').text\n",
    "        ele_washroom = driver.find_element_by_xpath('//*[@id=\"room_count_to_estimate\"]/div[1]/div/div/div[2]/span').text\n",
    "        ele_parking = driver.find_element_by_xpath('//*[@id=\"room_count_to_estimate\"]/div[1]/div/div/div[3]/span').text\n",
    "        try:\n",
    "            ele_tax = driver.find_element_by_xpath('//*[@id=\"room_count_to_estimate\"]/div[5]/div[1]/div[1]/span').text\n",
    "        except:\n",
    "            ele_tax = driver.find_element_by_xpath('//*[@id=\"room_count_to_estimate\"]/div[6]/div[1]/div[1]/span').text\n",
    "        try:\n",
    "            ele_maintenance = driver.find_element_by_xpath('//*[@id=\"room_count_to_estimate\"]/div[5]/div[1]/div[3]/span').text\n",
    "        except:\n",
    "            ele_maintenance = driver.find_element_by_xpath('//*[@id=\"room_count_to_estimate\"]/div[6]/div[1]/div[3]/span').text\n",
    "        try:\n",
    "            ele_building_age = driver.find_element_by_xpath('//*[@id=\"room_count_to_estimate\"]/div[5]/div[1]/div[4]/span').text\n",
    "        except:\n",
    "            ele_building_age = driver.find_element_by_xpath('//*[@id=\"room_count_to_estimate\"]/div[6]/div[1]/div[5]/label').text\n",
    "        try:\n",
    "            ele_size = driver.find_element_by_xpath('//*[@id=\"room_count_to_estimate\"]/div[5]/div[1]/div[5]/span').text\n",
    "        except:\n",
    "            ele_size = driver.find_element_by_xpath('//*[@id=\"room_count_to_estimate\"]/div[6]/div[1]/div[5]/span').text\n",
    "\n",
    "        try:\n",
    "            ele_listed_on = driver.find_element_by_xpath('//*[@id=\"room_count_to_estimate\"]/div[5]/div[2]/div[3]/span').text\n",
    "        except:\n",
    "            ele_listed_on = driver.find_element_by_xpath('//*[@id=\"room_count_to_estimate\"]/div[6]/div[2]/div[3]/span').text\n",
    "\n",
    "        try:\n",
    "            ele_updated_on = driver.find_element_by_xpath('//*[@id=\"room_count_to_estimate\"]/div[5]/div[2]/div[4]/span').text\n",
    "        except:\n",
    "            ele_updated_on = driver.find_element_by_xpath('//*[@id=\"room_count_to_estimate\"]/div[6]/div[2]/div[4]/span').text\n",
    "        # ele_market_demand = driver.find_element_by_xpath('//*[@id=\"room_count_to_estimate\"]/div[5]/div[2]/div[6]').text\n",
    "\n",
    "        try:\n",
    "            ele_rental_estimate = driver.find_element_by_xpath('//*[@id=\"room_count_to_estimate\"]/div[6]/div[1]/div[3]/p').text\n",
    "        except:\n",
    "            ele_rental_estimate = driver.find_element_by_xpath('//*[@id=\"room_count_to_estimate\"]/div[7]/div[1]/div[3]/p').text\n",
    "\n",
    "        try:\n",
    "            ele_rental_yield = driver.find_element_by_xpath('//*[@id=\"room_count_to_estimate\"]/div[6]/div[1]/div[4]/p').text\n",
    "        except:\n",
    "            ele_rental_yield = driver.find_element_by_xpath('//*[@id=\"room_count_to_estimate\"]/div[7]/div[1]/div[4]/p').text\n",
    "\n",
    "        ele_intersection = driver.find_element_by_xpath('//*[@id=\"property_details\"]/div[1]/div[1]/div[1]/span').text\n",
    "        ele_property_style = driver.find_element_by_xpath('//*[@id=\"property_details\"]/div[1]/div[1]/div[2]/span').text\n",
    "        ele_exposure = driver.find_element_by_xpath('//*[@id=\"property_details\"]/div[1]/div[1]/div[3]/span').text\n",
    "        ele_description = driver.find_element_by_xpath('//*[@id=\"property_details\"]/div[2]/p').text\n",
    "\n",
    "        # Append lists\n",
    "        list_num.append(ele_list_num) \n",
    "        address.append(ele_address)\n",
    "        city_name.append(ele_city_name)\n",
    "        house_type.append(ele_house_type) \n",
    "        listing_price.append(ele_listing_price) \n",
    "        estimated_price.append(ele_estimated_price) \n",
    "        estimate_date.append(ele_estimate_date) \n",
    "        bedroom.append(ele_bedroom) \n",
    "        washroom.append(ele_washroom) \n",
    "        parking.append(ele_parking) \n",
    "        tax.append(ele_tax) \n",
    "        maintenance.append(ele_maintenance) \n",
    "        building_age.append(ele_building_age) \n",
    "        size.append(ele_size) \n",
    "        listed_on.append(ele_listed_on) \n",
    "        updated_on.append(ele_updated_on) \n",
    "        # market_deman.append(ele_city_name)d\n",
    "        rental_estimate.append(ele_rental_estimate) \n",
    "        rental_yield.append(ele_rental_yield) \n",
    "        intersection.append(ele_intersection) \n",
    "        property_style.append(ele_property_style)\n",
    "        exposure.append(ele_exposure) \n",
    "        description.append(ele_description)\n",
    "\n",
    "    #         # For checking purpose\n",
    "    #         print(ele_address)\n",
    "    #         sleep(1)\n",
    "    #         print(ele_city_name)\n",
    "    #         sleep(1)\n",
    "        driver.close()#closes current, active tab\n",
    "        driver.switch_to.window(driver.window_handles[0])\n",
    "        sleep(2)\n",
    "        print(f'Listing #{i} scraping completed')\n",
    "    sleep(2)\n",
    "    close_community = driver.find_element_by_xpath('//*[@id=\"recommend\"]/div[2]/div/div[1]/button/i')\n",
    "    close_community.click()\n",
    "    sleep(10)"
   ]
  },
  {
   "cell_type": "code",
   "execution_count": null,
   "metadata": {},
   "outputs": [],
   "source": [
    "driver.close()#closes current, active tab\n",
    "driver.switch_to.window(driver.window_handles[0])\n",
    "sleep(2)"
   ]
  },
  {
   "cell_type": "code",
   "execution_count": null,
   "metadata": {},
   "outputs": [],
   "source": [
    "close_community = driver.find_element_by_xpath('//*[@id=\"recommend\"]/div[2]/div/div[1]/button/i')\n",
    "close_community.click()\n",
    "sleep(10)"
   ]
  },
  {
   "cell_type": "code",
   "execution_count": null,
   "metadata": {},
   "outputs": [],
   "source": [
    "# # Selecting a listing from community (for 1 post)\n",
    "# # this code opens a new tab\n",
    "# element_community_post = driver.find_element_by_xpath('//div[@class=\"pic_infor\"]')\n",
    "# element_community_post.click()\n",
    "\n",
    "# # Switching to the active tab\n",
    "# driver.switch_to.window(driver.window_handles[-1]) #last opened tab handle"
   ]
  },
  {
   "cell_type": "code",
   "execution_count": null,
   "metadata": {},
   "outputs": [],
   "source": [
    "# # Scraping listing details\n",
    "# ele_address = driver.find_element_by_xpath('//div[@class = \"address\"]').text\n",
    "# ele_city_name = driver.find_element_by_xpath('//div[@class = \"city_name\"]').text\n",
    "# ele_house_type = driver.find_element_by_xpath('//div[@class = \"house_type\"]').text\n",
    "# ele_listing_price = driver.find_element_by_xpath('//div[@class = \"price_listing\"]/span').text\n",
    "# ele_estimated_price = driver.find_element_by_xpath('//div[@class = \"price_dollar\"]').text\n",
    "# ele_estimate_date = driver.find_element_by_xpath('//div[@class = \"estimate_date\"]').text\n",
    "# ele_bedroom = driver.find_element_by_xpath('//*[@id=\"room_count_to_estimate\"]/div[1]/div/div/div[1]/span').text\n",
    "# ele_washroom = driver.find_element_by_xpath('//*[@id=\"room_count_to_estimate\"]/div[1]/div/div/div[2]/span').text\n",
    "# ele_parking = driver.find_element_by_xpath('//*[@id=\"room_count_to_estimate\"]/div[1]/div/div/div[3]/span').text\n",
    "# ele_tax = driver.find_element_by_xpath('//*[@id=\"room_count_to_estimate\"]/div[5]/div[1]/div[1]/span').text\n",
    "# ele_maintenance = driver.find_element_by_xpath('//*[@id=\"room_count_to_estimate\"]/div[5]/div[1]/div[3]/span').text\n",
    "# ele_building_age = driver.find_element_by_xpath('//*[@id=\"room_count_to_estimate\"]/div[5]/div[1]/div[4]/span').text\n",
    "# ele_size = driver.find_element_by_xpath('//*[@id=\"room_count_to_estimate\"]/div[5]/div[1]/div[5]/span').text\n",
    "# ele_list_num = driver.find_element_by_xpath('//*[@id=\"room_count_to_estimate\"]/div[5]/div[2]/div[1]/span').text\n",
    "# ele_listed_on = driver.find_element_by_xpath('//*[@id=\"room_count_to_estimate\"]/div[5]/div[2]/div[3]/span').text\n",
    "# ele_updated_on = driver.find_element_by_xpath('//*[@id=\"room_count_to_estimate\"]/div[5]/div[2]/div[4]/span').text\n",
    "# # ele_market_demand = driver.find_element_by_xpath('//*[@id=\"room_count_to_estimate\"]/div[5]/div[2]/div[6]').text\n",
    "# ele_rental_estimate = driver.find_element_by_xpath('//*[@id=\"room_count_to_estimate\"]/div[6]/div[1]/div[3]/p').text\n",
    "# ele_rental_yield = driver.find_element_by_xpath('//*[@id=\"room_count_to_estimate\"]/div[6]/div[1]/div[4]/p').text\n",
    "# ele_intersection = driver.find_element_by_xpath('//*[@id=\"property_details\"]/div[1]/div[1]/div[1]/span').text\n",
    "# ele_property_style = driver.find_element_by_xpath('//*[@id=\"property_details\"]/div[1]/div[1]/div[2]/span').text\n",
    "# ele_exposure = driver.find_element_by_xpath('//*[@id=\"property_details\"]/div[1]/div[1]/div[3]/span').text\n",
    "# ele_description = driver.find_element_by_xpath('//*[@class=\"desc_more\"]/div[1]/div[1]/div[3]/span').text"
   ]
  },
  {
   "cell_type": "code",
   "execution_count": null,
   "metadata": {},
   "outputs": [],
   "source": [
    "# print(ele_list_num)\n",
    "# print(ele_address)\n",
    "# print(ele_city_name)\n",
    "# print(ele_house_type)\n",
    "# print(ele_listing_price)\n",
    "# print(ele_estimated_price)\n",
    "# print(ele_estimate_date)\n",
    "# print(ele_bedroom)\n",
    "# print(ele_washroom)\n",
    "# print(ele_parking)\n",
    "# print(ele_tax)\n",
    "# print(ele_maintenance)\n",
    "# print(ele_building_age)\n",
    "# print(ele_size)\n",
    "# print(ele_listed_on)\n",
    "# print(ele_updated_on)\n",
    "# # print(ele_market_demand)\n",
    "# print(ele_rental_estimate)\n",
    "# print(ele_rental_yield)\n",
    "# print(ele_intersection)\n",
    "# print(ele_property_style)\n",
    "# print(ele_exposure)\n",
    "# print(ele_description)"
   ]
  },
  {
   "cell_type": "code",
   "execution_count": null,
   "metadata": {},
   "outputs": [],
   "source": [
    "print(list_num)\n",
    "print(address)\n",
    "print(city_name)\n",
    "print(house_type)\n",
    "print(listing_price)\n",
    "print(estimated_price)\n",
    "print(estimate_date)\n",
    "print(bedroom)\n",
    "print(washroom)\n",
    "print(parking)\n",
    "print(tax)\n",
    "print(maintenance)\n",
    "print(building_age)\n",
    "print(size)\n",
    "print(listed_on)\n",
    "print(updated_on)\n",
    "# print(market_demand)\n",
    "print(rental_estimate)\n",
    "print(rental_yield)\n",
    "print(intersection)\n",
    "print(property_style)\n",
    "print(exposure)\n",
    "print(description)"
   ]
  },
  {
   "cell_type": "markdown",
   "metadata": {},
   "source": [
    "## Creating a dataframe"
   ]
  },
  {
   "cell_type": "code",
   "execution_count": null,
   "metadata": {},
   "outputs": [],
   "source": [
    "# Into a dataframe\n",
    "df = pd.DataFrame({\n",
    "    'Listing_num':list_num,\n",
    "    'Address':address,\n",
    "    'City':city_name,\n",
    "    'House_type':house_type,\n",
    "    'Price':listing_price,\n",
    "    'Estimated_price':estimated_price,\n",
    "    'Estimated_on':estimate_date,\n",
    "    'Bedroom_num':bedroom,\n",
    "    'Washroom_num':washroom,\n",
    "    'Parking_num':parking,\n",
    "    'Tax':tax,\n",
    "    'Maintenance':maintenance,\n",
    "    'Building_age':building_age,\n",
    "    'Size':size,\n",
    "    'Listed_on':listed_on,\n",
    "    'Updated_on':updated_on,\n",
    "    'Rental_estimate':rental_estimate,\n",
    "    'Rental_yield':rental_yield,\n",
    "    'Major_intersection':intersection,\n",
    "    'Property_style':property_style,\n",
    "    'Exposure':exposure,\n",
    "    'Description':description\n",
    "})"
   ]
  },
  {
   "cell_type": "code",
   "execution_count": null,
   "metadata": {},
   "outputs": [],
   "source": [
    "df"
   ]
  },
  {
   "cell_type": "code",
   "execution_count": null,
   "metadata": {},
   "outputs": [],
   "source": [
    "df.shape"
   ]
  },
  {
   "cell_type": "code",
   "execution_count": null,
   "metadata": {},
   "outputs": [],
   "source": [
    "df.to_csv('2020_HouseSigma_listing_details_4.csv', index = False)"
   ]
  },
  {
   "cell_type": "code",
   "execution_count": null,
   "metadata": {},
   "outputs": [],
   "source": [
    "# df = pd.read_csv('2020_HouseSigma_listing_details.csv')\n",
    "# df2 = pd.read_csv('2020_HouseSigma_listing_details_2.csv')\n",
    "# df3 = pd.read_csv('2020_HouseSigma_listing_details_3.csv')\n",
    "# df4 = pd.read_csv('2020_HouseSigma_listing_details_4.csv')\n",
    "# df_all = pd.concat([df, df2, df3, df4])\n",
    "# df_all.to_csv('2020_HouseSigma_listing_details_all.csv', index = False)"
   ]
  },
  {
   "cell_type": "markdown",
   "metadata": {},
   "source": [
    "## Cleaning dataset"
   ]
  },
  {
   "cell_type": "code",
   "execution_count": null,
   "metadata": {},
   "outputs": [],
   "source": [
    "df_all = pd.read_csv('2020_HouseSigma_listing_details_all.csv')"
   ]
  },
  {
   "cell_type": "code",
   "execution_count": null,
   "metadata": {},
   "outputs": [],
   "source": [
    "df_all.shape"
   ]
  },
  {
   "cell_type": "code",
   "execution_count": null,
   "metadata": {},
   "outputs": [],
   "source": [
    "df_all['Price'].dtype"
   ]
  },
  {
   "cell_type": "code",
   "execution_count": null,
   "metadata": {
    "scrolled": true
   },
   "outputs": [],
   "source": [
    "df_all.head(3)"
   ]
  },
  {
   "cell_type": "code",
   "execution_count": null,
   "metadata": {},
   "outputs": [],
   "source": [
    "# Changing currency to float\n",
    "df_all[['Price', 'Estimated_price', 'Rental_estimate']] = df_all[['Price', 'Estimated_price', 'Rental_estimate']].replace( '[\\$,)]', '', regex = True).astype(float)\n",
    "\n",
    "\n",
    "# Removing some words\n",
    "df_all['Bedroom_num'] = df_all['Bedroom_num'].str.replace(' Bedrooms', '', regex=False)\n",
    "df_all['Washroom_num'] = df_all['Washroom_num'].str.replace(' Bathrooms', '', regex=False)\n",
    "df_all['Parking_num'] = df_all['Parking_num'] = df_all['Parking_num'].str.replace(' Garage', '', regex=False)\n",
    "df_all['Parking_num'] = df_all['Parking_num'] = df_all['Parking_num'].str.replace(' Garage', '', regex=False)\n",
    "df_all['Estimated_on'] = df_all['Estimated_on'].str.replace('As of ', '', regex=False)\n",
    "df_all['Tax'] = df_all['Tax'].replace('[\\$,)]', '', regex = True).str.replace(' -', '', regex=False)\n",
    "\n",
    "# To capitalize all letters in the series\n",
    "df_all['Exposure'] = df_all['Exposure'].str.upper()\n"
   ]
  },
  {
   "cell_type": "code",
   "execution_count": null,
   "metadata": {},
   "outputs": [],
   "source": [
    "#Replacing blank values/ with NaN\n",
    "import numpy as np\n",
    "df_all['Tax'].replace(r'^\\s*$', np.nan, regex=True)"
   ]
  },
  {
   "cell_type": "code",
   "execution_count": null,
   "metadata": {},
   "outputs": [],
   "source": [
    "# Removing words & assigning NaN to blank cells\n",
    "\n",
    "df_all['Maintenance'] = df_all['Maintenance'].str.replace('/month', '', regex=False).str.replace('$', '', regex=False)\n",
    "\n",
    "for i in range(len(df_all)):\n",
    "    try:\n",
    "        df_all['Maintenance'].iloc[i] = float(df_all['Maintenance'].iloc[i])\n",
    "    except:\n",
    "        df_all['Maintenance'].iloc[i] = np.nan\n",
    "#         print(i) # which row    "
   ]
  },
  {
   "cell_type": "code",
   "execution_count": null,
   "metadata": {},
   "outputs": [],
   "source": [
    "df_all['Price'].dtype"
   ]
  },
  {
   "cell_type": "code",
   "execution_count": null,
   "metadata": {},
   "outputs": [],
   "source": [
    "df_all.head(3)"
   ]
  },
  {
   "cell_type": "code",
   "execution_count": null,
   "metadata": {},
   "outputs": [],
   "source": [
    "# # Change to datetime object\n",
    "# for i in range(len(df_all)):\n",
    "#     string = df_all['Estimated_on'].iloc[i]\n",
    "#     if len(string) == 10:\n",
    "#         pass\n",
    "#     else:\n",
    "#         df_all['Estimated_on'].iloc[i] = np.nan\n",
    "# #         print(i)        "
   ]
  },
  {
   "cell_type": "code",
   "execution_count": null,
   "metadata": {},
   "outputs": [],
   "source": [
    "# df_all.to_csv('2020_HouseSigma_listing_details_all_final.csv', index = False)"
   ]
  },
  {
   "cell_type": "markdown",
   "metadata": {},
   "source": [
    "## Visualizing data"
   ]
  },
  {
   "cell_type": "code",
   "execution_count": null,
   "metadata": {},
   "outputs": [],
   "source": [
    "import seaborn as sns\n",
    "import matplotlib.pyplot as plt\n",
    "%matplotlib inline\n",
    "\n",
    "df = pd.read_csv('2020_HouseSigma_listing_details_all_final.csv')"
   ]
  },
  {
   "cell_type": "code",
   "execution_count": null,
   "metadata": {},
   "outputs": [],
   "source": [
    "df.columns"
   ]
  },
  {
   "cell_type": "code",
   "execution_count": null,
   "metadata": {},
   "outputs": [],
   "source": [
    "df['Price'].plot(kind = 'hist', bins = 100)"
   ]
  },
  {
   "cell_type": "code",
   "execution_count": null,
   "metadata": {},
   "outputs": [],
   "source": [
    "df['Price'].sort_values(ascending = False)[0:20]\n",
    "# df['Price'].describe()"
   ]
  },
  {
   "cell_type": "code",
   "execution_count": null,
   "metadata": {},
   "outputs": [],
   "source": [
    "# Removing outliers\n",
    "my_df = df[df['Price']<3000000]\n",
    "print(my_df.shape)"
   ]
  },
  {
   "cell_type": "code",
   "execution_count": null,
   "metadata": {},
   "outputs": [],
   "source": [
    "my_df['Price'].plot(kind = 'hist', bins = 100)"
   ]
  },
  {
   "cell_type": "code",
   "execution_count": null,
   "metadata": {},
   "outputs": [],
   "source": [
    "pd.options.display.float_format = \"{:.2f}\".format #to print entire numbers\n",
    "\n",
    "sns.boxplot(my_df['Price'])\n",
    "print(my_df['Price'].describe())"
   ]
  },
  {
   "cell_type": "code",
   "execution_count": null,
   "metadata": {},
   "outputs": [],
   "source": [
    "# To change string dates into datetime objects\n",
    "# [Listed_on, Estimated_on, Updated_on]\n",
    "\n",
    "for i in range(len(my_df)):\n",
    "#     print(i)\n",
    "    try:\n",
    "        my_df.loc[i, 'Listed_on'] = pd.to_datetime(my_df.loc[i, 'Listed_on'], format = '%Y-%m-%d').date()\n",
    "    except:\n",
    "        pass"
   ]
  },
  {
   "cell_type": "code",
   "execution_count": null,
   "metadata": {},
   "outputs": [],
   "source": [
    "# # Determine days on market\n",
    "import datetime\n",
    "today = datetime.date.today()\n",
    "days_on_market = []\n",
    "\n",
    "for i in range(len(my_df)):\n",
    "#     print(i)\n",
    "    try:\n",
    "        num_days= today-my_df[\"Listed_on\"][i]\n",
    "        days_on_market.append(num_days)\n",
    "    except:\n",
    "        days_on_market.append(np.nan) #parse NaN if blank"
   ]
  },
  {
   "cell_type": "code",
   "execution_count": null,
   "metadata": {},
   "outputs": [],
   "source": [
    "# sum(my_df['Listed_on'].isna())\n",
    "# sum(my_df['Estimated_on'].isna())\n",
    "# sum(my_df['Updated_on'].isna())"
   ]
  },
  {
   "cell_type": "code",
   "execution_count": null,
   "metadata": {},
   "outputs": [],
   "source": [
    "# # To make string dates into date objects\n",
    "# for i in range(len(my_df)):\n",
    "#     my_df.loc[i,'Listed_on'] = pd.to_datetime(my_df.loc[i, 'Listed_on'], format = '%Y-%m-%d', errors='coerce').date() # NaN -> NaT\n",
    "#     my_df.loc[i, 'Estimated_on'] = pd.to_datetime(my_df.loc[i, 'Estimated_on'], format = '%Y-%m-%d', errors='coerce').date()\n",
    "#     my_df.loc[i, 'Updated_on'] = pd.to_datetime(my_df.loc[i, 'Updated_on'], format = '%Y-%m-%d', errors='coerce').date()"
   ]
  },
  {
   "cell_type": "code",
   "execution_count": null,
   "metadata": {},
   "outputs": [],
   "source": [
    "# # # Determine days on market\n",
    "\n",
    "# today = datetime.date.today()\n",
    "# days_on_market = []\n",
    "\n",
    "# for i in range(len(my_df)):\n",
    "# #     print(i)\n",
    "#     try:\n",
    "#         num_days= today-my_df[\"Listed_on\"][i]\n",
    "#         days_on_market.append(num_days)\n",
    "#     except:\n",
    "#         days_on_market.append(np.nan) #parse NaN if blank"
   ]
  },
  {
   "cell_type": "code",
   "execution_count": null,
   "metadata": {},
   "outputs": [],
   "source": [
    "len(days_on_market)"
   ]
  },
  {
   "cell_type": "code",
   "execution_count": null,
   "metadata": {},
   "outputs": [],
   "source": [
    "my_df['Days_on_market'] = pd.Series(days_on_market, index = my_df.index)"
   ]
  },
  {
   "cell_type": "code",
   "execution_count": null,
   "metadata": {},
   "outputs": [],
   "source": [
    "my_df.shape"
   ]
  },
  {
   "cell_type": "code",
   "execution_count": null,
   "metadata": {},
   "outputs": [],
   "source": [
    "# Determine capital gain\n",
    "my_df['Estimated_capital_gain'] = pd.Series(my_df[\"Estimated_price\"]-my_df[\"Price\"])"
   ]
  },
  {
   "cell_type": "code",
   "execution_count": null,
   "metadata": {},
   "outputs": [],
   "source": [
    "my_df.shape"
   ]
  },
  {
   "cell_type": "code",
   "execution_count": null,
   "metadata": {
    "scrolled": true
   },
   "outputs": [],
   "source": [
    "pd.set_option('display.max_columns', None)\n",
    "my_df.head(3)"
   ]
  },
  {
   "cell_type": "code",
   "execution_count": null,
   "metadata": {},
   "outputs": [],
   "source": []
  },
  {
   "cell_type": "code",
   "execution_count": null,
   "metadata": {},
   "outputs": [],
   "source": [
    "num_days = my_df['Days_on_market'].astype('timedelta64[D]')"
   ]
  },
  {
   "cell_type": "code",
   "execution_count": null,
   "metadata": {},
   "outputs": [],
   "source": [
    "sns.scatterplot(x = my_df['Days_on_market'].astype('timedelta64[D]'), y = my_df['Price'])"
   ]
  },
  {
   "cell_type": "code",
   "execution_count": null,
   "metadata": {},
   "outputs": [],
   "source": [
    "sns.scatterplot(x = my_df['Estimated_price'], y = my_df['Price'])"
   ]
  },
  {
   "cell_type": "code",
   "execution_count": null,
   "metadata": {},
   "outputs": [],
   "source": [
    "my_df['Exposure'].value_counts().plot(kind='bar')"
   ]
  },
  {
   "cell_type": "code",
   "execution_count": null,
   "metadata": {},
   "outputs": [],
   "source": [
    "sns.countplot(x = 'Exposure', data = my_df)"
   ]
  },
  {
   "cell_type": "code",
   "execution_count": null,
   "metadata": {},
   "outputs": [],
   "source": [
    "my_df.groupby('Bedroom_num')['Price'].count().sort_values(ascending=False).index"
   ]
  },
  {
   "cell_type": "code",
   "execution_count": null,
   "metadata": {},
   "outputs": [],
   "source": [
    "print(my_df['Bedroom_num'].value_counts().sort_values(ascending=False))\n",
    "label = my_df['Bedroom_num'].value_counts().sort_values(ascending=False).index\n",
    "plt.pie(my_df['Bedroom_num'].value_counts().sort_values(ascending=False), labels = label,autopct='%1.1f%%', startangle=350)\n",
    "plt.axis('equal')\n",
    "plt.show()"
   ]
  },
  {
   "cell_type": "code",
   "execution_count": null,
   "metadata": {},
   "outputs": [],
   "source": [
    "sns.distplot(my_df['Estimated_price'])\n",
    "sns.distplot(my_df['Price'])"
   ]
  },
  {
   "cell_type": "code",
   "execution_count": null,
   "metadata": {},
   "outputs": [],
   "source": [
    "sns.distplot(my_df['Estimated_capital_gain'])\n",
    "print(my_df['Estimated_capital_gain'].describe())"
   ]
  },
  {
   "cell_type": "code",
   "execution_count": null,
   "metadata": {},
   "outputs": [],
   "source": [
    "sns.pairplot(my_df)"
   ]
  }
 ],
 "metadata": {
  "kernelspec": {
   "display_name": "Python 3",
   "language": "python",
   "name": "python3"
  },
  "language_info": {
   "codemirror_mode": {
    "name": "ipython",
    "version": 3
   },
   "file_extension": ".py",
   "mimetype": "text/x-python",
   "name": "python",
   "nbconvert_exporter": "python",
   "pygments_lexer": "ipython3",
   "version": "3.8.3"
  }
 },
 "nbformat": 4,
 "nbformat_minor": 4
}
