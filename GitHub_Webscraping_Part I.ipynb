{
 "cells": [
  {
   "cell_type": "markdown",
   "metadata": {},
   "source": [
    "# Web Scraping: Part I\n",
    "## Understanding Toronto's Real-Estate Market using Selenium\n",
    "- First draft created: 2020-09-13\n",
    "- Last modified: 2020-10-29"
   ]
  },
  {
   "cell_type": "markdown",
   "metadata": {},
   "source": [
    "## 1. Background\n",
    "\n",
    "2020 was no ordinary year for everyone. Due to the COVID-19 crisis, the global economy has greatly suffered resulting in business closures and job losses. However, the Canadian real estate sales have been flourishing primarily because Bank of Canada has announced to keep interest rate near zero until 2023, enabling Canadians to take advantage of low-interest rates for morgages."
   ]
  },
  {
   "cell_type": "markdown",
   "metadata": {},
   "source": [
    "## 2. Objectives\n",
    "Since condominiums remain the most affordable option, I decided to focus on condo listings in Toronto. I used **House Sigma**, an online platform that uses artificial intelligence in estimating Canadian home value, as a source for data extraction. Since the website is highly interactive, **Selenium webdriver** was used for automating web scraping of hudreds of condo listings.\n",
    "\n",
    "**Specific Aims** \n",
    "1. Extract property details of each condo listing to understand its market trends.\n",
    "2. Identify and visualize relationships between variables"
   ]
  },
  {
   "cell_type": "markdown",
   "metadata": {},
   "source": [
    "## 3. Using Selenium to automate web browser interactions\n",
    "### 3.1 Import Libraries"
   ]
  },
  {
   "cell_type": "code",
   "execution_count": 1,
   "metadata": {},
   "outputs": [],
   "source": [
    "from selenium import webdriver\n",
    "from selenium.webdriver.common.by import By\n",
    "from selenium.webdriver.common.keys import Keys\n",
    "from selenium.webdriver.support.ui import WebDriverWait\n",
    "from selenium.webdriver.support import expected_conditions as EC\n",
    "from selenium.webdriver import Chrome\n",
    "from time import sleep\n",
    "import math\n",
    "import pandas as pd\n",
    "import numpy as np\n",
    "import seaborn as sns\n",
    "import matplotlib.pyplot as plt\n",
    "%matplotlib inline"
   ]
  },
  {
   "cell_type": "code",
   "execution_count": null,
   "metadata": {},
   "outputs": [],
   "source": [
    "# # To check current version\n",
    "# print(selenium.__version__)\n",
    "# import selenium\n",
    "\n",
    "# # Alternatively, install the latest version in the terminal\n",
    "# pip install selenium==4.0.0a6"
   ]
  },
  {
   "cell_type": "code",
   "execution_count": 2,
   "metadata": {},
   "outputs": [],
   "source": [
    "driver = Chrome() #webdriver downloaded and saved in the same folder\n",
    "url ='https://housesigma.com'\n",
    "driver.get(url)\n",
    "\n",
    "#Clicking sign-in page\n",
    "element = driver.find_element(By.XPATH, \"//a[contains(@class, 'global-link user_left_part')]\")\n",
    "element.click()\n",
    "sleep(1)\n",
    "\n",
    "# Log-in\n",
    "element_email = driver.find_element(By.XPATH, \"//input[contains(@placeholder, 'Email Address')]\")\n",
    "element_email.send_keys('hykimusa@gmail.com')\n",
    "element_pw = driver.find_element(By.XPATH, '//input[contains(@placeholder, \"Password\")]')\n",
    "element_pw.send_keys('housesigmapw4$')\n",
    "sleep(1)\n",
    "element_sign_in_button = driver.find_element(By.XPATH, '//*[contains(@class, \"el-button signin el-button--primary\")]')\n",
    "element_sign_in_button.click()"
   ]
  },
  {
   "cell_type": "markdown",
   "metadata": {},
   "source": [
    "### 3.2 Setting filters\n",
    "- In the Recommend tab\n",
    "- Setting parameters to restrict my search to condos in Toronto"
   ]
  },
  {
   "cell_type": "code",
   "execution_count": 3,
   "metadata": {},
   "outputs": [],
   "source": [
    "# Clicking the 'Recommend' button\n",
    "element_recommend = driver.find_element(By.XPATH, '//*[text()=\"Recommend\"]')\n",
    "element_recommend.click()\n",
    "sleep(2)\n",
    "\n",
    "# Investment\n",
    "element_investment_all = driver.find_element(By.XPATH,'//*[@id=\"recommend\"]/div[3]/div[2]/div[2]/span[1]')\n",
    "# element_investment_school = driver.find_element_by_xpath('//div[text()=\"School\"]')\n",
    "# element_investment_growth = driver.find_element_by_xpath('//div[text()=\"Growth\"]')\n",
    "# element_investment_rentalyield = driver.find_element_by_xpath('//div[text()=\"Rental Yeild\"]')\n",
    "# element_investment_land = driver.find_element_by_xpath('//div[text()=\"Land\"]')\n",
    "# sleep(1)\n",
    "\n",
    "element_investment_all.click();\n",
    "# element_investment_school.click()\n",
    "# element_investment_growth.click()\n",
    "# element_investment_rentalyield.click()\n",
    "# element_investment_land.click()\n",
    "# sleep(2)\n",
    "\n",
    "# Property Type\n",
    "# element_type_detached = driver.find_element_by_xpath('//div[text()=\"Detached\"]')\n",
    "# element_type_semidetached = driver.find_element_by_xpath('//div[text()=\"Semi-Detached\"]')\n",
    "# element_type_townhouse = driver.find_element_by_xpath('//div[text()=\"Townhouse\"]')\n",
    "element_type_condo = driver.find_element(By.XPATH, '//div[text()=\"Condo Apt\"]')\n",
    "\n",
    "# element_type_detached.click()\n",
    "# element_type_semidetached.click()\n",
    "# element_type_townhouse.click()\n",
    "element_type_condo.click();\n",
    "sleep(1)\n",
    "\n",
    "# City/Location\n",
    "# element_city_all = driver.find_element_by_xpath('//*[@id=\"recommend\"]/div[3]/div[4]/div[2]/span[1]')\n",
    "# element_city_reset = driver.find_element_by_xpath('//*[@id=\"recommend\"]/div[3]/div[4]/div[2]/span[2]')\n",
    "element_city_toronto = driver.find_element(By.XPATH, '/html/body/div/div/div[3]/div[4]/div[1]/div[1]/div[2]/span[1]')\n",
    "# element_city_northyork = driver.find_element_by_xpath('//*[text()=\"North York\"]')\n",
    "# element_city_etobicoke = driver.find_element_by_xpath('//*[text()=\"Etobicoke\"]')\n",
    "# element_city_markham = driver.find_element_by_xpath('//*[text()=\"Markham\"]')\n",
    "# element_city_richmondhill = driver.find_element_by_xpath('//*[text()=\"Richmond Hill\"]')\n",
    "# element_city_scarborough = driver.find_element_by_xpath('//*[text()=\"Scarborough\"]')\n",
    "# element_city_all.click()\n",
    "\n",
    "element_city_toronto.click();\n",
    "# element_city_northyork.click()\n",
    "# element_city_etobicoke.click()\n",
    "# element_city_scarborough.click()\n",
    "# element_city_markham.click()\n",
    "# element_city_richmondhill.click()\n",
    "sleep(1)\n",
    "\n",
    "# Scroll to bottom\n",
    "driver.execute_script(\"window.scrollTo(0, document.body.scrollHeight);\")"
   ]
  },
  {
   "cell_type": "code",
   "execution_count": 4,
   "metadata": {},
   "outputs": [],
   "source": [
    "# Start Recommendation\n",
    "element_start_recommendation = driver.find_element(By.XPATH, '//span[text()= \"Start Recommendation\"]')\n",
    "element_start_recommendation.click()\n",
    "# https://stackoverflow.com/questions/48665001/can-not-click-on-a-element-elementclickinterceptedexception-in-splinter-selen\n",
    "\n",
    "# Open all pages\n",
    "for i in range(8):\n",
    "    driver.execute_script(f\"window.scrollTo({i}, document.body.scrollHeight);\")\n",
    "    sleep(2) "
   ]
  },
  {
   "cell_type": "markdown",
   "metadata": {},
   "source": [
    "### 3.3 Creating Empty Lists\n",
    "- 28 features in total"
   ]
  },
  {
   "cell_type": "code",
   "execution_count": 5,
   "metadata": {},
   "outputs": [],
   "source": [
    "# Create empty lists\n",
    "\n",
    "address=[]\n",
    "city_name=[]\n",
    "house_type=[]\n",
    "bedroom=[] \n",
    "washroom=[] \n",
    "parking=[]\n",
    "listing_price=[]\n",
    "\n",
    "tax=[]\n",
    "property_type=[]\n",
    "basement=[]\n",
    "utility_incl=[]\n",
    "maintenance=[]\n",
    "building_age=[]\n",
    "size=[]\n",
    "listing_num=[]\n",
    "dom=[]\n",
    "listed_on=[] \n",
    "updated_on=[]\n",
    "\n",
    "sigma_estimate=[]\n",
    "estimate_date=[]\n",
    "rental_estimate=[]\n",
    "rental_yield=[]\n",
    "rental_dom=[]\n",
    "\n",
    "intersection=[]\n",
    "exposure=[]\n",
    "amenities=[]\n",
    "municipality=[]\n",
    "description=[]"
   ]
  },
  {
   "cell_type": "markdown",
   "metadata": {},
   "source": [
    "## 4. Scraping property details\n",
    "- HouseSigma categorizes listings into neighbourhoods/communities\n",
    "- You have to click each 'Community' to see the listings"
   ]
  },
  {
   "cell_type": "code",
   "execution_count": 21,
   "metadata": {},
   "outputs": [
    {
     "ename": "NoSuchWindowException",
     "evalue": "Message: no such window: window was already closed\n  (Session info: chrome=86.0.4240.111)\nStacktrace:\nBacktrace:\n\tOrdinal0 [0x006AD383+3134339]\n\tOrdinal0 [0x0059A171+2007409]\n\tOrdinal0 [0x0043AEE8+569064]\n\tOrdinal0 [0x00432054+532564]\n\tOrdinal0 [0x00432C15+535573]\n\tOrdinal0 [0x0042DFC5+516037]\n\tOrdinal0 [0x0043BF70+573296]\n\tOrdinal0 [0x003E83A6+230310]\n\tOrdinal0 [0x003DEB0B+191243]\n\tOrdinal0 [0x003C2E77+77431]\n\tOrdinal0 [0x003C3E3E+81470]\n\tOrdinal0 [0x003C3DC9+81353]\n\tOrdinal0 [0x005B0CD9+2100441]\n\tGetHandleVerifier [0x0081B75A+1396954]\n\tGetHandleVerifier [0x0081B3D9+1396057]\n\tGetHandleVerifier [0x00827126+1444518]\n\tGetHandleVerifier [0x0081BCE8+1398376]\n\tOrdinal0 [0x005A7F51+2064209]\n\tOrdinal0 [0x005B22EB+2106091]\n\tOrdinal0 [0x005B2411+2106385]\n\tOrdinal0 [0x005C49C4+2181572]\n\tBaseThreadInitThunk [0x75226A14+36]\n\tRtlInitializeExceptionChain [0x7742AB4F+143]\n\tRtlInitializeExceptionChain [0x7742AB1A+90]\n",
     "output_type": "error",
     "traceback": [
      "\u001b[1;31m---------------------------------------------------------------------------\u001b[0m",
      "\u001b[1;31mNoSuchWindowException\u001b[0m                     Traceback (most recent call last)",
      "\u001b[1;32m<ipython-input-21-1479c6b5347a>\u001b[0m in \u001b[0;36m<module>\u001b[1;34m\u001b[0m\n\u001b[0;32m      1\u001b[0m \u001b[1;31m# Finding total number of communities\u001b[0m\u001b[1;33m\u001b[0m\u001b[1;33m\u001b[0m\u001b[1;33m\u001b[0m\u001b[0m\n\u001b[1;32m----> 2\u001b[1;33m \u001b[0mcommunity_list\u001b[0m \u001b[1;33m=\u001b[0m \u001b[0mdriver\u001b[0m\u001b[1;33m.\u001b[0m\u001b[0mfind_elements\u001b[0m\u001b[1;33m(\u001b[0m\u001b[0mBy\u001b[0m\u001b[1;33m.\u001b[0m\u001b[0mXPATH\u001b[0m\u001b[1;33m,\u001b[0m \u001b[1;34m'//*[@id=\"recommend\"]/div[3]/div[7]/div'\u001b[0m\u001b[1;33m)\u001b[0m\u001b[1;33m\u001b[0m\u001b[1;33m\u001b[0m\u001b[0m\n\u001b[0m\u001b[0;32m      3\u001b[0m \u001b[0mprint\u001b[0m\u001b[1;33m(\u001b[0m\u001b[1;34m\"Total # of Communities: \"\u001b[0m\u001b[1;33m,\u001b[0m \u001b[0mlen\u001b[0m\u001b[1;33m(\u001b[0m\u001b[0mcommunity_list\u001b[0m\u001b[1;33m)\u001b[0m\u001b[1;33m)\u001b[0m\u001b[1;33m\u001b[0m\u001b[1;33m\u001b[0m\u001b[0m\n",
      "\u001b[1;32m~\\anaconda3\\lib\\site-packages\\selenium\\webdriver\\remote\\webdriver.py\u001b[0m in \u001b[0;36mfind_elements\u001b[1;34m(self, by, value)\u001b[0m\n\u001b[0;32m   1127\u001b[0m         \u001b[1;31m# Return empty list if driver returns null\u001b[0m\u001b[1;33m\u001b[0m\u001b[1;33m\u001b[0m\u001b[1;33m\u001b[0m\u001b[0m\n\u001b[0;32m   1128\u001b[0m         \u001b[1;31m# See https://github.com/SeleniumHQ/selenium/issues/4555\u001b[0m\u001b[1;33m\u001b[0m\u001b[1;33m\u001b[0m\u001b[1;33m\u001b[0m\u001b[0m\n\u001b[1;32m-> 1129\u001b[1;33m         return self.execute(Command.FIND_ELEMENTS, {\n\u001b[0m\u001b[0;32m   1130\u001b[0m             \u001b[1;34m'using'\u001b[0m\u001b[1;33m:\u001b[0m \u001b[0mby\u001b[0m\u001b[1;33m,\u001b[0m\u001b[1;33m\u001b[0m\u001b[1;33m\u001b[0m\u001b[0m\n\u001b[0;32m   1131\u001b[0m             'value': value})['value'] or []\n",
      "\u001b[1;32m~\\anaconda3\\lib\\site-packages\\selenium\\webdriver\\remote\\webdriver.py\u001b[0m in \u001b[0;36mexecute\u001b[1;34m(self, driver_command, params)\u001b[0m\n\u001b[0;32m    345\u001b[0m         \u001b[0mresponse\u001b[0m \u001b[1;33m=\u001b[0m \u001b[0mself\u001b[0m\u001b[1;33m.\u001b[0m\u001b[0mcommand_executor\u001b[0m\u001b[1;33m.\u001b[0m\u001b[0mexecute\u001b[0m\u001b[1;33m(\u001b[0m\u001b[0mdriver_command\u001b[0m\u001b[1;33m,\u001b[0m \u001b[0mparams\u001b[0m\u001b[1;33m)\u001b[0m\u001b[1;33m\u001b[0m\u001b[1;33m\u001b[0m\u001b[0m\n\u001b[0;32m    346\u001b[0m         \u001b[1;32mif\u001b[0m \u001b[0mresponse\u001b[0m\u001b[1;33m:\u001b[0m\u001b[1;33m\u001b[0m\u001b[1;33m\u001b[0m\u001b[0m\n\u001b[1;32m--> 347\u001b[1;33m             \u001b[0mself\u001b[0m\u001b[1;33m.\u001b[0m\u001b[0merror_handler\u001b[0m\u001b[1;33m.\u001b[0m\u001b[0mcheck_response\u001b[0m\u001b[1;33m(\u001b[0m\u001b[0mresponse\u001b[0m\u001b[1;33m)\u001b[0m\u001b[1;33m\u001b[0m\u001b[1;33m\u001b[0m\u001b[0m\n\u001b[0m\u001b[0;32m    348\u001b[0m             response['value'] = self._unwrap_value(\n\u001b[0;32m    349\u001b[0m                 response.get('value', None))\n",
      "\u001b[1;32m~\\anaconda3\\lib\\site-packages\\selenium\\webdriver\\remote\\errorhandler.py\u001b[0m in \u001b[0;36mcheck_response\u001b[1;34m(self, response)\u001b[0m\n\u001b[0;32m    238\u001b[0m                 \u001b[0malert_text\u001b[0m \u001b[1;33m=\u001b[0m \u001b[0mvalue\u001b[0m\u001b[1;33m[\u001b[0m\u001b[1;34m'alert'\u001b[0m\u001b[1;33m]\u001b[0m\u001b[1;33m.\u001b[0m\u001b[0mget\u001b[0m\u001b[1;33m(\u001b[0m\u001b[1;34m'text'\u001b[0m\u001b[1;33m)\u001b[0m\u001b[1;33m\u001b[0m\u001b[1;33m\u001b[0m\u001b[0m\n\u001b[0;32m    239\u001b[0m             \u001b[1;32mraise\u001b[0m \u001b[0mexception_class\u001b[0m\u001b[1;33m(\u001b[0m\u001b[0mmessage\u001b[0m\u001b[1;33m,\u001b[0m \u001b[0mscreen\u001b[0m\u001b[1;33m,\u001b[0m \u001b[0mstacktrace\u001b[0m\u001b[1;33m,\u001b[0m \u001b[0malert_text\u001b[0m\u001b[1;33m)\u001b[0m\u001b[1;33m\u001b[0m\u001b[1;33m\u001b[0m\u001b[0m\n\u001b[1;32m--> 240\u001b[1;33m         \u001b[1;32mraise\u001b[0m \u001b[0mexception_class\u001b[0m\u001b[1;33m(\u001b[0m\u001b[0mmessage\u001b[0m\u001b[1;33m,\u001b[0m \u001b[0mscreen\u001b[0m\u001b[1;33m,\u001b[0m \u001b[0mstacktrace\u001b[0m\u001b[1;33m)\u001b[0m\u001b[1;33m\u001b[0m\u001b[1;33m\u001b[0m\u001b[0m\n\u001b[0m\u001b[0;32m    241\u001b[0m \u001b[1;33m\u001b[0m\u001b[0m\n\u001b[0;32m    242\u001b[0m     \u001b[1;32mdef\u001b[0m \u001b[0m_value_or_default\u001b[0m\u001b[1;33m(\u001b[0m\u001b[0mself\u001b[0m\u001b[1;33m,\u001b[0m \u001b[0mobj\u001b[0m\u001b[1;33m,\u001b[0m \u001b[0mkey\u001b[0m\u001b[1;33m,\u001b[0m \u001b[0mdefault\u001b[0m\u001b[1;33m)\u001b[0m\u001b[1;33m:\u001b[0m\u001b[1;33m\u001b[0m\u001b[1;33m\u001b[0m\u001b[0m\n",
      "\u001b[1;31mNoSuchWindowException\u001b[0m: Message: no such window: window was already closed\n  (Session info: chrome=86.0.4240.111)\nStacktrace:\nBacktrace:\n\tOrdinal0 [0x006AD383+3134339]\n\tOrdinal0 [0x0059A171+2007409]\n\tOrdinal0 [0x0043AEE8+569064]\n\tOrdinal0 [0x00432054+532564]\n\tOrdinal0 [0x00432C15+535573]\n\tOrdinal0 [0x0042DFC5+516037]\n\tOrdinal0 [0x0043BF70+573296]\n\tOrdinal0 [0x003E83A6+230310]\n\tOrdinal0 [0x003DEB0B+191243]\n\tOrdinal0 [0x003C2E77+77431]\n\tOrdinal0 [0x003C3E3E+81470]\n\tOrdinal0 [0x003C3DC9+81353]\n\tOrdinal0 [0x005B0CD9+2100441]\n\tGetHandleVerifier [0x0081B75A+1396954]\n\tGetHandleVerifier [0x0081B3D9+1396057]\n\tGetHandleVerifier [0x00827126+1444518]\n\tGetHandleVerifier [0x0081BCE8+1398376]\n\tOrdinal0 [0x005A7F51+2064209]\n\tOrdinal0 [0x005B22EB+2106091]\n\tOrdinal0 [0x005B2411+2106385]\n\tOrdinal0 [0x005C49C4+2181572]\n\tBaseThreadInitThunk [0x75226A14+36]\n\tRtlInitializeExceptionChain [0x7742AB4F+143]\n\tRtlInitializeExceptionChain [0x7742AB1A+90]\n"
     ]
    }
   ],
   "source": [
    "# Finding total number of communities\n",
    "community_list = driver.find_elements(By.XPATH, '//*[@id=\"recommend\"]/div[3]/div[7]/div')\n",
    "print(\"Total # of Communities: \", len(community_list))"
   ]
  },
  {
   "cell_type": "markdown",
   "metadata": {},
   "source": [
    "- The following loop will continue until all of the listings are scraped from all of the communities (unless you interrupt the kernel, of course)"
   ]
  },
  {
   "cell_type": "code",
   "execution_count": 20,
   "metadata": {
    "scrolled": false
   },
   "outputs": [
    {
     "ename": "NoSuchWindowException",
     "evalue": "Message: no such window: window was already closed\n  (Session info: chrome=86.0.4240.111)\nStacktrace:\nBacktrace:\n\tOrdinal0 [0x006AD383+3134339]\n\tOrdinal0 [0x0059A171+2007409]\n\tOrdinal0 [0x0043AEE8+569064]\n\tOrdinal0 [0x00432054+532564]\n\tOrdinal0 [0x00432C15+535573]\n\tOrdinal0 [0x0042DFC5+516037]\n\tOrdinal0 [0x0043BF70+573296]\n\tOrdinal0 [0x003E83A6+230310]\n\tOrdinal0 [0x003DEB0B+191243]\n\tOrdinal0 [0x003C2E77+77431]\n\tOrdinal0 [0x003C3E3E+81470]\n\tOrdinal0 [0x003C3DC9+81353]\n\tOrdinal0 [0x005B0CD9+2100441]\n\tGetHandleVerifier [0x0081B75A+1396954]\n\tGetHandleVerifier [0x0081B3D9+1396057]\n\tGetHandleVerifier [0x00827126+1444518]\n\tGetHandleVerifier [0x0081BCE8+1398376]\n\tOrdinal0 [0x005A7F51+2064209]\n\tOrdinal0 [0x005B22EB+2106091]\n\tOrdinal0 [0x005B2411+2106385]\n\tOrdinal0 [0x005C49C4+2181572]\n\tBaseThreadInitThunk [0x75226A14+36]\n\tRtlInitializeExceptionChain [0x7742AB4F+143]\n\tRtlInitializeExceptionChain [0x7742AB1A+90]\n",
     "output_type": "error",
     "traceback": [
      "\u001b[1;31m---------------------------------------------------------------------------\u001b[0m",
      "\u001b[1;31mNoSuchWindowException\u001b[0m                     Traceback (most recent call last)",
      "\u001b[1;32m<ipython-input-20-39374762fd52>\u001b[0m in \u001b[0;36m<module>\u001b[1;34m\u001b[0m\n\u001b[0;32m      2\u001b[0m     \u001b[1;32mtry\u001b[0m\u001b[1;33m:\u001b[0m\u001b[1;33m\u001b[0m\u001b[1;33m\u001b[0m\u001b[0m\n\u001b[1;32m----> 3\u001b[1;33m         \u001b[0melement_community\u001b[0m \u001b[1;33m=\u001b[0m \u001b[0mdriver\u001b[0m\u001b[1;33m.\u001b[0m\u001b[0mfind_element\u001b[0m\u001b[1;33m(\u001b[0m\u001b[0mBy\u001b[0m\u001b[1;33m.\u001b[0m\u001b[0mXPATH\u001b[0m\u001b[1;33m,\u001b[0m \u001b[1;34mf'//*[@id=\"recommend\"]/div[3]/div[7]/div[{i}]/div[2]/div[2]/div[4]/span/button/span'\u001b[0m\u001b[1;33m)\u001b[0m\u001b[1;33m\u001b[0m\u001b[1;33m\u001b[0m\u001b[0m\n\u001b[0m\u001b[0;32m      4\u001b[0m     \u001b[1;32mexcept\u001b[0m\u001b[1;33m:\u001b[0m\u001b[1;33m\u001b[0m\u001b[1;33m\u001b[0m\u001b[0m\n",
      "\u001b[1;32m~\\anaconda3\\lib\\site-packages\\selenium\\webdriver\\remote\\webdriver.py\u001b[0m in \u001b[0;36mfind_element\u001b[1;34m(self, by, value)\u001b[0m\n\u001b[0;32m   1091\u001b[0m                 \u001b[0mvalue\u001b[0m \u001b[1;33m=\u001b[0m \u001b[1;34m'[name=\"%s\"]'\u001b[0m \u001b[1;33m%\u001b[0m \u001b[0mvalue\u001b[0m\u001b[1;33m\u001b[0m\u001b[1;33m\u001b[0m\u001b[0m\n\u001b[1;32m-> 1092\u001b[1;33m         return self.execute(Command.FIND_ELEMENT, {\n\u001b[0m\u001b[0;32m   1093\u001b[0m             \u001b[1;34m'using'\u001b[0m\u001b[1;33m:\u001b[0m \u001b[0mby\u001b[0m\u001b[1;33m,\u001b[0m\u001b[1;33m\u001b[0m\u001b[1;33m\u001b[0m\u001b[0m\n",
      "\u001b[1;32m~\\anaconda3\\lib\\site-packages\\selenium\\webdriver\\remote\\webdriver.py\u001b[0m in \u001b[0;36mexecute\u001b[1;34m(self, driver_command, params)\u001b[0m\n\u001b[0;32m    346\u001b[0m         \u001b[1;32mif\u001b[0m \u001b[0mresponse\u001b[0m\u001b[1;33m:\u001b[0m\u001b[1;33m\u001b[0m\u001b[1;33m\u001b[0m\u001b[0m\n\u001b[1;32m--> 347\u001b[1;33m             \u001b[0mself\u001b[0m\u001b[1;33m.\u001b[0m\u001b[0merror_handler\u001b[0m\u001b[1;33m.\u001b[0m\u001b[0mcheck_response\u001b[0m\u001b[1;33m(\u001b[0m\u001b[0mresponse\u001b[0m\u001b[1;33m)\u001b[0m\u001b[1;33m\u001b[0m\u001b[1;33m\u001b[0m\u001b[0m\n\u001b[0m\u001b[0;32m    348\u001b[0m             response['value'] = self._unwrap_value(\n",
      "\u001b[1;32m~\\anaconda3\\lib\\site-packages\\selenium\\webdriver\\remote\\errorhandler.py\u001b[0m in \u001b[0;36mcheck_response\u001b[1;34m(self, response)\u001b[0m\n\u001b[0;32m    239\u001b[0m             \u001b[1;32mraise\u001b[0m \u001b[0mexception_class\u001b[0m\u001b[1;33m(\u001b[0m\u001b[0mmessage\u001b[0m\u001b[1;33m,\u001b[0m \u001b[0mscreen\u001b[0m\u001b[1;33m,\u001b[0m \u001b[0mstacktrace\u001b[0m\u001b[1;33m,\u001b[0m \u001b[0malert_text\u001b[0m\u001b[1;33m)\u001b[0m\u001b[1;33m\u001b[0m\u001b[1;33m\u001b[0m\u001b[0m\n\u001b[1;32m--> 240\u001b[1;33m         \u001b[1;32mraise\u001b[0m \u001b[0mexception_class\u001b[0m\u001b[1;33m(\u001b[0m\u001b[0mmessage\u001b[0m\u001b[1;33m,\u001b[0m \u001b[0mscreen\u001b[0m\u001b[1;33m,\u001b[0m \u001b[0mstacktrace\u001b[0m\u001b[1;33m)\u001b[0m\u001b[1;33m\u001b[0m\u001b[1;33m\u001b[0m\u001b[0m\n\u001b[0m\u001b[0;32m    241\u001b[0m \u001b[1;33m\u001b[0m\u001b[0m\n",
      "\u001b[1;31mNoSuchWindowException\u001b[0m: Message: no such window: window was already closed\n  (Session info: chrome=86.0.4240.111)\nStacktrace:\nBacktrace:\n\tOrdinal0 [0x006AD383+3134339]\n\tOrdinal0 [0x0059A171+2007409]\n\tOrdinal0 [0x0043AEE8+569064]\n\tOrdinal0 [0x00432054+532564]\n\tOrdinal0 [0x00432C15+535573]\n\tOrdinal0 [0x0042DFC5+516037]\n\tOrdinal0 [0x0043BF70+573296]\n\tOrdinal0 [0x003E83A6+230310]\n\tOrdinal0 [0x003DEB0B+191243]\n\tOrdinal0 [0x003C2E77+77431]\n\tOrdinal0 [0x003C3E3E+81470]\n\tOrdinal0 [0x003C3DC9+81353]\n\tOrdinal0 [0x005B0CD9+2100441]\n\tGetHandleVerifier [0x0081B75A+1396954]\n\tGetHandleVerifier [0x0081B3D9+1396057]\n\tGetHandleVerifier [0x00827126+1444518]\n\tGetHandleVerifier [0x0081BCE8+1398376]\n\tOrdinal0 [0x005A7F51+2064209]\n\tOrdinal0 [0x005B22EB+2106091]\n\tOrdinal0 [0x005B2411+2106385]\n\tOrdinal0 [0x005C49C4+2181572]\n\tBaseThreadInitThunk [0x75226A14+36]\n\tRtlInitializeExceptionChain [0x7742AB4F+143]\n\tRtlInitializeExceptionChain [0x7742AB1A+90]\n",
      "\nDuring handling of the above exception, another exception occurred:\n",
      "\u001b[1;31mNoSuchWindowException\u001b[0m                     Traceback (most recent call last)",
      "\u001b[1;32m<ipython-input-20-39374762fd52>\u001b[0m in \u001b[0;36m<module>\u001b[1;34m\u001b[0m\n\u001b[0;32m      3\u001b[0m         \u001b[0melement_community\u001b[0m \u001b[1;33m=\u001b[0m \u001b[0mdriver\u001b[0m\u001b[1;33m.\u001b[0m\u001b[0mfind_element\u001b[0m\u001b[1;33m(\u001b[0m\u001b[0mBy\u001b[0m\u001b[1;33m.\u001b[0m\u001b[0mXPATH\u001b[0m\u001b[1;33m,\u001b[0m \u001b[1;34mf'//*[@id=\"recommend\"]/div[3]/div[7]/div[{i}]/div[2]/div[2]/div[4]/span/button/span'\u001b[0m\u001b[1;33m)\u001b[0m\u001b[1;33m\u001b[0m\u001b[1;33m\u001b[0m\u001b[0m\n\u001b[0;32m      4\u001b[0m     \u001b[1;32mexcept\u001b[0m\u001b[1;33m:\u001b[0m\u001b[1;33m\u001b[0m\u001b[1;33m\u001b[0m\u001b[0m\n\u001b[1;32m----> 5\u001b[1;33m         \u001b[0melement_community\u001b[0m \u001b[1;33m=\u001b[0m \u001b[0mdriver\u001b[0m\u001b[1;33m.\u001b[0m\u001b[0mfind_element\u001b[0m\u001b[1;33m(\u001b[0m\u001b[0mBy\u001b[0m\u001b[1;33m.\u001b[0m\u001b[0mXPATH\u001b[0m\u001b[1;33m,\u001b[0m \u001b[1;34mf'//*[@id=\"recommend\"]/div[3]/div[7]/div[{i}]/div[2]/div[2]/div[3]/span/button/span'\u001b[0m\u001b[1;33m)\u001b[0m\u001b[1;33m\u001b[0m\u001b[1;33m\u001b[0m\u001b[0m\n\u001b[0m\u001b[0;32m      6\u001b[0m \u001b[1;33m\u001b[0m\u001b[0m\n\u001b[0;32m      7\u001b[0m     \u001b[1;31m#########################\u001b[0m\u001b[1;33m\u001b[0m\u001b[1;33m\u001b[0m\u001b[1;33m\u001b[0m\u001b[0m\n",
      "\u001b[1;32m~\\anaconda3\\lib\\site-packages\\selenium\\webdriver\\remote\\webdriver.py\u001b[0m in \u001b[0;36mfind_element\u001b[1;34m(self, by, value)\u001b[0m\n\u001b[0;32m   1090\u001b[0m                 \u001b[0mby\u001b[0m \u001b[1;33m=\u001b[0m \u001b[0mBy\u001b[0m\u001b[1;33m.\u001b[0m\u001b[0mCSS_SELECTOR\u001b[0m\u001b[1;33m\u001b[0m\u001b[1;33m\u001b[0m\u001b[0m\n\u001b[0;32m   1091\u001b[0m                 \u001b[0mvalue\u001b[0m \u001b[1;33m=\u001b[0m \u001b[1;34m'[name=\"%s\"]'\u001b[0m \u001b[1;33m%\u001b[0m \u001b[0mvalue\u001b[0m\u001b[1;33m\u001b[0m\u001b[1;33m\u001b[0m\u001b[0m\n\u001b[1;32m-> 1092\u001b[1;33m         return self.execute(Command.FIND_ELEMENT, {\n\u001b[0m\u001b[0;32m   1093\u001b[0m             \u001b[1;34m'using'\u001b[0m\u001b[1;33m:\u001b[0m \u001b[0mby\u001b[0m\u001b[1;33m,\u001b[0m\u001b[1;33m\u001b[0m\u001b[1;33m\u001b[0m\u001b[0m\n\u001b[0;32m   1094\u001b[0m             'value': value})['value']\n",
      "\u001b[1;32m~\\anaconda3\\lib\\site-packages\\selenium\\webdriver\\remote\\webdriver.py\u001b[0m in \u001b[0;36mexecute\u001b[1;34m(self, driver_command, params)\u001b[0m\n\u001b[0;32m    345\u001b[0m         \u001b[0mresponse\u001b[0m \u001b[1;33m=\u001b[0m \u001b[0mself\u001b[0m\u001b[1;33m.\u001b[0m\u001b[0mcommand_executor\u001b[0m\u001b[1;33m.\u001b[0m\u001b[0mexecute\u001b[0m\u001b[1;33m(\u001b[0m\u001b[0mdriver_command\u001b[0m\u001b[1;33m,\u001b[0m \u001b[0mparams\u001b[0m\u001b[1;33m)\u001b[0m\u001b[1;33m\u001b[0m\u001b[1;33m\u001b[0m\u001b[0m\n\u001b[0;32m    346\u001b[0m         \u001b[1;32mif\u001b[0m \u001b[0mresponse\u001b[0m\u001b[1;33m:\u001b[0m\u001b[1;33m\u001b[0m\u001b[1;33m\u001b[0m\u001b[0m\n\u001b[1;32m--> 347\u001b[1;33m             \u001b[0mself\u001b[0m\u001b[1;33m.\u001b[0m\u001b[0merror_handler\u001b[0m\u001b[1;33m.\u001b[0m\u001b[0mcheck_response\u001b[0m\u001b[1;33m(\u001b[0m\u001b[0mresponse\u001b[0m\u001b[1;33m)\u001b[0m\u001b[1;33m\u001b[0m\u001b[1;33m\u001b[0m\u001b[0m\n\u001b[0m\u001b[0;32m    348\u001b[0m             response['value'] = self._unwrap_value(\n\u001b[0;32m    349\u001b[0m                 response.get('value', None))\n",
      "\u001b[1;32m~\\anaconda3\\lib\\site-packages\\selenium\\webdriver\\remote\\errorhandler.py\u001b[0m in \u001b[0;36mcheck_response\u001b[1;34m(self, response)\u001b[0m\n\u001b[0;32m    238\u001b[0m                 \u001b[0malert_text\u001b[0m \u001b[1;33m=\u001b[0m \u001b[0mvalue\u001b[0m\u001b[1;33m[\u001b[0m\u001b[1;34m'alert'\u001b[0m\u001b[1;33m]\u001b[0m\u001b[1;33m.\u001b[0m\u001b[0mget\u001b[0m\u001b[1;33m(\u001b[0m\u001b[1;34m'text'\u001b[0m\u001b[1;33m)\u001b[0m\u001b[1;33m\u001b[0m\u001b[1;33m\u001b[0m\u001b[0m\n\u001b[0;32m    239\u001b[0m             \u001b[1;32mraise\u001b[0m \u001b[0mexception_class\u001b[0m\u001b[1;33m(\u001b[0m\u001b[0mmessage\u001b[0m\u001b[1;33m,\u001b[0m \u001b[0mscreen\u001b[0m\u001b[1;33m,\u001b[0m \u001b[0mstacktrace\u001b[0m\u001b[1;33m,\u001b[0m \u001b[0malert_text\u001b[0m\u001b[1;33m)\u001b[0m\u001b[1;33m\u001b[0m\u001b[1;33m\u001b[0m\u001b[0m\n\u001b[1;32m--> 240\u001b[1;33m         \u001b[1;32mraise\u001b[0m \u001b[0mexception_class\u001b[0m\u001b[1;33m(\u001b[0m\u001b[0mmessage\u001b[0m\u001b[1;33m,\u001b[0m \u001b[0mscreen\u001b[0m\u001b[1;33m,\u001b[0m \u001b[0mstacktrace\u001b[0m\u001b[1;33m)\u001b[0m\u001b[1;33m\u001b[0m\u001b[1;33m\u001b[0m\u001b[0m\n\u001b[0m\u001b[0;32m    241\u001b[0m \u001b[1;33m\u001b[0m\u001b[0m\n\u001b[0;32m    242\u001b[0m     \u001b[1;32mdef\u001b[0m \u001b[0m_value_or_default\u001b[0m\u001b[1;33m(\u001b[0m\u001b[0mself\u001b[0m\u001b[1;33m,\u001b[0m \u001b[0mobj\u001b[0m\u001b[1;33m,\u001b[0m \u001b[0mkey\u001b[0m\u001b[1;33m,\u001b[0m \u001b[0mdefault\u001b[0m\u001b[1;33m)\u001b[0m\u001b[1;33m:\u001b[0m\u001b[1;33m\u001b[0m\u001b[1;33m\u001b[0m\u001b[0m\n",
      "\u001b[1;31mNoSuchWindowException\u001b[0m: Message: no such window: window was already closed\n  (Session info: chrome=86.0.4240.111)\nStacktrace:\nBacktrace:\n\tOrdinal0 [0x006AD383+3134339]\n\tOrdinal0 [0x0059A171+2007409]\n\tOrdinal0 [0x0043AEE8+569064]\n\tOrdinal0 [0x00432054+532564]\n\tOrdinal0 [0x00432C15+535573]\n\tOrdinal0 [0x0042DFC5+516037]\n\tOrdinal0 [0x0043BF70+573296]\n\tOrdinal0 [0x003E83A6+230310]\n\tOrdinal0 [0x003DEB0B+191243]\n\tOrdinal0 [0x003C2E77+77431]\n\tOrdinal0 [0x003C3E3E+81470]\n\tOrdinal0 [0x003C3DC9+81353]\n\tOrdinal0 [0x005B0CD9+2100441]\n\tGetHandleVerifier [0x0081B75A+1396954]\n\tGetHandleVerifier [0x0081B3D9+1396057]\n\tGetHandleVerifier [0x00827126+1444518]\n\tGetHandleVerifier [0x0081BCE8+1398376]\n\tOrdinal0 [0x005A7F51+2064209]\n\tOrdinal0 [0x005B22EB+2106091]\n\tOrdinal0 [0x005B2411+2106385]\n\tOrdinal0 [0x005C49C4+2181572]\n\tBaseThreadInitThunk [0x75226A14+36]\n\tRtlInitializeExceptionChain [0x7742AB4F+143]\n\tRtlInitializeExceptionChain [0x7742AB1A+90]\n"
     ]
    }
   ],
   "source": [
    "for i in range(44, len(community_list)):\n",
    "    try:\n",
    "        element_community = driver.find_element(By.XPATH, f'//*[@id=\"recommend\"]/div[3]/div[7]/div[{i}]/div[2]/div[2]/div[4]/span/button/span')\n",
    "    except:\n",
    "        element_community = driver.find_element(By.XPATH, f'//*[@id=\"recommend\"]/div[3]/div[7]/div[{i}]/div[2]/div[2]/div[3]/span/button/span')\n",
    "        \n",
    "    #########################\n",
    "    # Identify total number of listings in this community\n",
    "    tot_num = element_community.text\n",
    "    tot_num = int(tot_num.split(' ')[-1].replace('(',\"\").replace(')',\"\"))\n",
    "    \n",
    "    # Determine how many times you need to scroll down in the pop-up window\n",
    "    repeat_num = math.ceil(tot_num/15) # divide by 15 because there are 15 listings per view\n",
    "    print('Total # of listing:', tot_num)\n",
    "    print(\"Scrolling \", repeat_num, \" times\")\n",
    "    sleep(3)\n",
    "    \n",
    "    # Clicks a community button to open up the pop-up page\n",
    "    driver.execute_script(\"arguments[0].click();\", element_community)\n",
    "    print(f'Community-{i}')\n",
    "    \n",
    "    # Identify the pop-up window\n",
    "    community_popup_window = driver.find_element(By.XPATH, '//div[@class=\"el-dialog el-dialog--center\"]//a')\n",
    "    \n",
    "    # Scroll down until you finish repeat_num\n",
    "    i = 1\n",
    "    while i < repeat_num+1:\n",
    "#         print(i)\n",
    "        community_popup_window.send_keys(Keys.END)\n",
    "        sleep(1)\n",
    "        if i == repeat_num:\n",
    "#             print(\"End of list\")\n",
    "            break\n",
    "        i += 1\n",
    "    sleep(3)\n",
    "    #########################\n",
    "    # Identifying each listing\n",
    "    for i in range(1, tot_num+1):\n",
    "        post = driver.find_element(By.XPATH, f'//*[@id=\"recommend\"]/div[2]/div/div[2]/div[3]/div[1]/div[{i}]/div/div[1]/a')\n",
    "        post.click() #clicks on the posted listing\n",
    "        # new tab opens\n",
    "        driver.switch_to.window(driver.window_handles[-1]) # moves controller to the last opened tab handle\n",
    "        # now able to control the newly opened tab\n",
    "        sleep(5)\n",
    "\n",
    "        ###############################\n",
    "        # Scraping listing details\n",
    "        ###############################\n",
    "        # MAIN\n",
    "        ele_address = driver.find_element(By.CLASS_NAME, \"address\").text\n",
    "        ele_city_name = driver.find_element(By.CLASS_NAME, \"city_name\").text\n",
    "        ele_house_type = driver.find_element(By.CLASS_NAME, \"house_type\").text\n",
    "        ele_bedroom = driver.find_element(By.XPATH, '//*[@id=\"room_count_to_estimate\"]/div[1]/div/div/div[1]/span').text\n",
    "        ele_washroom = driver.find_element(By.XPATH, '//*[@id=\"room_count_to_estimate\"]/div[1]/div/div/div[2]/span').text\n",
    "        ele_parking = driver.find_element(By.XPATH, '//*[@id=\"room_count_to_estimate\"]/div[1]/div/div/div[3]/span').text\n",
    "        try:\n",
    "            ele_listing_price = driver.find_element(By.XPATH, '//div[contains(@class, \"price_listing\")]/span').text\n",
    "        except:\n",
    "            ele_listing_price = None\n",
    "        ###############################\n",
    "        # KEY FACTS\n",
    "        key_facts = driver.find_element(By.XPATH, '//div[contains(@class, \"two_column_data el-row\")]').text.split('\\n')\n",
    "        \n",
    "        try:\n",
    "            ele_tax = key_facts[key_facts.index('Tax:')+1]\n",
    "        except:\n",
    "            ele_tax = None\n",
    "        ele_property_type = key_facts[key_facts.index('Propery Type:')+1]\n",
    "        try:\n",
    "            ele_maintenance = key_facts[key_facts.index('Maintenance:')+1]      \n",
    "        except:\n",
    "            ele_maintenance = None\n",
    "        try:\n",
    "            ele_building_age = key_facts[key_facts.index('Building Age:')+1]\n",
    "        except: \n",
    "            ele_building_age = None\n",
    "        ele_size = key_facts[key_facts.index('Size:')+1]\n",
    "        ele_listing_num = key_facts[key_facts.index('Listing #:')+1]\n",
    "        ele_dom = key_facts[key_facts.index('Days on Market:')+1]\n",
    "        ele_listed_on = key_facts[key_facts.index('Listed on:')+1]\n",
    "        ele_updated_on = key_facts[key_facts.index('Updated On:')+1]\n",
    "        try:\n",
    "            ele_basement = key_facts[key_facts.index('Basement:')+1]\n",
    "        except:\n",
    "            ele_basement = None\n",
    "        try:\n",
    "            ele_utility_incl = key_facts[key_facts.index('Included Utility:')+1]\n",
    "        except:\n",
    "            ele_utility_incl = None\n",
    "        \n",
    "        ###############################\n",
    "        # HOME VALUE\n",
    "        home_value = driver.find_element(By.XPATH, '//div[contains(@class, \"home_value\")]').text.split('\\n')\n",
    "        \n",
    "        ele_sigma_estimate = home_value[home_value.index('SigmaEstimate')+1]\n",
    "        ele_estimate_date = home_value[home_value.index('Estimated Date')+1]\n",
    "        ele_rental_estimate = home_value[home_value.index('Rental Estimate')+1]\n",
    "        ele_rental_yield = home_value[home_value.index('Rental Yield')+1]\n",
    "        ele_rental_dom = home_value[home_value.index('Rental Dom')+1]\n",
    "        \n",
    "        ###############################\n",
    "        # PROPERTY DETAILS    \n",
    "        prop_details = driver.find_element(By.XPATH, '//div[contains(@id, \"property_details\")]').text.split('\\n')\n",
    "\n",
    "        ele_intersection = prop_details[prop_details.index('Intersection:')+1]\n",
    "        ele_exposure = prop_details[prop_details.index('Exposure:')+1]\n",
    "        ele_municipality = prop_details[prop_details.index('Municipality:')+1]\n",
    "        ele_description = prop_details[prop_details.index('Description')+1]\n",
    "        try:\n",
    "            ele_amenities = prop_details[prop_details.index('Amenities:')+1]\n",
    "        except:\n",
    "            ele_amenities = None\n",
    "        \n",
    "        ###############################\n",
    "        # Append lists\n",
    "        address.append(ele_address)\n",
    "        city_name.append(ele_city_name)\n",
    "        house_type.append(ele_house_type) \n",
    "        bedroom.append(ele_bedroom) \n",
    "        washroom.append(ele_washroom) \n",
    "        parking.append(ele_parking) \n",
    "        listing_price.append(ele_listing_price)   \n",
    "        \n",
    "        tax.append(ele_tax) \n",
    "        property_type.append(ele_property_type)\n",
    "        basement.append(ele_basement)\n",
    "        utility_incl.append(ele_utility_incl)\n",
    "        maintenance.append(ele_maintenance) \n",
    "        building_age.append(ele_building_age) \n",
    "        size.append(ele_size) \n",
    "        listing_num.append(ele_listing_num)\n",
    "        dom.append(ele_dom)\n",
    "        listed_on.append(ele_listed_on) \n",
    "        updated_on.append(ele_updated_on)\n",
    "        \n",
    "        sigma_estimate.append(ele_sigma_estimate)\n",
    "        estimate_date.append(ele_estimate_date)\n",
    "        rental_estimate.append(ele_rental_estimate) \n",
    "        rental_yield.append(ele_rental_yield)\n",
    "        rental_dom.append(ele_rental_dom)\n",
    "        \n",
    "        intersection.append(ele_intersection) \n",
    "        exposure.append(ele_exposure)\n",
    "        amenities.append(ele_amenities)\n",
    "        municipality.append(ele_municipality)\n",
    "        description.append(ele_description)\n",
    "\n",
    "    #         # For checking purpose\n",
    "    #         print(ele_address)\n",
    "    #         sleep(1)\n",
    "    #         print(ele_city_name)\n",
    "    #         sleep(1)\n",
    "        driver.close()#closes current, active tab\n",
    "        driver.switch_to.window(driver.window_handles[0])\n",
    "        sleep(3)\n",
    "        print(f'Listing #{i} scraping completed')\n",
    "    sleep(2)\n",
    "    close_community = driver.find_element(By.XPATH, '//*[@id=\"recommend\"]/div[2]/div/div[1]/button/i')\n",
    "    close_community.click()\n",
    "    sleep(10)"
   ]
  },
  {
   "cell_type": "code",
   "execution_count": 24,
   "metadata": {},
   "outputs": [
    {
     "ename": "NoSuchWindowException",
     "evalue": "Message: no such window: target window already closed\nfrom unknown error: web view not found\n  (Session info: chrome=86.0.4240.111)\nStacktrace:\nBacktrace:\n\tOrdinal0 [0x006AD383+3134339]\n\tOrdinal0 [0x0059A171+2007409]\n\tOrdinal0 [0x0043AEE8+569064]\n\tOrdinal0 [0x00428727+493351]\n\tOrdinal0 [0x003DF440+193600]\n\tOrdinal0 [0x003E1D44+204100]\n\tOrdinal0 [0x003DEC37+191543]\n\tOrdinal0 [0x003C2E77+77431]\n\tOrdinal0 [0x003C3E3E+81470]\n\tOrdinal0 [0x003C3DC9+81353]\n\tOrdinal0 [0x005B0CD9+2100441]\n\tGetHandleVerifier [0x0081B75A+1396954]\n\tGetHandleVerifier [0x0081B3D9+1396057]\n\tGetHandleVerifier [0x00827126+1444518]\n\tGetHandleVerifier [0x0081BCE8+1398376]\n\tOrdinal0 [0x005A7F51+2064209]\n\tOrdinal0 [0x005B22EB+2106091]\n\tOrdinal0 [0x005B2411+2106385]\n\tOrdinal0 [0x005C49C4+2181572]\n\tBaseThreadInitThunk [0x75226A14+36]\n\tRtlInitializeExceptionChain [0x7742AB4F+143]\n\tRtlInitializeExceptionChain [0x7742AB1A+90]\n",
     "output_type": "error",
     "traceback": [
      "\u001b[1;31m---------------------------------------------------------------------------\u001b[0m",
      "\u001b[1;31mNoSuchWindowException\u001b[0m                     Traceback (most recent call last)",
      "\u001b[1;32m<ipython-input-24-0189bcd31a08>\u001b[0m in \u001b[0;36m<module>\u001b[1;34m\u001b[0m\n\u001b[0;32m      1\u001b[0m \u001b[1;31m# Closes current, active tab (or the listing window)\u001b[0m\u001b[1;33m\u001b[0m\u001b[1;33m\u001b[0m\u001b[1;33m\u001b[0m\u001b[0m\n\u001b[1;32m----> 2\u001b[1;33m \u001b[0mdriver\u001b[0m\u001b[1;33m.\u001b[0m\u001b[0mclose\u001b[0m\u001b[1;33m(\u001b[0m\u001b[1;33m)\u001b[0m\u001b[1;33m\u001b[0m\u001b[1;33m\u001b[0m\u001b[0m\n\u001b[0m\u001b[0;32m      3\u001b[0m \u001b[0mdriver\u001b[0m\u001b[1;33m.\u001b[0m\u001b[0mswitch_to\u001b[0m\u001b[1;33m.\u001b[0m\u001b[0mwindow\u001b[0m\u001b[1;33m(\u001b[0m\u001b[0mdriver\u001b[0m\u001b[1;33m.\u001b[0m\u001b[0mwindow_handles\u001b[0m\u001b[1;33m[\u001b[0m\u001b[1;36m0\u001b[0m\u001b[1;33m]\u001b[0m\u001b[1;33m)\u001b[0m\u001b[1;33m\u001b[0m\u001b[1;33m\u001b[0m\u001b[0m\n",
      "\u001b[1;32m~\\anaconda3\\lib\\site-packages\\selenium\\webdriver\\remote\\webdriver.py\u001b[0m in \u001b[0;36mclose\u001b[1;34m(self)\u001b[0m\n\u001b[0;32m    772\u001b[0m                 \u001b[0mdriver\u001b[0m\u001b[1;33m.\u001b[0m\u001b[0mclose\u001b[0m\u001b[1;33m(\u001b[0m\u001b[1;33m)\u001b[0m\u001b[1;33m\u001b[0m\u001b[1;33m\u001b[0m\u001b[0m\n\u001b[0;32m    773\u001b[0m         \"\"\"\n\u001b[1;32m--> 774\u001b[1;33m         \u001b[0mself\u001b[0m\u001b[1;33m.\u001b[0m\u001b[0mexecute\u001b[0m\u001b[1;33m(\u001b[0m\u001b[0mCommand\u001b[0m\u001b[1;33m.\u001b[0m\u001b[0mCLOSE\u001b[0m\u001b[1;33m)\u001b[0m\u001b[1;33m\u001b[0m\u001b[1;33m\u001b[0m\u001b[0m\n\u001b[0m\u001b[0;32m    775\u001b[0m \u001b[1;33m\u001b[0m\u001b[0m\n\u001b[0;32m    776\u001b[0m     \u001b[1;32mdef\u001b[0m \u001b[0mquit\u001b[0m\u001b[1;33m(\u001b[0m\u001b[0mself\u001b[0m\u001b[1;33m)\u001b[0m\u001b[1;33m:\u001b[0m\u001b[1;33m\u001b[0m\u001b[1;33m\u001b[0m\u001b[0m\n",
      "\u001b[1;32m~\\anaconda3\\lib\\site-packages\\selenium\\webdriver\\remote\\webdriver.py\u001b[0m in \u001b[0;36mexecute\u001b[1;34m(self, driver_command, params)\u001b[0m\n\u001b[0;32m    345\u001b[0m         \u001b[0mresponse\u001b[0m \u001b[1;33m=\u001b[0m \u001b[0mself\u001b[0m\u001b[1;33m.\u001b[0m\u001b[0mcommand_executor\u001b[0m\u001b[1;33m.\u001b[0m\u001b[0mexecute\u001b[0m\u001b[1;33m(\u001b[0m\u001b[0mdriver_command\u001b[0m\u001b[1;33m,\u001b[0m \u001b[0mparams\u001b[0m\u001b[1;33m)\u001b[0m\u001b[1;33m\u001b[0m\u001b[1;33m\u001b[0m\u001b[0m\n\u001b[0;32m    346\u001b[0m         \u001b[1;32mif\u001b[0m \u001b[0mresponse\u001b[0m\u001b[1;33m:\u001b[0m\u001b[1;33m\u001b[0m\u001b[1;33m\u001b[0m\u001b[0m\n\u001b[1;32m--> 347\u001b[1;33m             \u001b[0mself\u001b[0m\u001b[1;33m.\u001b[0m\u001b[0merror_handler\u001b[0m\u001b[1;33m.\u001b[0m\u001b[0mcheck_response\u001b[0m\u001b[1;33m(\u001b[0m\u001b[0mresponse\u001b[0m\u001b[1;33m)\u001b[0m\u001b[1;33m\u001b[0m\u001b[1;33m\u001b[0m\u001b[0m\n\u001b[0m\u001b[0;32m    348\u001b[0m             response['value'] = self._unwrap_value(\n\u001b[0;32m    349\u001b[0m                 response.get('value', None))\n",
      "\u001b[1;32m~\\anaconda3\\lib\\site-packages\\selenium\\webdriver\\remote\\errorhandler.py\u001b[0m in \u001b[0;36mcheck_response\u001b[1;34m(self, response)\u001b[0m\n\u001b[0;32m    238\u001b[0m                 \u001b[0malert_text\u001b[0m \u001b[1;33m=\u001b[0m \u001b[0mvalue\u001b[0m\u001b[1;33m[\u001b[0m\u001b[1;34m'alert'\u001b[0m\u001b[1;33m]\u001b[0m\u001b[1;33m.\u001b[0m\u001b[0mget\u001b[0m\u001b[1;33m(\u001b[0m\u001b[1;34m'text'\u001b[0m\u001b[1;33m)\u001b[0m\u001b[1;33m\u001b[0m\u001b[1;33m\u001b[0m\u001b[0m\n\u001b[0;32m    239\u001b[0m             \u001b[1;32mraise\u001b[0m \u001b[0mexception_class\u001b[0m\u001b[1;33m(\u001b[0m\u001b[0mmessage\u001b[0m\u001b[1;33m,\u001b[0m \u001b[0mscreen\u001b[0m\u001b[1;33m,\u001b[0m \u001b[0mstacktrace\u001b[0m\u001b[1;33m,\u001b[0m \u001b[0malert_text\u001b[0m\u001b[1;33m)\u001b[0m\u001b[1;33m\u001b[0m\u001b[1;33m\u001b[0m\u001b[0m\n\u001b[1;32m--> 240\u001b[1;33m         \u001b[1;32mraise\u001b[0m \u001b[0mexception_class\u001b[0m\u001b[1;33m(\u001b[0m\u001b[0mmessage\u001b[0m\u001b[1;33m,\u001b[0m \u001b[0mscreen\u001b[0m\u001b[1;33m,\u001b[0m \u001b[0mstacktrace\u001b[0m\u001b[1;33m)\u001b[0m\u001b[1;33m\u001b[0m\u001b[1;33m\u001b[0m\u001b[0m\n\u001b[0m\u001b[0;32m    241\u001b[0m \u001b[1;33m\u001b[0m\u001b[0m\n\u001b[0;32m    242\u001b[0m     \u001b[1;32mdef\u001b[0m \u001b[0m_value_or_default\u001b[0m\u001b[1;33m(\u001b[0m\u001b[0mself\u001b[0m\u001b[1;33m,\u001b[0m \u001b[0mobj\u001b[0m\u001b[1;33m,\u001b[0m \u001b[0mkey\u001b[0m\u001b[1;33m,\u001b[0m \u001b[0mdefault\u001b[0m\u001b[1;33m)\u001b[0m\u001b[1;33m:\u001b[0m\u001b[1;33m\u001b[0m\u001b[1;33m\u001b[0m\u001b[0m\n",
      "\u001b[1;31mNoSuchWindowException\u001b[0m: Message: no such window: target window already closed\nfrom unknown error: web view not found\n  (Session info: chrome=86.0.4240.111)\nStacktrace:\nBacktrace:\n\tOrdinal0 [0x006AD383+3134339]\n\tOrdinal0 [0x0059A171+2007409]\n\tOrdinal0 [0x0043AEE8+569064]\n\tOrdinal0 [0x00428727+493351]\n\tOrdinal0 [0x003DF440+193600]\n\tOrdinal0 [0x003E1D44+204100]\n\tOrdinal0 [0x003DEC37+191543]\n\tOrdinal0 [0x003C2E77+77431]\n\tOrdinal0 [0x003C3E3E+81470]\n\tOrdinal0 [0x003C3DC9+81353]\n\tOrdinal0 [0x005B0CD9+2100441]\n\tGetHandleVerifier [0x0081B75A+1396954]\n\tGetHandleVerifier [0x0081B3D9+1396057]\n\tGetHandleVerifier [0x00827126+1444518]\n\tGetHandleVerifier [0x0081BCE8+1398376]\n\tOrdinal0 [0x005A7F51+2064209]\n\tOrdinal0 [0x005B22EB+2106091]\n\tOrdinal0 [0x005B2411+2106385]\n\tOrdinal0 [0x005C49C4+2181572]\n\tBaseThreadInitThunk [0x75226A14+36]\n\tRtlInitializeExceptionChain [0x7742AB4F+143]\n\tRtlInitializeExceptionChain [0x7742AB1A+90]\n"
     ]
    }
   ],
   "source": [
    "# Closes current, active tab (or the listing window)\n",
    "driver.close() \n",
    "driver.switch_to.window(driver.window_handles[0])"
   ]
  },
  {
   "cell_type": "code",
   "execution_count": 19,
   "metadata": {},
   "outputs": [
    {
     "ename": "NoSuchWindowException",
     "evalue": "Message: no such window: window was already closed\n  (Session info: chrome=86.0.4240.111)\nStacktrace:\nBacktrace:\n\tOrdinal0 [0x006AD383+3134339]\n\tOrdinal0 [0x0059A171+2007409]\n\tOrdinal0 [0x0043AEE8+569064]\n\tOrdinal0 [0x00432054+532564]\n\tOrdinal0 [0x00432C15+535573]\n\tOrdinal0 [0x0042DFC5+516037]\n\tOrdinal0 [0x0043BF70+573296]\n\tOrdinal0 [0x003E83A6+230310]\n\tOrdinal0 [0x003DEB0B+191243]\n\tOrdinal0 [0x003C2E77+77431]\n\tOrdinal0 [0x003C3E3E+81470]\n\tOrdinal0 [0x003C3DC9+81353]\n\tOrdinal0 [0x005B0CD9+2100441]\n\tGetHandleVerifier [0x0081B75A+1396954]\n\tGetHandleVerifier [0x0081B3D9+1396057]\n\tGetHandleVerifier [0x00827126+1444518]\n\tGetHandleVerifier [0x0081BCE8+1398376]\n\tOrdinal0 [0x005A7F51+2064209]\n\tOrdinal0 [0x005B22EB+2106091]\n\tOrdinal0 [0x005B2411+2106385]\n\tOrdinal0 [0x005C49C4+2181572]\n\tBaseThreadInitThunk [0x75226A14+36]\n\tRtlInitializeExceptionChain [0x7742AB4F+143]\n\tRtlInitializeExceptionChain [0x7742AB1A+90]\n",
     "output_type": "error",
     "traceback": [
      "\u001b[1;31m---------------------------------------------------------------------------\u001b[0m",
      "\u001b[1;31mNoSuchWindowException\u001b[0m                     Traceback (most recent call last)",
      "\u001b[1;32m<ipython-input-19-b1a8227997cd>\u001b[0m in \u001b[0;36m<module>\u001b[1;34m\u001b[0m\n\u001b[0;32m      1\u001b[0m \u001b[1;31m# Closes community pop-up page\u001b[0m\u001b[1;33m\u001b[0m\u001b[1;33m\u001b[0m\u001b[1;33m\u001b[0m\u001b[0m\n\u001b[1;32m----> 2\u001b[1;33m \u001b[0mclose_community\u001b[0m \u001b[1;33m=\u001b[0m \u001b[0mdriver\u001b[0m\u001b[1;33m.\u001b[0m\u001b[0mfind_element\u001b[0m\u001b[1;33m(\u001b[0m\u001b[0mBy\u001b[0m\u001b[1;33m.\u001b[0m\u001b[0mXPATH\u001b[0m\u001b[1;33m,\u001b[0m \u001b[1;34m'//*[@id=\"recommend\"]/div[2]/div/div[1]/button/i'\u001b[0m\u001b[1;33m)\u001b[0m\u001b[1;33m\u001b[0m\u001b[1;33m\u001b[0m\u001b[0m\n\u001b[0m\u001b[0;32m      3\u001b[0m \u001b[0mclose_community\u001b[0m\u001b[1;33m.\u001b[0m\u001b[0mclick\u001b[0m\u001b[1;33m(\u001b[0m\u001b[1;33m)\u001b[0m\u001b[1;33m\u001b[0m\u001b[1;33m\u001b[0m\u001b[0m\n",
      "\u001b[1;32m~\\anaconda3\\lib\\site-packages\\selenium\\webdriver\\remote\\webdriver.py\u001b[0m in \u001b[0;36mfind_element\u001b[1;34m(self, by, value)\u001b[0m\n\u001b[0;32m   1090\u001b[0m                 \u001b[0mby\u001b[0m \u001b[1;33m=\u001b[0m \u001b[0mBy\u001b[0m\u001b[1;33m.\u001b[0m\u001b[0mCSS_SELECTOR\u001b[0m\u001b[1;33m\u001b[0m\u001b[1;33m\u001b[0m\u001b[0m\n\u001b[0;32m   1091\u001b[0m                 \u001b[0mvalue\u001b[0m \u001b[1;33m=\u001b[0m \u001b[1;34m'[name=\"%s\"]'\u001b[0m \u001b[1;33m%\u001b[0m \u001b[0mvalue\u001b[0m\u001b[1;33m\u001b[0m\u001b[1;33m\u001b[0m\u001b[0m\n\u001b[1;32m-> 1092\u001b[1;33m         return self.execute(Command.FIND_ELEMENT, {\n\u001b[0m\u001b[0;32m   1093\u001b[0m             \u001b[1;34m'using'\u001b[0m\u001b[1;33m:\u001b[0m \u001b[0mby\u001b[0m\u001b[1;33m,\u001b[0m\u001b[1;33m\u001b[0m\u001b[1;33m\u001b[0m\u001b[0m\n\u001b[0;32m   1094\u001b[0m             'value': value})['value']\n",
      "\u001b[1;32m~\\anaconda3\\lib\\site-packages\\selenium\\webdriver\\remote\\webdriver.py\u001b[0m in \u001b[0;36mexecute\u001b[1;34m(self, driver_command, params)\u001b[0m\n\u001b[0;32m    345\u001b[0m         \u001b[0mresponse\u001b[0m \u001b[1;33m=\u001b[0m \u001b[0mself\u001b[0m\u001b[1;33m.\u001b[0m\u001b[0mcommand_executor\u001b[0m\u001b[1;33m.\u001b[0m\u001b[0mexecute\u001b[0m\u001b[1;33m(\u001b[0m\u001b[0mdriver_command\u001b[0m\u001b[1;33m,\u001b[0m \u001b[0mparams\u001b[0m\u001b[1;33m)\u001b[0m\u001b[1;33m\u001b[0m\u001b[1;33m\u001b[0m\u001b[0m\n\u001b[0;32m    346\u001b[0m         \u001b[1;32mif\u001b[0m \u001b[0mresponse\u001b[0m\u001b[1;33m:\u001b[0m\u001b[1;33m\u001b[0m\u001b[1;33m\u001b[0m\u001b[0m\n\u001b[1;32m--> 347\u001b[1;33m             \u001b[0mself\u001b[0m\u001b[1;33m.\u001b[0m\u001b[0merror_handler\u001b[0m\u001b[1;33m.\u001b[0m\u001b[0mcheck_response\u001b[0m\u001b[1;33m(\u001b[0m\u001b[0mresponse\u001b[0m\u001b[1;33m)\u001b[0m\u001b[1;33m\u001b[0m\u001b[1;33m\u001b[0m\u001b[0m\n\u001b[0m\u001b[0;32m    348\u001b[0m             response['value'] = self._unwrap_value(\n\u001b[0;32m    349\u001b[0m                 response.get('value', None))\n",
      "\u001b[1;32m~\\anaconda3\\lib\\site-packages\\selenium\\webdriver\\remote\\errorhandler.py\u001b[0m in \u001b[0;36mcheck_response\u001b[1;34m(self, response)\u001b[0m\n\u001b[0;32m    238\u001b[0m                 \u001b[0malert_text\u001b[0m \u001b[1;33m=\u001b[0m \u001b[0mvalue\u001b[0m\u001b[1;33m[\u001b[0m\u001b[1;34m'alert'\u001b[0m\u001b[1;33m]\u001b[0m\u001b[1;33m.\u001b[0m\u001b[0mget\u001b[0m\u001b[1;33m(\u001b[0m\u001b[1;34m'text'\u001b[0m\u001b[1;33m)\u001b[0m\u001b[1;33m\u001b[0m\u001b[1;33m\u001b[0m\u001b[0m\n\u001b[0;32m    239\u001b[0m             \u001b[1;32mraise\u001b[0m \u001b[0mexception_class\u001b[0m\u001b[1;33m(\u001b[0m\u001b[0mmessage\u001b[0m\u001b[1;33m,\u001b[0m \u001b[0mscreen\u001b[0m\u001b[1;33m,\u001b[0m \u001b[0mstacktrace\u001b[0m\u001b[1;33m,\u001b[0m \u001b[0malert_text\u001b[0m\u001b[1;33m)\u001b[0m\u001b[1;33m\u001b[0m\u001b[1;33m\u001b[0m\u001b[0m\n\u001b[1;32m--> 240\u001b[1;33m         \u001b[1;32mraise\u001b[0m \u001b[0mexception_class\u001b[0m\u001b[1;33m(\u001b[0m\u001b[0mmessage\u001b[0m\u001b[1;33m,\u001b[0m \u001b[0mscreen\u001b[0m\u001b[1;33m,\u001b[0m \u001b[0mstacktrace\u001b[0m\u001b[1;33m)\u001b[0m\u001b[1;33m\u001b[0m\u001b[1;33m\u001b[0m\u001b[0m\n\u001b[0m\u001b[0;32m    241\u001b[0m \u001b[1;33m\u001b[0m\u001b[0m\n\u001b[0;32m    242\u001b[0m     \u001b[1;32mdef\u001b[0m \u001b[0m_value_or_default\u001b[0m\u001b[1;33m(\u001b[0m\u001b[0mself\u001b[0m\u001b[1;33m,\u001b[0m \u001b[0mobj\u001b[0m\u001b[1;33m,\u001b[0m \u001b[0mkey\u001b[0m\u001b[1;33m,\u001b[0m \u001b[0mdefault\u001b[0m\u001b[1;33m)\u001b[0m\u001b[1;33m:\u001b[0m\u001b[1;33m\u001b[0m\u001b[1;33m\u001b[0m\u001b[0m\n",
      "\u001b[1;31mNoSuchWindowException\u001b[0m: Message: no such window: window was already closed\n  (Session info: chrome=86.0.4240.111)\nStacktrace:\nBacktrace:\n\tOrdinal0 [0x006AD383+3134339]\n\tOrdinal0 [0x0059A171+2007409]\n\tOrdinal0 [0x0043AEE8+569064]\n\tOrdinal0 [0x00432054+532564]\n\tOrdinal0 [0x00432C15+535573]\n\tOrdinal0 [0x0042DFC5+516037]\n\tOrdinal0 [0x0043BF70+573296]\n\tOrdinal0 [0x003E83A6+230310]\n\tOrdinal0 [0x003DEB0B+191243]\n\tOrdinal0 [0x003C2E77+77431]\n\tOrdinal0 [0x003C3E3E+81470]\n\tOrdinal0 [0x003C3DC9+81353]\n\tOrdinal0 [0x005B0CD9+2100441]\n\tGetHandleVerifier [0x0081B75A+1396954]\n\tGetHandleVerifier [0x0081B3D9+1396057]\n\tGetHandleVerifier [0x00827126+1444518]\n\tGetHandleVerifier [0x0081BCE8+1398376]\n\tOrdinal0 [0x005A7F51+2064209]\n\tOrdinal0 [0x005B22EB+2106091]\n\tOrdinal0 [0x005B2411+2106385]\n\tOrdinal0 [0x005C49C4+2181572]\n\tBaseThreadInitThunk [0x75226A14+36]\n\tRtlInitializeExceptionChain [0x7742AB4F+143]\n\tRtlInitializeExceptionChain [0x7742AB1A+90]\n"
     ]
    }
   ],
   "source": [
    "# Closes community pop-up page\n",
    "close_community = driver.find_element(By.XPATH, '//*[@id=\"recommend\"]/div[2]/div/div[1]/button/i')\n",
    "close_community.click()"
   ]
  },
  {
   "cell_type": "code",
   "execution_count": null,
   "metadata": {},
   "outputs": [],
   "source": [
    "# print(address)\n",
    "# print(city_name)\n",
    "# print(house_type)\n",
    "# print(bedroom)\n",
    "# print(washroom)\n",
    "# print(parking)\n",
    "# print(listing_price)\n",
    "\n",
    "# print(tax)\n",
    "# print(property_type)\n",
    "# print(basement)\n",
    "# print(utility_incl)\n",
    "# print(maintenance)\n",
    "# print(building_age)\n",
    "# print(size)\n",
    "# print(listing_num)\n",
    "# print(dom)\n",
    "# print(listed_on)\n",
    "# print(updated_on)\n",
    "\n",
    "# print(sigma_estimate)\n",
    "# print(estimate_date)\n",
    "# print(rental_estimate)\n",
    "# print(rental_yield)\n",
    "# print(rental_dom)\n",
    "\n",
    "# print(intersection)\n",
    "# print(exposure)\n",
    "# print(amenities)\n",
    "# print(municipality)\n",
    "# print(description)"
   ]
  },
  {
   "cell_type": "code",
   "execution_count": 18,
   "metadata": {},
   "outputs": [
    {
     "name": "stdout",
     "output_type": "stream",
     "text": [
      "342\n",
      "342\n",
      "342\n",
      "342\n",
      "342\n",
      "342\n",
      "342\n",
      "342\n",
      "342\n",
      "342\n",
      "342\n",
      "342\n",
      "342\n",
      "342\n",
      "342\n",
      "342\n",
      "342\n",
      "342\n",
      "342\n",
      "342\n",
      "342\n",
      "342\n",
      "342\n",
      "342\n",
      "342\n",
      "342\n",
      "342\n",
      "342\n"
     ]
    }
   ],
   "source": [
    "# Checking if the lists have the same number of objects\n",
    "print(len(address))\n",
    "print(len(city_name))\n",
    "print(len(house_type))\n",
    "print(len(bedroom))\n",
    "print(len(washroom))\n",
    "print(len(parking))\n",
    "print(len(listing_price))\n",
    "\n",
    "print(len(tax))\n",
    "print(len(property_type))\n",
    "print(len(basement))\n",
    "print(len(utility_incl))\n",
    "print(len(maintenance))\n",
    "print(len(building_age))\n",
    "print(len(size))\n",
    "print(len(listing_num))\n",
    "print(len(dom))\n",
    "print(len(listed_on))\n",
    "print(len(updated_on))\n",
    "\n",
    "print(len(sigma_estimate))\n",
    "print(len(estimate_date))\n",
    "print(len(rental_estimate))\n",
    "print(len(rental_yield))\n",
    "print(len(rental_dom))\n",
    "\n",
    "print(len(intersection))\n",
    "print(len(exposure))\n",
    "print(len(amenities))\n",
    "print(len(municipality))\n",
    "print(len(description))"
   ]
  },
  {
   "cell_type": "markdown",
   "metadata": {},
   "source": [
    "## 5. Exporting Data\n",
    "### 5.1 Creating a dataframe"
   ]
  },
  {
   "cell_type": "code",
   "execution_count": 25,
   "metadata": {},
   "outputs": [],
   "source": [
    "# Into a dataframe\n",
    "df = pd.DataFrame({\n",
    "    'Listing_num':listing_num,\n",
    "    'Address':address,\n",
    "    'Community':city_name,\n",
    "    'House_type':house_type,\n",
    "    'Listing_price':listing_price,\n",
    "    'Sigma_estimate':sigma_estimate,\n",
    "    'Estimated_on':estimate_date,\n",
    "    'Bedroom':bedroom,\n",
    "    'Washroom':washroom,\n",
    "    'Parking':parking,\n",
    "    \n",
    "    'Tax':tax,\n",
    "    'Property_type':property_type,\n",
    "    'Maintenance':maintenance,\n",
    "    'Building_age':building_age,\n",
    "    'Size':size,\n",
    "    'Basement':basement,\n",
    "    'Utility_incl':utility_incl,\n",
    "    'Days_on_market':dom,\n",
    "    'Rental_dom':rental_dom,\n",
    "    'Listed_on':listed_on,\n",
    "    'Updated_on':updated_on,\n",
    "    'Rental_estimate':rental_estimate,\n",
    "    'Rental_yield':rental_yield,\n",
    "    'Major_intersection':intersection,\n",
    "    'Amenities':amenities,\n",
    "    'Exposure':exposure,\n",
    "    'Municipality':municipality,\n",
    "    'Description':description\n",
    "})\n"
   ]
  },
  {
   "cell_type": "code",
   "execution_count": 34,
   "metadata": {},
   "outputs": [],
   "source": [
    "# df.to_csv('2020_HouseSigma_listing_details.csv', index = False)"
   ]
  },
  {
   "cell_type": "markdown",
   "metadata": {},
   "source": [
    "### 5.2 Cleaning Data"
   ]
  },
  {
   "cell_type": "code",
   "execution_count": 35,
   "metadata": {},
   "outputs": [],
   "source": [
    "df = pd.read_csv('2020_HouseSigma_listing_details.csv')"
   ]
  },
  {
   "cell_type": "code",
   "execution_count": 36,
   "metadata": {},
   "outputs": [
    {
     "data": {
      "text/plain": [
       "(1083, 28)"
      ]
     },
     "execution_count": 36,
     "metadata": {},
     "output_type": "execute_result"
    }
   ],
   "source": [
    "df.shape"
   ]
  },
  {
   "cell_type": "code",
   "execution_count": null,
   "metadata": {},
   "outputs": [],
   "source": [
    "df.columns"
   ]
  },
  {
   "cell_type": "code",
   "execution_count": 37,
   "metadata": {},
   "outputs": [],
   "source": [
    "# Removing special characters & words\n",
    "df['Days_on_market'] = df['Days_on_market'].replace(' days', '', regex=True)\n",
    "df['Size'] = df['Size'].str.replace(' (SigmaEstimate®)', '', regex=False).str.replace(' (SigmaEstimate??)', '', regex=False).str.replace(' feet²', '', regex=False).str.replace(' feet??', '', regex=False)\n",
    "df['Maintenance'] = df['Maintenance'].replace('/month', '', regex = True).replace('[\\$,)]', '', regex = True)\n",
    "df['Tax'] = df['Tax'].replace('[\\$,)]', '', regex = True)\n",
    "df['Rental_dom'] = df['Rental_dom'].str.replace(' day(s)', '', regex=False)\n",
    "df['Rental_yield'] =df['Rental_yield'].replace('%', '', regex = True)\n",
    "df[['Listing_price', 'Sigma_estimate', 'Rental_estimate']] = \\\n",
    "df[['Listing_price', 'Sigma_estimate', 'Rental_estimate']].replace('[\\$,)]', '', regex = True)\n",
    "\n",
    "# Taking the smaller size\n",
    "df['Size'] = df['Size'].str.split('-').str[0] #str[0]: takes the smaller number\n",
    "\n",
    "\n",
    "# Removing some words\n",
    "df['Bedroom'] = df['Bedroom'].str.replace(' Bedrooms', '', regex=False)\n",
    "df['Washroom'] = df['Washroom'].str.replace(' Bathrooms', '', regex=False)\n",
    "df['Parking'] = df['Parking'] = df['Parking'].str.replace(' Garage', '', regex=False)\n",
    "\n",
    "# To capitalize all letters in the series\n",
    "df['Exposure'] = df['Exposure'].str.upper()\n",
    "\n",
    "# set a cell to NaN in a pandas dataframe\n",
    "df[['Estimated_on', 'Building_age', 'Size']] = df[['Estimated_on', 'Building_age', 'Size']].replace('-', np.NaN)\n",
    "df['Size'] = df['Size'].replace('#NAME?', np.NaN)\n",
    "df['Basement'] = df['Basement'].replace('None', np.NaN)\n",
    "\n",
    "# Den = 0.33 \n",
    "df['Bedroom'] = df['Bedroom']\\\n",
    ".replace('0+1', '0.33',regex=False)\\\n",
    ".replace('1+1', '1.33',regex=False)\\\n",
    ".replace('2+1', '2.33',regex=False)\\\n",
    ".replace('3+1', '3.33',regex=False)\\\n",
    ".replace('1+2', '1.66',regex=False)\\\n",
    ".replace('2+2', '2.66',regex=False)\\\n",
    ".replace('3+2', '3.66',regex=False)\\\n",
    ".replace('4+2', '4.66',regex=False)"
   ]
  },
  {
   "cell_type": "code",
   "execution_count": 38,
   "metadata": {},
   "outputs": [],
   "source": [
    "# coercing into numeric objects\n",
    "df['Maintenance'] = pd.to_numeric(df['Maintenance'], errors='coerce')\n",
    "df['Tax'] = pd.to_numeric(df['Tax'], errors='coerce')\n",
    "df['Days_on_market'] = pd.to_numeric(df['Days_on_market'], errors='coerce')\n",
    "df['Rental_dom'] = pd.to_numeric(df['Rental_dom'], errors='coerce')\n",
    "df['Listing_price'] = pd.to_numeric(df['Listing_price'], errors='coerce')\n",
    "df['Sigma_estimate'] = pd.to_numeric(df['Sigma_estimate'], errors='coerce')\n",
    "df['Rental_estimate'] = pd.to_numeric(df['Rental_estimate'], errors='coerce')\n",
    "df['Rental_yield'] = pd.to_numeric(df['Rental_yield'], errors='coerce')\n",
    "df['Size']= pd.to_numeric(df['Size'], errors='coerce')\n",
    "df['Bedroom'] = pd.to_numeric(df['Bedroom'], errors='coerce')\n",
    "df['Washroom'] = pd.to_numeric(df['Washroom'], errors='coerce')\n",
    "df['Parking']= pd.to_numeric(df['Parking'], errors='coerce')\n",
    "\n",
    "# To change string dates into datetime objects\n",
    "# [Listed_on, Estimated_on, Updated_on]\n",
    "df['Estimated_on'] = pd.to_datetime(df['Estimated_on'], format = '%Y-%m-%d')\n",
    "df['Listed_on'] = pd.to_datetime(df['Listed_on'], format = '%Y-%m-%d')\n",
    "df['Updated_on'] = pd.to_datetime(df['Updated_on'], format = '%Y-%m-%d')\n",
    "\n",
    "# Changing intersection symbols\n",
    "df['Major_intersection'] = df['Major_intersection']\\\n",
    ".replace('/', '&', regex = True)\\\n",
    ".replace('And', '&', regex = True)\\\n",
    ".replace(' & ', '&', regex = True)\\\n",
    ".replace('&', ' & ', regex = True)"
   ]
  },
  {
   "cell_type": "code",
   "execution_count": 39,
   "metadata": {},
   "outputs": [],
   "source": [
    "# df.to_csv('2020_HouseSigma_listing_details_final.csv', index = False)"
   ]
  },
  {
   "cell_type": "markdown",
   "metadata": {},
   "source": [
    "## 6. Visualizing Data"
   ]
  },
  {
   "cell_type": "code",
   "execution_count": 41,
   "metadata": {},
   "outputs": [],
   "source": [
    "df = pd.read_csv('2020_HouseSigma_listing_details_final.csv')"
   ]
  },
  {
   "cell_type": "code",
   "execution_count": 40,
   "metadata": {},
   "outputs": [
    {
     "data": {
      "text/plain": [
       "Index(['Listing_num', 'Address', 'Community', 'House_type', 'Listing_price',\n",
       "       'Sigma_estimate', 'Estimated_on', 'Bedroom', 'Washroom', 'Parking',\n",
       "       'Tax', 'Property_type', 'Maintenance', 'Building_age', 'Size',\n",
       "       'Basement', 'Utility_incl', 'Days_on_market', 'Rental_dom', 'Listed_on',\n",
       "       'Updated_on', 'Rental_estimate', 'Rental_yield', 'Major_intersection',\n",
       "       'Amenities', 'Exposure', 'Municipality', 'Description'],\n",
       "      dtype='object')"
      ]
     },
     "execution_count": 40,
     "metadata": {},
     "output_type": "execute_result"
    }
   ],
   "source": [
    "# Checking column names\n",
    "df.columns"
   ]
  },
  {
   "cell_type": "code",
   "execution_count": null,
   "metadata": {},
   "outputs": [],
   "source": [
    "df.shape"
   ]
  },
  {
   "cell_type": "code",
   "execution_count": null,
   "metadata": {},
   "outputs": [],
   "source": []
  },
  {
   "cell_type": "code",
   "execution_count": 42,
   "metadata": {},
   "outputs": [
    {
     "data": {
      "text/plain": [
       "count    1.083000e+03\n",
       "mean     7.465392e+05\n",
       "std      3.345974e+05\n",
       "min      3.699000e+05\n",
       "25%      5.650000e+05\n",
       "50%      6.590000e+05\n",
       "75%      7.999475e+05\n",
       "max      4.280000e+06\n",
       "Name: Listing_price, dtype: float64"
      ]
     },
     "execution_count": 42,
     "metadata": {},
     "output_type": "execute_result"
    },
    {
     "data": {
      "image/png": "[encoded data removed]",
      "text/plain": [
       "<Figure size 432x288 with 1 Axes>"
      ]
     },
     "metadata": {
      "needs_background": "light"
     },
     "output_type": "display_data"
    }
   ],
   "source": [
    "df['Listing_price'].plot(kind = 'hist', bins = 100)\n",
    "df['Listing_price'].describe()"
   ]
  },
  {
   "cell_type": "code",
   "execution_count": null,
   "metadata": {},
   "outputs": [],
   "source": [
    "# # Removing the outliers\n",
    "# my_df = df[df['Listing_price']<2000000]\n",
    "# print(my_df.shape)\n",
    "# my_df['Listing_price'].plot(kind = 'hist', bins = 100)"
   ]
  },
  {
   "cell_type": "code",
   "execution_count": null,
   "metadata": {},
   "outputs": [],
   "source": []
  },
  {
   "cell_type": "code",
   "execution_count": 43,
   "metadata": {},
   "outputs": [
    {
     "data": {
      "text/plain": [
       "count    1.083000e+03\n",
       "mean     7.465392e+05\n",
       "std      3.345974e+05\n",
       "min      3.699000e+05\n",
       "25%      5.650000e+05\n",
       "50%      6.590000e+05\n",
       "75%      7.999475e+05\n",
       "max      4.280000e+06\n",
       "Name: Listing_price, dtype: float64"
      ]
     },
     "execution_count": 43,
     "metadata": {},
     "output_type": "execute_result"
    }
   ],
   "source": [
    "df['Listing_price'].describe()"
   ]
  },
  {
   "cell_type": "code",
   "execution_count": 45,
   "metadata": {},
   "outputs": [
    {
     "name": "stderr",
     "output_type": "stream",
     "text": [
      "C:\\Users\\User\\anaconda3\\lib\\site-packages\\seaborn\\_decorators.py:36: FutureWarning: Pass the following variable as a keyword arg: x. From version 0.12, the only valid positional argument will be `data`, and passing other arguments without an explicit keyword will result in an error or misinterpretation.\n",
      "  warnings.warn(\n"
     ]
    },
    {
     "name": "stdout",
     "output_type": "stream",
     "text": [
      "count      1083.00\n",
      "mean     746539.19\n",
      "std      334597.37\n",
      "min      369900.00\n",
      "25%      565000.00\n",
      "50%      659000.00\n",
      "75%      799947.50\n",
      "max     4280000.00\n",
      "Name: Listing_price, dtype: float64\n"
     ]
    },
    {
     "data": {
      "image/png": "[encoded data removed]",
      "text/plain": [
       "<Figure size 432x288 with 1 Axes>"
      ]
     },
     "metadata": {
      "needs_background": "light"
     },
     "output_type": "display_data"
    }
   ],
   "source": [
    "pd.options.display.float_format = \"{:.2f}\".format #to print entire numbers\n",
    "\n",
    "sns.boxplot(df['Listing_price'])\n",
    "print(df['Listing_price'].describe())"
   ]
  },
  {
   "cell_type": "code",
   "execution_count": 46,
   "metadata": {},
   "outputs": [],
   "source": [
    "# Determine capital gain\n",
    "df['Estimated_capital_gain'] = pd.Series(df[\"Sigma_estimate\"]-df[\"Listing_price\"])"
   ]
  },
  {
   "cell_type": "code",
   "execution_count": 48,
   "metadata": {},
   "outputs": [
    {
     "data": {
      "text/plain": [
       "(1083, 29)"
      ]
     },
     "execution_count": 48,
     "metadata": {},
     "output_type": "execute_result"
    }
   ],
   "source": [
    "df.shape"
   ]
  },
  {
   "cell_type": "code",
   "execution_count": null,
   "metadata": {},
   "outputs": [],
   "source": [
    "sns.scatterplot(x = df['Maintenance'], y = df['Listing_price'])"
   ]
  },
  {
   "cell_type": "code",
   "execution_count": null,
   "metadata": {},
   "outputs": [],
   "source": [
    "sns.scatterplot(x = my_df['Tax'], y = df['Listing_price'])"
   ]
  },
  {
   "cell_type": "code",
   "execution_count": null,
   "metadata": {},
   "outputs": [],
   "source": [
    "sns.scatterplot(x = my_df['Rental_estimate'], y = my_df['Listing_price'])"
   ]
  },
  {
   "cell_type": "code",
   "execution_count": null,
   "metadata": {},
   "outputs": [],
   "source": [
    "sns.scatterplot(x = my_df['Tax'], y = my_df['Size'])"
   ]
  },
  {
   "cell_type": "code",
   "execution_count": null,
   "metadata": {},
   "outputs": [],
   "source": [
    "sns.scatterplot(x = my_df['Maintenance'], y = my_df['Building_age'])"
   ]
  },
  {
   "cell_type": "code",
   "execution_count": null,
   "metadata": {},
   "outputs": [],
   "source": [
    "sns.scatterplot(x = my_df['Days_on_market'], y = my_df['Listing_price'])"
   ]
  },
  {
   "cell_type": "code",
   "execution_count": null,
   "metadata": {},
   "outputs": [],
   "source": [
    "sns.scatterplot(x = my_df['Sigma_estimate'], y = my_df['Listing_price'])"
   ]
  },
  {
   "cell_type": "code",
   "execution_count": null,
   "metadata": {},
   "outputs": [],
   "source": [
    "sns.boxplot(x = my_df['Community'], y = my_df['Days_on_market'])\n",
    "# df.groupby('Exposure')['Listing_price'].describe().sort_values(by = '50%', ascending = False)"
   ]
  },
  {
   "cell_type": "code",
   "execution_count": null,
   "metadata": {},
   "outputs": [],
   "source": [
    "sns.scatterplot(x = my_df['Sigma_estimate'], y = my_df['Listing_price'], hue = my_df['Community'])\n",
    "plt.legend(bbox_to_anchor=(1.05, 1), loc=2, borderaxespad=0.)"
   ]
  },
  {
   "cell_type": "code",
   "execution_count": null,
   "metadata": {},
   "outputs": [],
   "source": [
    "sns.scatterplot(x = my_df['Washroom'], y = my_df['Listing_price'])"
   ]
  },
  {
   "cell_type": "code",
   "execution_count": null,
   "metadata": {},
   "outputs": [],
   "source": [
    "sns.scatterplot(x = my_df['Parking'], y = my_df['Listing_price'])"
   ]
  },
  {
   "cell_type": "code",
   "execution_count": null,
   "metadata": {},
   "outputs": [],
   "source": [
    "sns.boxplot(x = my_df['Exposure'], y = my_df['Listing_price'])\n",
    "df.groupby('Exposure')['Listing_price'].describe().sort_values(by = '50%', ascending = False)"
   ]
  },
  {
   "cell_type": "code",
   "execution_count": null,
   "metadata": {},
   "outputs": [],
   "source": [
    "my_df['Exposure'].value_counts().plot(kind='bar')"
   ]
  },
  {
   "cell_type": "code",
   "execution_count": null,
   "metadata": {},
   "outputs": [],
   "source": [
    "sns.countplot(x = 'Exposure', data = my_df)"
   ]
  },
  {
   "cell_type": "code",
   "execution_count": null,
   "metadata": {},
   "outputs": [],
   "source": [
    "my_df.groupby('Bedroom')['Listing_price'].count().sort_values(ascending=False)"
   ]
  },
  {
   "cell_type": "code",
   "execution_count": null,
   "metadata": {},
   "outputs": [],
   "source": [
    "print(my_df['Bedroom'].value_counts().sort_values(ascending=False))\n",
    "label = my_df['Bedroom'].value_counts().sort_values(ascending=False).index\n",
    "plt.pie(my_df['Bedroom'].value_counts().sort_values(ascending=False), labels = label,autopct='%1.1f%%', startangle=350)\n",
    "plt.axis('equal')\n",
    "plt.show()"
   ]
  },
  {
   "cell_type": "code",
   "execution_count": null,
   "metadata": {},
   "outputs": [],
   "source": [
    "sns.distplot(my_df['Sigma_estimate'])\n",
    "sns.distplot(my_df['Listing_price'])"
   ]
  },
  {
   "cell_type": "code",
   "execution_count": null,
   "metadata": {},
   "outputs": [],
   "source": [
    "sns.distplot(my_df['Estimated_capital_gain'])\n",
    "print(my_df['Estimated_capital_gain'].describe())"
   ]
  },
  {
   "cell_type": "code",
   "execution_count": null,
   "metadata": {},
   "outputs": [],
   "source": [
    "sns.pairplot(my_df)"
   ]
  }
 ],
 "metadata": {
  "kernelspec": {
   "display_name": "Python 3",
   "language": "python",
   "name": "python3"
  },
  "language_info": {
   "codemirror_mode": {
    "name": "ipython",
    "version": 3
   },
   "file_extension": ".py",
   "mimetype": "text/x-python",
   "name": "python",
   "nbconvert_exporter": "python",
   "pygments_lexer": "ipython3",
   "version": "3.8.3"
  }
 },
 "nbformat": 4,
 "nbformat_minor": 4
}
